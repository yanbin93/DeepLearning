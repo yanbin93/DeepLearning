{
 "cells": [
  {
   "cell_type": "markdown",
   "metadata": {},
   "source": [
    "## 为什么全连接层变多，准确率迅速下降？\n",
    "** 过拟合？**"
   ]
  },
  {
   "cell_type": "code",
   "execution_count": 1,
   "metadata": {},
   "outputs": [
    {
     "name": "stdout",
     "output_type": "stream",
     "text": [
      "Extracting /home/yanbin/data/MNIST_data/train-images-idx3-ubyte.gz\n",
      "Extracting /home/yanbin/data/MNIST_data/train-labels-idx1-ubyte.gz\n",
      "Extracting /home/yanbin/data/MNIST_data/t10k-images-idx3-ubyte.gz\n",
      "Extracting /home/yanbin/data/MNIST_data/t10k-labels-idx1-ubyte.gz\n",
      "step 0, training accuracy 0.07\n",
      "step 150, training accuracy 0.83\n",
      "step 300, training accuracy 0.96\n",
      "step 450, training accuracy 0.92\n",
      "step 600, training accuracy 0.95\n",
      "step 750, training accuracy 0.97\n",
      "step 900, training accuracy 0.96\n",
      "step 1050, training accuracy 0.91\n",
      "step 1200, training accuracy 0.97\n",
      "step 1350, training accuracy 0.98\n",
      "step 1500, training accuracy 0.96\n",
      "step 1650, training accuracy 0.94\n",
      "step 1800, training accuracy 0.98\n",
      "step 1950, training accuracy 0.97\n",
      "step 2100, training accuracy 0.98\n",
      "step 2250, training accuracy 0.97\n",
      "step 2400, training accuracy 0.99\n",
      "step 2550, training accuracy 0.99\n",
      "step 2700, training accuracy 0.97\n",
      "step 2850, training accuracy 0.15\n",
      "0.098\n"
     ]
    }
   ],
   "source": [
    "import tensorflow as tf\n",
    "from tensorflow.examples.tutorials.mnist import input_data\n",
    "mnist = input_data.read_data_sets(\"/home/yanbin/data/MNIST_data/\",one_hot=True)\n",
    "sess = tf.InteractiveSession()\n",
    "in_units = 784\n",
    "h1_units = 50\n",
    "h2_units = 50\n",
    "h3_units = 300\n",
    "out_units = 10\n",
    "W1 = tf.Variable(tf.truncated_normal([in_units,h1_units],stddev=0.1))\n",
    "b1 = tf.Variable(tf.zeros([h1_units]))\n",
    "# W2 = tf.Variable(tf.zeros([h1_units,h2_units]))\n",
    "# b2 = tf.Variable(tf.zeros([h2_units]))\n",
    "# W3 = tf.Variable(tf.zeros([h2_units,h3_units]))\n",
    "# b3 = tf.Variable(tf.zeros([h3_units]))\n",
    "W4 = tf.Variable(tf.zeros([h2_units,out_units]))\n",
    "b4 = tf.Variable(tf.zeros([out_units]))\n",
    "x = tf.placeholder(tf.float32,[None,in_units])\n",
    "keep_prob = tf.placeholder(tf.float32)\n",
    "hidden1 = tf.nn.relu(tf.matmul(x,W1)+b1)\n",
    "hidden1_drop = tf.nn.dropout(hidden1,keep_prob)\n",
    "# hidden2 = tf.nn.relu(tf.matmul(hidden1_drop,W2)+b2)\n",
    "# hidden2_drop = tf.nn.dropout(hidden2,keep_prob)\n",
    "# hidden3 = tf.nn.relu(tf.matmul(hidden2_drop,W3)+b3)\n",
    "# hidden3_drop = tf.nn.dropout(hidden3,keep_prob)\n",
    "y = tf.nn.softmax(tf.matmul(hidden1_drop,W4)+b4)\n",
    "y_ = tf.placeholder(tf.float32,[None,out_units])\n",
    "cross_entropy = tf.reduce_mean(-tf.reduce_sum(y_*tf.log(y),reduction_indices=[1]))\n",
    "train_step = tf.train.AdagradOptimizer(0.3).minimize(cross_entropy)\n",
    "tf.global_variables_initializer().run()\n",
    "correct_prediction = tf.equal(tf.argmax(y,1),tf.argmax(y_,1))\n",
    "accuracy = tf.reduce_mean(tf.cast(correct_prediction,tf.float32))\n",
    "for i in range(3000):\n",
    "    batch_xs,batch_ys = mnist.train.next_batch(100)\n",
    "    if i%150 == 0:\n",
    "        train_accuracy = accuracy.eval(feed_dict={\n",
    "                x:batch_xs, y_: batch_ys, keep_prob: 1.0})\n",
    "        print \"step %d, training accuracy %g\" %(i, train_accuracy)\n",
    "    train_step.run({x:batch_xs,y_:batch_ys,keep_prob:0.75})\n",
    "\n",
    "print accuracy.eval({x:mnist.test.images,y_:mnist.test.labels,keep_prob:1.0})"
   ]
  }
 ],
 "metadata": {
  "kernelspec": {
   "display_name": "Python 2",
   "language": "python",
   "name": "python2"
  },
  "language_info": {
   "codemirror_mode": {
    "name": "ipython",
    "version": 2
   },
   "file_extension": ".py",
   "mimetype": "text/x-python",
   "name": "python",
   "nbconvert_exporter": "python",
   "pygments_lexer": "ipython2",
   "version": "2.7.12+"
  }
 },
 "nbformat": 4,
 "nbformat_minor": 2
}
