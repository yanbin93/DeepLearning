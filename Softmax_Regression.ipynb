{
 "cells": [
  {
   "cell_type": "code",
   "execution_count": 3,
   "metadata": {},
   "outputs": [
    {
     "name": "stdout",
     "output_type": "stream",
     "text": [
      "Extracting /home/yanbin/data/MNIST_data/train-images-idx3-ubyte.gz\n",
      "Extracting /home/yanbin/data/MNIST_data/train-labels-idx1-ubyte.gz\n",
      "Extracting /home/yanbin/data/MNIST_data/t10k-images-idx3-ubyte.gz\n",
      "Extracting /home/yanbin/data/MNIST_data/t10k-labels-idx1-ubyte.gz\n",
      "(55000, 784) (55000, 10)\n",
      "(10000, 784) (10000, 10)\n",
      "(5000, 784) (5000, 10)\n",
      "step 0, training accuracy 0.08\n",
      "step 100, training accuracy 0.91\n",
      "step 200, training accuracy 0.89\n",
      "step 300, training accuracy 0.92\n",
      "step 400, training accuracy 0.93\n",
      "step 500, training accuracy 0.91\n",
      "step 600, training accuracy 0.93\n",
      "step 700, training accuracy 0.94\n",
      "step 800, training accuracy 0.9\n",
      "step 900, training accuracy 0.89\n",
      "0.9187\n"
     ]
    }
   ],
   "source": [
    "from tensorflow.examples.tutorials.mnist import input_data\n",
    "mnist = input_data.read_data_sets(\"/home/yanbin/data/MNIST_data/\",one_hot=True)\n",
    "print mnist.train.images.shape,mnist.train.labels.shape\n",
    "print mnist.test.images.shape,mnist.test.labels.shape\n",
    "print mnist.validation.images.shape,mnist.validation.labels.shape\n",
    "import tensorflow as tf\n",
    "sess = tf.InteractiveSession()\n",
    "x = tf.placeholder(tf.float32,[None,784])\n",
    "W = tf.Variable(tf.zeros([784,10]))\n",
    "b = tf.Variable(tf.zeros([10]))\n",
    "y = tf.nn.softmax(tf.matmul(x,W)+b)\n",
    "y_ = tf.placeholder(tf.float32,[None,10])\n",
    "cross_entropy = tf.reduce_mean(-tf.reduce_sum(y_*tf.log(y),reduction_indices=[1]))\n",
    "train_step = tf.train.GradientDescentOptimizer(0.5).minimize(cross_entropy)\n",
    "tf.global_variables_initializer().run()\n",
    "correct_prediction = tf.equal(tf.argmax(y,1),tf.argmax(y_,1))\n",
    "accuracy = tf.reduce_mean(tf.cast(correct_prediction,tf.float32))\n",
    "for i in range(1000):\n",
    "    batch_xs,batch_ys = mnist.train.next_batch(100)\n",
    "    if i%100==0:\n",
    "        train_accuracy = accuracy.eval({x:batch_xs,y_:batch_ys})\n",
    "        print \"step %d, training accuracy %g\" %(i, train_accuracy)\n",
    "    train_step.run({x:batch_xs,y_:batch_ys})\n",
    "\n",
    "print accuracy.eval({x:mnist.test.images,y_:mnist.test.labels})\n"
   ]
  }
 ],
 "metadata": {
  "kernelspec": {
   "display_name": "Python 2",
   "language": "python",
   "name": "python2"
  },
  "language_info": {
   "codemirror_mode": {
    "name": "ipython",
    "version": 2
   },
   "file_extension": ".py",
   "mimetype": "text/x-python",
   "name": "python",
   "nbconvert_exporter": "python",
   "pygments_lexer": "ipython2",
   "version": "2.7.12+"
  }
 },
 "nbformat": 4,
 "nbformat_minor": 2
}
