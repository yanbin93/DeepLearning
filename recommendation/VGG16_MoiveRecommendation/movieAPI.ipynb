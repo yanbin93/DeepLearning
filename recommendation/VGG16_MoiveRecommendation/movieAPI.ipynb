{
 "cells": [
  {
   "cell_type": "code",
   "execution_count": 36,
   "metadata": {},
   "outputs": [
    {
     "ename": "ConnectionError",
     "evalue": "HTTPConnectionPool(host='api.themoviedb.org', port=80): Max retries exceeded with url: /3/configuration?api_key=e0ec617d1ba0c2c3adb4f43df47f9ab4 (Caused by NewConnectionError('<requests.packages.urllib3.connection.HTTPConnection object at 0x7f7a4af7dfd0>: Failed to establish a new connection: [Errno -2] Name or service not known',))",
     "output_type": "error",
     "traceback": [
      "\u001b[0;31m---------------------------------------------------------------------------\u001b[0m",
      "\u001b[0;31mConnectionError\u001b[0m                           Traceback (most recent call last)",
      "\u001b[0;32m<ipython-input-36-a228bc97f7cd>\u001b[0m in \u001b[0;36m<module>\u001b[0;34m()\u001b[0m\n\u001b[1;32m     83\u001b[0m     \u001b[0mmovieDb\u001b[0m \u001b[0;34m=\u001b[0m \u001b[0mMovieDB\u001b[0m\u001b[0;34m(\u001b[0m\u001b[0;34m)\u001b[0m\u001b[0;34m\u001b[0m\u001b[0m\n\u001b[1;32m     84\u001b[0m     \u001b[0mmvs\u001b[0m \u001b[0;34m=\u001b[0m \u001b[0mmovieDb\u001b[0m\u001b[0;34m.\u001b[0m\u001b[0mgetIDs\u001b[0m\u001b[0;34m(\u001b[0m\u001b[0;34m)\u001b[0m\u001b[0;34m\u001b[0m\u001b[0m\n\u001b[0;32m---> 85\u001b[0;31m     \u001b[0mURL_IMDB\u001b[0m \u001b[0;34m=\u001b[0m \u001b[0mmovieDb\u001b[0m\u001b[0;34m.\u001b[0m\u001b[0mdown_poster\u001b[0m\u001b[0;34m(\u001b[0m\u001b[0mmvs\u001b[0m\u001b[0;34m)\u001b[0m\u001b[0;34m\u001b[0m\u001b[0m\n\u001b[0m\u001b[1;32m     86\u001b[0m \u001b[0;31m#   url=movieDb.get_poster(mvs[0])\u001b[0m\u001b[0;34m\u001b[0m\u001b[0;34m\u001b[0m\u001b[0m\n",
      "\u001b[0;32m<ipython-input-36-a228bc97f7cd>\u001b[0m in \u001b[0;36mdown_poster\u001b[0;34m(self, mvs, poster_pt)\u001b[0m\n\u001b[1;32m     53\u001b[0m \u001b[0;34m\u001b[0m\u001b[0m\n\u001b[1;32m     54\u001b[0m     \u001b[0;32mdef\u001b[0m \u001b[0mdown_poster\u001b[0m\u001b[0;34m(\u001b[0m\u001b[0mself\u001b[0m\u001b[0;34m,\u001b[0m\u001b[0mmvs\u001b[0m\u001b[0;34m,\u001b[0m\u001b[0mposter_pt\u001b[0m\u001b[0;34m=\u001b[0m\u001b[0;34m'./poster/'\u001b[0m\u001b[0;34m)\u001b[0m\u001b[0;34m:\u001b[0m\u001b[0;34m\u001b[0m\u001b[0m\n\u001b[0;32m---> 55\u001b[0;31m         \u001b[0mbase_url\u001b[0m \u001b[0;34m=\u001b[0m \u001b[0mself\u001b[0m\u001b[0;34m.\u001b[0m\u001b[0mgetImageBasePath\u001b[0m\u001b[0;34m(\u001b[0m\u001b[0;34m)\u001b[0m\u001b[0;34m\u001b[0m\u001b[0m\n\u001b[0m\u001b[1;32m     56\u001b[0m         \u001b[0mtotal_mvs\u001b[0m \u001b[0;34m=\u001b[0m \u001b[0mlen\u001b[0m\u001b[0;34m(\u001b[0m\u001b[0mmvs\u001b[0m\u001b[0;34m)\u001b[0m\u001b[0;34m\u001b[0m\u001b[0m\n\u001b[1;32m     57\u001b[0m         \u001b[0mURL\u001b[0m \u001b[0;34m=\u001b[0m \u001b[0;34m[\u001b[0m\u001b[0;36m0\u001b[0m\u001b[0;34m]\u001b[0m\u001b[0;34m*\u001b[0m\u001b[0mtotal_mvs\u001b[0m\u001b[0;34m\u001b[0m\u001b[0m\n",
      "\u001b[0;32m<ipython-input-36-a228bc97f7cd>\u001b[0m in \u001b[0;36mgetImageBasePath\u001b[0;34m(self, size)\u001b[0m\n\u001b[1;32m     18\u001b[0m     \u001b[0;32mdef\u001b[0m \u001b[0mgetImageBasePath\u001b[0m\u001b[0;34m(\u001b[0m\u001b[0mself\u001b[0m\u001b[0;34m,\u001b[0m\u001b[0msize\u001b[0m\u001b[0;34m=\u001b[0m\u001b[0;34m'w185'\u001b[0m\u001b[0;34m)\u001b[0m\u001b[0;34m:\u001b[0m\u001b[0;34m\u001b[0m\u001b[0m\n\u001b[1;32m     19\u001b[0m         \u001b[0mproxies\u001b[0m \u001b[0;34m=\u001b[0m \u001b[0;34m{\u001b[0m \u001b[0;34m\"http\"\u001b[0m\u001b[0;34m:\u001b[0m \u001b[0;34m\"http://localhost:1080\"\u001b[0m\u001b[0;34m,\u001b[0m \u001b[0;34m\"https\"\u001b[0m\u001b[0;34m:\u001b[0m \u001b[0;34m\"http://1ocalhost:1080\"\u001b[0m\u001b[0;34m,\u001b[0m \u001b[0;34m}\u001b[0m\u001b[0;34m\u001b[0m\u001b[0m\n\u001b[0;32m---> 20\u001b[0;31m         \u001b[0mresponse\u001b[0m \u001b[0;34m=\u001b[0m \u001b[0mrequests\u001b[0m\u001b[0;34m.\u001b[0m\u001b[0mget\u001b[0m\u001b[0;34m(\u001b[0m\u001b[0mself\u001b[0m\u001b[0;34m.\u001b[0m\u001b[0murl\u001b[0m\u001b[0;34m+\u001b[0m\u001b[0;34m'/configuration'\u001b[0m\u001b[0;34m,\u001b[0m\u001b[0mparams\u001b[0m\u001b[0;34m=\u001b[0m\u001b[0mself\u001b[0m\u001b[0;34m.\u001b[0m\u001b[0mpayload\u001b[0m\u001b[0;34m,\u001b[0m\u001b[0mheaders\u001b[0m\u001b[0;34m=\u001b[0m\u001b[0mself\u001b[0m\u001b[0;34m.\u001b[0m\u001b[0mheaders\u001b[0m\u001b[0;34m)\u001b[0m\u001b[0;34m\u001b[0m\u001b[0m\n\u001b[0m\u001b[1;32m     21\u001b[0m         \u001b[0mresponse\u001b[0m \u001b[0;34m=\u001b[0m \u001b[0mjson\u001b[0m\u001b[0;34m.\u001b[0m\u001b[0mloads\u001b[0m\u001b[0;34m(\u001b[0m\u001b[0mresponse\u001b[0m\u001b[0;34m.\u001b[0m\u001b[0mtext\u001b[0m\u001b[0;34m)\u001b[0m\u001b[0;34m\u001b[0m\u001b[0m\n\u001b[1;32m     22\u001b[0m         \u001b[0mbase_url\u001b[0m \u001b[0;34m=\u001b[0m \u001b[0mresponse\u001b[0m\u001b[0;34m[\u001b[0m\u001b[0;34m'images'\u001b[0m\u001b[0;34m]\u001b[0m\u001b[0;34m[\u001b[0m\u001b[0;34m'base_url'\u001b[0m\u001b[0;34m]\u001b[0m\u001b[0;34m+\u001b[0m\u001b[0;34m'w185'\u001b[0m\u001b[0;34m\u001b[0m\u001b[0m\n",
      "\u001b[0;32m/usr/local/lib/python2.7/dist-packages/requests/api.pyc\u001b[0m in \u001b[0;36mget\u001b[0;34m(url, params, **kwargs)\u001b[0m\n\u001b[1;32m     70\u001b[0m \u001b[0;34m\u001b[0m\u001b[0m\n\u001b[1;32m     71\u001b[0m     \u001b[0mkwargs\u001b[0m\u001b[0;34m.\u001b[0m\u001b[0msetdefault\u001b[0m\u001b[0;34m(\u001b[0m\u001b[0;34m'allow_redirects'\u001b[0m\u001b[0;34m,\u001b[0m \u001b[0mTrue\u001b[0m\u001b[0;34m)\u001b[0m\u001b[0;34m\u001b[0m\u001b[0m\n\u001b[0;32m---> 72\u001b[0;31m     \u001b[0;32mreturn\u001b[0m \u001b[0mrequest\u001b[0m\u001b[0;34m(\u001b[0m\u001b[0;34m'get'\u001b[0m\u001b[0;34m,\u001b[0m \u001b[0murl\u001b[0m\u001b[0;34m,\u001b[0m \u001b[0mparams\u001b[0m\u001b[0;34m=\u001b[0m\u001b[0mparams\u001b[0m\u001b[0;34m,\u001b[0m \u001b[0;34m**\u001b[0m\u001b[0mkwargs\u001b[0m\u001b[0;34m)\u001b[0m\u001b[0;34m\u001b[0m\u001b[0m\n\u001b[0m\u001b[1;32m     73\u001b[0m \u001b[0;34m\u001b[0m\u001b[0m\n\u001b[1;32m     74\u001b[0m \u001b[0;34m\u001b[0m\u001b[0m\n",
      "\u001b[0;32m/usr/local/lib/python2.7/dist-packages/requests/api.pyc\u001b[0m in \u001b[0;36mrequest\u001b[0;34m(method, url, **kwargs)\u001b[0m\n\u001b[1;32m     56\u001b[0m     \u001b[0;31m# cases, and look like a memory leak in others.\u001b[0m\u001b[0;34m\u001b[0m\u001b[0;34m\u001b[0m\u001b[0m\n\u001b[1;32m     57\u001b[0m     \u001b[0;32mwith\u001b[0m \u001b[0msessions\u001b[0m\u001b[0;34m.\u001b[0m\u001b[0mSession\u001b[0m\u001b[0;34m(\u001b[0m\u001b[0;34m)\u001b[0m \u001b[0;32mas\u001b[0m \u001b[0msession\u001b[0m\u001b[0;34m:\u001b[0m\u001b[0;34m\u001b[0m\u001b[0m\n\u001b[0;32m---> 58\u001b[0;31m         \u001b[0;32mreturn\u001b[0m \u001b[0msession\u001b[0m\u001b[0;34m.\u001b[0m\u001b[0mrequest\u001b[0m\u001b[0;34m(\u001b[0m\u001b[0mmethod\u001b[0m\u001b[0;34m=\u001b[0m\u001b[0mmethod\u001b[0m\u001b[0;34m,\u001b[0m \u001b[0murl\u001b[0m\u001b[0;34m=\u001b[0m\u001b[0murl\u001b[0m\u001b[0;34m,\u001b[0m \u001b[0;34m**\u001b[0m\u001b[0mkwargs\u001b[0m\u001b[0;34m)\u001b[0m\u001b[0;34m\u001b[0m\u001b[0m\n\u001b[0m\u001b[1;32m     59\u001b[0m \u001b[0;34m\u001b[0m\u001b[0m\n\u001b[1;32m     60\u001b[0m \u001b[0;34m\u001b[0m\u001b[0m\n",
      "\u001b[0;32m/usr/local/lib/python2.7/dist-packages/requests/sessions.pyc\u001b[0m in \u001b[0;36mrequest\u001b[0;34m(self, method, url, params, data, headers, cookies, files, auth, timeout, allow_redirects, proxies, hooks, stream, verify, cert, json)\u001b[0m\n\u001b[1;32m    516\u001b[0m         }\n\u001b[1;32m    517\u001b[0m         \u001b[0msend_kwargs\u001b[0m\u001b[0;34m.\u001b[0m\u001b[0mupdate\u001b[0m\u001b[0;34m(\u001b[0m\u001b[0msettings\u001b[0m\u001b[0;34m)\u001b[0m\u001b[0;34m\u001b[0m\u001b[0m\n\u001b[0;32m--> 518\u001b[0;31m         \u001b[0mresp\u001b[0m \u001b[0;34m=\u001b[0m \u001b[0mself\u001b[0m\u001b[0;34m.\u001b[0m\u001b[0msend\u001b[0m\u001b[0;34m(\u001b[0m\u001b[0mprep\u001b[0m\u001b[0;34m,\u001b[0m \u001b[0;34m**\u001b[0m\u001b[0msend_kwargs\u001b[0m\u001b[0;34m)\u001b[0m\u001b[0;34m\u001b[0m\u001b[0m\n\u001b[0m\u001b[1;32m    519\u001b[0m \u001b[0;34m\u001b[0m\u001b[0m\n\u001b[1;32m    520\u001b[0m         \u001b[0;32mreturn\u001b[0m \u001b[0mresp\u001b[0m\u001b[0;34m\u001b[0m\u001b[0m\n",
      "\u001b[0;32m/usr/local/lib/python2.7/dist-packages/requests/sessions.pyc\u001b[0m in \u001b[0;36msend\u001b[0;34m(self, request, **kwargs)\u001b[0m\n\u001b[1;32m    637\u001b[0m \u001b[0;34m\u001b[0m\u001b[0m\n\u001b[1;32m    638\u001b[0m         \u001b[0;31m# Send the request\u001b[0m\u001b[0;34m\u001b[0m\u001b[0;34m\u001b[0m\u001b[0m\n\u001b[0;32m--> 639\u001b[0;31m         \u001b[0mr\u001b[0m \u001b[0;34m=\u001b[0m \u001b[0madapter\u001b[0m\u001b[0;34m.\u001b[0m\u001b[0msend\u001b[0m\u001b[0;34m(\u001b[0m\u001b[0mrequest\u001b[0m\u001b[0;34m,\u001b[0m \u001b[0;34m**\u001b[0m\u001b[0mkwargs\u001b[0m\u001b[0;34m)\u001b[0m\u001b[0;34m\u001b[0m\u001b[0m\n\u001b[0m\u001b[1;32m    640\u001b[0m \u001b[0;34m\u001b[0m\u001b[0m\n\u001b[1;32m    641\u001b[0m         \u001b[0;31m# Total elapsed time of the request (approximately)\u001b[0m\u001b[0;34m\u001b[0m\u001b[0;34m\u001b[0m\u001b[0m\n",
      "\u001b[0;32m/usr/local/lib/python2.7/dist-packages/requests/adapters.pyc\u001b[0m in \u001b[0;36msend\u001b[0;34m(self, request, stream, timeout, verify, cert, proxies)\u001b[0m\n\u001b[1;32m    500\u001b[0m                 \u001b[0;32mraise\u001b[0m \u001b[0mProxyError\u001b[0m\u001b[0;34m(\u001b[0m\u001b[0me\u001b[0m\u001b[0;34m,\u001b[0m \u001b[0mrequest\u001b[0m\u001b[0;34m=\u001b[0m\u001b[0mrequest\u001b[0m\u001b[0;34m)\u001b[0m\u001b[0;34m\u001b[0m\u001b[0m\n\u001b[1;32m    501\u001b[0m \u001b[0;34m\u001b[0m\u001b[0m\n\u001b[0;32m--> 502\u001b[0;31m             \u001b[0;32mraise\u001b[0m \u001b[0mConnectionError\u001b[0m\u001b[0;34m(\u001b[0m\u001b[0me\u001b[0m\u001b[0;34m,\u001b[0m \u001b[0mrequest\u001b[0m\u001b[0;34m=\u001b[0m\u001b[0mrequest\u001b[0m\u001b[0;34m)\u001b[0m\u001b[0;34m\u001b[0m\u001b[0m\n\u001b[0m\u001b[1;32m    503\u001b[0m \u001b[0;34m\u001b[0m\u001b[0m\n\u001b[1;32m    504\u001b[0m         \u001b[0;32mexcept\u001b[0m \u001b[0mClosedPoolError\u001b[0m \u001b[0;32mas\u001b[0m \u001b[0me\u001b[0m\u001b[0;34m:\u001b[0m\u001b[0;34m\u001b[0m\u001b[0m\n",
      "\u001b[0;31mConnectionError\u001b[0m: HTTPConnectionPool(host='api.themoviedb.org', port=80): Max retries exceeded with url: /3/configuration?api_key=e0ec617d1ba0c2c3adb4f43df47f9ab4 (Caused by NewConnectionError('<requests.packages.urllib3.connection.HTTPConnection object at 0x7f7a4af7dfd0>: Failed to establish a new connection: [Errno -2] Name or service not known',))"
     ]
    }
   ],
   "source": [
    "#/usr/bin/env python\n",
    "#-*- coding:utf-8-*-\n",
    "import requests\n",
    "import json\n",
    "import os\n",
    "import urllib\n",
    "import os.path\n",
    "import pickle\n",
    "import pandas as pd\n",
    "class MovieDB(object):\n",
    "    def __init__(self,url = 'http://api.themoviedb.org/3',\n",
    "                    headers = {'Accept':'application/json'},\n",
    "                    payload = {'api_key':'e0ec617d1ba0c2c3adb4f43df47f9ab4'}):\n",
    "        self.url = url\n",
    "        self.headers = headers\n",
    "        self.payload = payload\n",
    "        \n",
    "    def getImageBasePath(self,size='w185'):\n",
    "        proxies = { \"http\": \"http://localhost:1080\", \"https\": \"http://1ocalhost:1080\", }   \n",
    "        response = requests.get(self.url+'/configuration',params=self.payload,headers=self.headers)\n",
    "        response = json.loads(response.text)\n",
    "        base_url = response['images']['base_url']+'w185'\n",
    "        return base_url\n",
    "    \n",
    "    def get_poster(self,imdb):\n",
    "        #query themovie.org API for movie poster path.\n",
    "        base_url = self.getImageBasePath()\n",
    "        file_path = ''\n",
    "        imdb_id = 'tt0{0}'.format(imdb)\n",
    "        movie_url = self.url+'/movie/{:}/images'.format(imdb_id)\n",
    "        response = requests.get(movie_url,params=self.payload,headers=self.headers)\n",
    "        try:\n",
    "            file_path = json.loads(response.text)['posters'][0]['file_path']\n",
    "        except:\n",
    "            print('Failed to get url for imdb: {0}'.format(imdb))\n",
    "        return base_url+file_path\n",
    "    \n",
    "    def getIDs(self,link_f=\"./ml-latest-small/links.csv\",download_posters=1000):\n",
    "        df_id = pd.read_csv(link_f,sep=',')\n",
    "        idx_to_mv = {}\n",
    "        for row in df_id.itertuples():\n",
    "            idx_to_mv[row[1]-1] = row[2]\n",
    "        mvs = [0]*len(idx_to_mv.keys())\n",
    "        for i in range(len(mvs)):\n",
    "            if i in idx_to_mv.keys() and len(str(idx_to_mv[i])) == 6:\n",
    "                mvs[i] = idx_to_mv[i]\n",
    "        mvs = list(filter(lambda imdb:imdb!=0,mvs))\n",
    "#         shuffle_index = range(len(mvs))\n",
    "#         np.random.shuffle(shuffle_index)\n",
    "#         mvs = [mvs[i] for i in mvs]\n",
    "        mvs = mvs[:download_posters]\n",
    "        return mvs\n",
    "    \n",
    "    def down_poster(self,mvs,poster_pt='./poster/'):\n",
    "        base_url = self.getImageBasePath()\n",
    "        total_mvs = len(mvs)\n",
    "        URL = [0]*total_mvs\n",
    "        URL_IMDB = {'url':[],'imdb':[],'pic':[]}\n",
    "        i=0\n",
    "        for m in mvs:\n",
    "            if(os.path.exists(poster_pt+str(i)+'.jpg')):\n",
    "                print('Skip downloading exists jpg: {0}.jpg'.format(poster_pt+str(i)))\n",
    "                i += 1\n",
    "                continue\n",
    "            URL[i] = self.get_poster(m)\n",
    "            if(URL[i] == base_url):\n",
    "                print('Bad imdb id: {0}'.format(m))\n",
    "                mvs.remove(m)\n",
    "                continue\n",
    "            print('No.{0}: Downloading jpg(imdb {1}) {2}'.format(i,m,URL[i]))\n",
    "            urllib.urlretrieve(URL[i],poster_pt+str(i)+'.jpg')\n",
    "            URL_IMDB['url'].append(URL[i])\n",
    "            URL_IMDB['imdb'].append(m)\n",
    "            URL_IMDB['pic'].append(i)\n",
    "            i += 1\n",
    "        output = open('URL_IMDB.pkl', 'wb')\n",
    "        # Pickle dictionary using protocol 0.\n",
    "        pickle.dump(URL_IMDB, output)\n",
    "        # Pickle the list using the highest protocol available.\n",
    "        output.close()\n",
    "        return URL_IMDB\n",
    "if __name__ == '__main__':        \n",
    "    movieDb = MovieDB()\n",
    "    mvs = movieDb.getIDs()\n",
    "    URL_IMDB = movieDb.down_poster(mvs)\n",
    "#   url=movieDb.get_poster(mvs[0])"
   ]
  },
  {
   "cell_type": "code",
   "execution_count": 3,
   "metadata": {},
   "outputs": [
    {
     "ename": "KeyboardInterrupt",
     "evalue": "",
     "output_type": "error",
     "traceback": [
      "\u001b[0;31m---------------------------------------------------------------------------\u001b[0m",
      "\u001b[0;31mKeyboardInterrupt\u001b[0m                         Traceback (most recent call last)",
      "\u001b[0;32m<ipython-input-3-f4ab51434e41>\u001b[0m in \u001b[0;36m<module>\u001b[0;34m()\u001b[0m\n\u001b[1;32m      1\u001b[0m \u001b[0;32mimport\u001b[0m \u001b[0mrequests\u001b[0m\u001b[0;34m\u001b[0m\u001b[0m\n\u001b[1;32m      2\u001b[0m \u001b[0mproxies\u001b[0m \u001b[0;34m=\u001b[0m \u001b[0;34m{\u001b[0m \u001b[0;34m\"http\"\u001b[0m\u001b[0;34m:\u001b[0m \u001b[0;34m\"http://localhost:1080\"\u001b[0m\u001b[0;34m,\u001b[0m \u001b[0;34m\"https\"\u001b[0m\u001b[0;34m:\u001b[0m \u001b[0;34m\"http://localhost:1080\"\u001b[0m\u001b[0;34m,\u001b[0m \u001b[0;34m}\u001b[0m\u001b[0;34m\u001b[0m\u001b[0m\n\u001b[0;32m----> 3\u001b[0;31m \u001b[0mrequests\u001b[0m\u001b[0;34m.\u001b[0m\u001b[0mget\u001b[0m\u001b[0;34m(\u001b[0m\u001b[0;34m\"http://ip.chinaz.com/\"\u001b[0m\u001b[0;34m,\u001b[0m \u001b[0mproxies\u001b[0m\u001b[0;34m=\u001b[0m\u001b[0mproxies\u001b[0m\u001b[0;34m)\u001b[0m\u001b[0;34m\u001b[0m\u001b[0m\n\u001b[0m",
      "\u001b[0;32m/usr/local/lib/python2.7/dist-packages/requests/api.pyc\u001b[0m in \u001b[0;36mget\u001b[0;34m(url, params, **kwargs)\u001b[0m\n\u001b[1;32m     70\u001b[0m \u001b[0;34m\u001b[0m\u001b[0m\n\u001b[1;32m     71\u001b[0m     \u001b[0mkwargs\u001b[0m\u001b[0;34m.\u001b[0m\u001b[0msetdefault\u001b[0m\u001b[0;34m(\u001b[0m\u001b[0;34m'allow_redirects'\u001b[0m\u001b[0;34m,\u001b[0m \u001b[0mTrue\u001b[0m\u001b[0;34m)\u001b[0m\u001b[0;34m\u001b[0m\u001b[0m\n\u001b[0;32m---> 72\u001b[0;31m     \u001b[0;32mreturn\u001b[0m \u001b[0mrequest\u001b[0m\u001b[0;34m(\u001b[0m\u001b[0;34m'get'\u001b[0m\u001b[0;34m,\u001b[0m \u001b[0murl\u001b[0m\u001b[0;34m,\u001b[0m \u001b[0mparams\u001b[0m\u001b[0;34m=\u001b[0m\u001b[0mparams\u001b[0m\u001b[0;34m,\u001b[0m \u001b[0;34m**\u001b[0m\u001b[0mkwargs\u001b[0m\u001b[0;34m)\u001b[0m\u001b[0;34m\u001b[0m\u001b[0m\n\u001b[0m\u001b[1;32m     73\u001b[0m \u001b[0;34m\u001b[0m\u001b[0m\n\u001b[1;32m     74\u001b[0m \u001b[0;34m\u001b[0m\u001b[0m\n",
      "\u001b[0;32m/usr/local/lib/python2.7/dist-packages/requests/api.pyc\u001b[0m in \u001b[0;36mrequest\u001b[0;34m(method, url, **kwargs)\u001b[0m\n\u001b[1;32m     56\u001b[0m     \u001b[0;31m# cases, and look like a memory leak in others.\u001b[0m\u001b[0;34m\u001b[0m\u001b[0;34m\u001b[0m\u001b[0m\n\u001b[1;32m     57\u001b[0m     \u001b[0;32mwith\u001b[0m \u001b[0msessions\u001b[0m\u001b[0;34m.\u001b[0m\u001b[0mSession\u001b[0m\u001b[0;34m(\u001b[0m\u001b[0;34m)\u001b[0m \u001b[0;32mas\u001b[0m \u001b[0msession\u001b[0m\u001b[0;34m:\u001b[0m\u001b[0;34m\u001b[0m\u001b[0m\n\u001b[0;32m---> 58\u001b[0;31m         \u001b[0;32mreturn\u001b[0m \u001b[0msession\u001b[0m\u001b[0;34m.\u001b[0m\u001b[0mrequest\u001b[0m\u001b[0;34m(\u001b[0m\u001b[0mmethod\u001b[0m\u001b[0;34m=\u001b[0m\u001b[0mmethod\u001b[0m\u001b[0;34m,\u001b[0m \u001b[0murl\u001b[0m\u001b[0;34m=\u001b[0m\u001b[0murl\u001b[0m\u001b[0;34m,\u001b[0m \u001b[0;34m**\u001b[0m\u001b[0mkwargs\u001b[0m\u001b[0;34m)\u001b[0m\u001b[0;34m\u001b[0m\u001b[0m\n\u001b[0m\u001b[1;32m     59\u001b[0m \u001b[0;34m\u001b[0m\u001b[0m\n\u001b[1;32m     60\u001b[0m \u001b[0;34m\u001b[0m\u001b[0m\n",
      "\u001b[0;32m/usr/local/lib/python2.7/dist-packages/requests/sessions.pyc\u001b[0m in \u001b[0;36mrequest\u001b[0;34m(self, method, url, params, data, headers, cookies, files, auth, timeout, allow_redirects, proxies, hooks, stream, verify, cert, json)\u001b[0m\n\u001b[1;32m    516\u001b[0m         }\n\u001b[1;32m    517\u001b[0m         \u001b[0msend_kwargs\u001b[0m\u001b[0;34m.\u001b[0m\u001b[0mupdate\u001b[0m\u001b[0;34m(\u001b[0m\u001b[0msettings\u001b[0m\u001b[0;34m)\u001b[0m\u001b[0;34m\u001b[0m\u001b[0m\n\u001b[0;32m--> 518\u001b[0;31m         \u001b[0mresp\u001b[0m \u001b[0;34m=\u001b[0m \u001b[0mself\u001b[0m\u001b[0;34m.\u001b[0m\u001b[0msend\u001b[0m\u001b[0;34m(\u001b[0m\u001b[0mprep\u001b[0m\u001b[0;34m,\u001b[0m \u001b[0;34m**\u001b[0m\u001b[0msend_kwargs\u001b[0m\u001b[0;34m)\u001b[0m\u001b[0;34m\u001b[0m\u001b[0m\n\u001b[0m\u001b[1;32m    519\u001b[0m \u001b[0;34m\u001b[0m\u001b[0m\n\u001b[1;32m    520\u001b[0m         \u001b[0;32mreturn\u001b[0m \u001b[0mresp\u001b[0m\u001b[0;34m\u001b[0m\u001b[0m\n",
      "\u001b[0;32m/usr/local/lib/python2.7/dist-packages/requests/sessions.pyc\u001b[0m in \u001b[0;36msend\u001b[0;34m(self, request, **kwargs)\u001b[0m\n\u001b[1;32m    637\u001b[0m \u001b[0;34m\u001b[0m\u001b[0m\n\u001b[1;32m    638\u001b[0m         \u001b[0;31m# Send the request\u001b[0m\u001b[0;34m\u001b[0m\u001b[0;34m\u001b[0m\u001b[0m\n\u001b[0;32m--> 639\u001b[0;31m         \u001b[0mr\u001b[0m \u001b[0;34m=\u001b[0m \u001b[0madapter\u001b[0m\u001b[0;34m.\u001b[0m\u001b[0msend\u001b[0m\u001b[0;34m(\u001b[0m\u001b[0mrequest\u001b[0m\u001b[0;34m,\u001b[0m \u001b[0;34m**\u001b[0m\u001b[0mkwargs\u001b[0m\u001b[0;34m)\u001b[0m\u001b[0;34m\u001b[0m\u001b[0m\n\u001b[0m\u001b[1;32m    640\u001b[0m \u001b[0;34m\u001b[0m\u001b[0m\n\u001b[1;32m    641\u001b[0m         \u001b[0;31m# Total elapsed time of the request (approximately)\u001b[0m\u001b[0;34m\u001b[0m\u001b[0;34m\u001b[0m\u001b[0m\n",
      "\u001b[0;32m/usr/local/lib/python2.7/dist-packages/requests/adapters.pyc\u001b[0m in \u001b[0;36msend\u001b[0;34m(self, request, stream, timeout, verify, cert, proxies)\u001b[0m\n\u001b[1;32m    436\u001b[0m                     \u001b[0mdecode_content\u001b[0m\u001b[0;34m=\u001b[0m\u001b[0mFalse\u001b[0m\u001b[0;34m,\u001b[0m\u001b[0;34m\u001b[0m\u001b[0m\n\u001b[1;32m    437\u001b[0m                     \u001b[0mretries\u001b[0m\u001b[0;34m=\u001b[0m\u001b[0mself\u001b[0m\u001b[0;34m.\u001b[0m\u001b[0mmax_retries\u001b[0m\u001b[0;34m,\u001b[0m\u001b[0;34m\u001b[0m\u001b[0m\n\u001b[0;32m--> 438\u001b[0;31m                     \u001b[0mtimeout\u001b[0m\u001b[0;34m=\u001b[0m\u001b[0mtimeout\u001b[0m\u001b[0;34m\u001b[0m\u001b[0m\n\u001b[0m\u001b[1;32m    439\u001b[0m                 )\n\u001b[1;32m    440\u001b[0m \u001b[0;34m\u001b[0m\u001b[0m\n",
      "\u001b[0;32m/usr/local/lib/python2.7/dist-packages/requests/packages/urllib3/connectionpool.pyc\u001b[0m in \u001b[0;36murlopen\u001b[0;34m(self, method, url, body, headers, retries, redirect, assert_same_host, timeout, pool_timeout, release_conn, chunked, body_pos, **response_kw)\u001b[0m\n\u001b[1;32m    598\u001b[0m                                                   \u001b[0mtimeout\u001b[0m\u001b[0;34m=\u001b[0m\u001b[0mtimeout_obj\u001b[0m\u001b[0;34m,\u001b[0m\u001b[0;34m\u001b[0m\u001b[0m\n\u001b[1;32m    599\u001b[0m                                                   \u001b[0mbody\u001b[0m\u001b[0;34m=\u001b[0m\u001b[0mbody\u001b[0m\u001b[0;34m,\u001b[0m \u001b[0mheaders\u001b[0m\u001b[0;34m=\u001b[0m\u001b[0mheaders\u001b[0m\u001b[0;34m,\u001b[0m\u001b[0;34m\u001b[0m\u001b[0m\n\u001b[0;32m--> 600\u001b[0;31m                                                   chunked=chunked)\n\u001b[0m\u001b[1;32m    601\u001b[0m \u001b[0;34m\u001b[0m\u001b[0m\n\u001b[1;32m    602\u001b[0m             \u001b[0;31m# If we're going to release the connection in ``finally:``, then\u001b[0m\u001b[0;34m\u001b[0m\u001b[0;34m\u001b[0m\u001b[0m\n",
      "\u001b[0;32m/usr/local/lib/python2.7/dist-packages/requests/packages/urllib3/connectionpool.pyc\u001b[0m in \u001b[0;36m_make_request\u001b[0;34m(self, conn, method, url, timeout, chunked, **httplib_request_kw)\u001b[0m\n\u001b[1;32m    377\u001b[0m         \u001b[0;32mtry\u001b[0m\u001b[0;34m:\u001b[0m\u001b[0;34m\u001b[0m\u001b[0m\n\u001b[1;32m    378\u001b[0m             \u001b[0;32mtry\u001b[0m\u001b[0;34m:\u001b[0m  \u001b[0;31m# Python 2.7, use buffering of HTTP responses\u001b[0m\u001b[0;34m\u001b[0m\u001b[0m\n\u001b[0;32m--> 379\u001b[0;31m                 \u001b[0mhttplib_response\u001b[0m \u001b[0;34m=\u001b[0m \u001b[0mconn\u001b[0m\u001b[0;34m.\u001b[0m\u001b[0mgetresponse\u001b[0m\u001b[0;34m(\u001b[0m\u001b[0mbuffering\u001b[0m\u001b[0;34m=\u001b[0m\u001b[0mTrue\u001b[0m\u001b[0;34m)\u001b[0m\u001b[0;34m\u001b[0m\u001b[0m\n\u001b[0m\u001b[1;32m    380\u001b[0m             \u001b[0;32mexcept\u001b[0m \u001b[0mTypeError\u001b[0m\u001b[0;34m:\u001b[0m  \u001b[0;31m# Python 2.6 and older, Python 3\u001b[0m\u001b[0;34m\u001b[0m\u001b[0m\n\u001b[1;32m    381\u001b[0m                 \u001b[0;32mtry\u001b[0m\u001b[0;34m:\u001b[0m\u001b[0;34m\u001b[0m\u001b[0m\n",
      "\u001b[0;32m/usr/lib/python2.7/httplib.pyc\u001b[0m in \u001b[0;36mgetresponse\u001b[0;34m(self, buffering)\u001b[0m\n\u001b[1;32m   1134\u001b[0m \u001b[0;34m\u001b[0m\u001b[0m\n\u001b[1;32m   1135\u001b[0m         \u001b[0;32mtry\u001b[0m\u001b[0;34m:\u001b[0m\u001b[0;34m\u001b[0m\u001b[0m\n\u001b[0;32m-> 1136\u001b[0;31m             \u001b[0mresponse\u001b[0m\u001b[0;34m.\u001b[0m\u001b[0mbegin\u001b[0m\u001b[0;34m(\u001b[0m\u001b[0;34m)\u001b[0m\u001b[0;34m\u001b[0m\u001b[0m\n\u001b[0m\u001b[1;32m   1137\u001b[0m             \u001b[0;32massert\u001b[0m \u001b[0mresponse\u001b[0m\u001b[0;34m.\u001b[0m\u001b[0mwill_close\u001b[0m \u001b[0;34m!=\u001b[0m \u001b[0m_UNKNOWN\u001b[0m\u001b[0;34m\u001b[0m\u001b[0m\n\u001b[1;32m   1138\u001b[0m             \u001b[0mself\u001b[0m\u001b[0;34m.\u001b[0m\u001b[0m__state\u001b[0m \u001b[0;34m=\u001b[0m \u001b[0m_CS_IDLE\u001b[0m\u001b[0;34m\u001b[0m\u001b[0m\n",
      "\u001b[0;32m/usr/lib/python2.7/httplib.pyc\u001b[0m in \u001b[0;36mbegin\u001b[0;34m(self)\u001b[0m\n\u001b[1;32m    451\u001b[0m         \u001b[0;31m# read until we get a non-100 response\u001b[0m\u001b[0;34m\u001b[0m\u001b[0;34m\u001b[0m\u001b[0m\n\u001b[1;32m    452\u001b[0m         \u001b[0;32mwhile\u001b[0m \u001b[0mTrue\u001b[0m\u001b[0;34m:\u001b[0m\u001b[0;34m\u001b[0m\u001b[0m\n\u001b[0;32m--> 453\u001b[0;31m             \u001b[0mversion\u001b[0m\u001b[0;34m,\u001b[0m \u001b[0mstatus\u001b[0m\u001b[0;34m,\u001b[0m \u001b[0mreason\u001b[0m \u001b[0;34m=\u001b[0m \u001b[0mself\u001b[0m\u001b[0;34m.\u001b[0m\u001b[0m_read_status\u001b[0m\u001b[0;34m(\u001b[0m\u001b[0;34m)\u001b[0m\u001b[0;34m\u001b[0m\u001b[0m\n\u001b[0m\u001b[1;32m    454\u001b[0m             \u001b[0;32mif\u001b[0m \u001b[0mstatus\u001b[0m \u001b[0;34m!=\u001b[0m \u001b[0mCONTINUE\u001b[0m\u001b[0;34m:\u001b[0m\u001b[0;34m\u001b[0m\u001b[0m\n\u001b[1;32m    455\u001b[0m                 \u001b[0;32mbreak\u001b[0m\u001b[0;34m\u001b[0m\u001b[0m\n",
      "\u001b[0;32m/usr/lib/python2.7/httplib.pyc\u001b[0m in \u001b[0;36m_read_status\u001b[0;34m(self)\u001b[0m\n\u001b[1;32m    407\u001b[0m     \u001b[0;32mdef\u001b[0m \u001b[0m_read_status\u001b[0m\u001b[0;34m(\u001b[0m\u001b[0mself\u001b[0m\u001b[0;34m)\u001b[0m\u001b[0;34m:\u001b[0m\u001b[0;34m\u001b[0m\u001b[0m\n\u001b[1;32m    408\u001b[0m         \u001b[0;31m# Initialize with Simple-Response defaults\u001b[0m\u001b[0;34m\u001b[0m\u001b[0;34m\u001b[0m\u001b[0m\n\u001b[0;32m--> 409\u001b[0;31m         \u001b[0mline\u001b[0m \u001b[0;34m=\u001b[0m \u001b[0mself\u001b[0m\u001b[0;34m.\u001b[0m\u001b[0mfp\u001b[0m\u001b[0;34m.\u001b[0m\u001b[0mreadline\u001b[0m\u001b[0;34m(\u001b[0m\u001b[0m_MAXLINE\u001b[0m \u001b[0;34m+\u001b[0m \u001b[0;36m1\u001b[0m\u001b[0;34m)\u001b[0m\u001b[0;34m\u001b[0m\u001b[0m\n\u001b[0m\u001b[1;32m    410\u001b[0m         \u001b[0;32mif\u001b[0m \u001b[0mlen\u001b[0m\u001b[0;34m(\u001b[0m\u001b[0mline\u001b[0m\u001b[0;34m)\u001b[0m \u001b[0;34m>\u001b[0m \u001b[0m_MAXLINE\u001b[0m\u001b[0;34m:\u001b[0m\u001b[0;34m\u001b[0m\u001b[0m\n\u001b[1;32m    411\u001b[0m             \u001b[0;32mraise\u001b[0m \u001b[0mLineTooLong\u001b[0m\u001b[0;34m(\u001b[0m\u001b[0;34m\"header line\"\u001b[0m\u001b[0;34m)\u001b[0m\u001b[0;34m\u001b[0m\u001b[0m\n",
      "\u001b[0;32m/usr/lib/python2.7/socket.pyc\u001b[0m in \u001b[0;36mreadline\u001b[0;34m(self, size)\u001b[0m\n\u001b[1;32m    478\u001b[0m             \u001b[0;32mwhile\u001b[0m \u001b[0mTrue\u001b[0m\u001b[0;34m:\u001b[0m\u001b[0;34m\u001b[0m\u001b[0m\n\u001b[1;32m    479\u001b[0m                 \u001b[0;32mtry\u001b[0m\u001b[0;34m:\u001b[0m\u001b[0;34m\u001b[0m\u001b[0m\n\u001b[0;32m--> 480\u001b[0;31m                     \u001b[0mdata\u001b[0m \u001b[0;34m=\u001b[0m \u001b[0mself\u001b[0m\u001b[0;34m.\u001b[0m\u001b[0m_sock\u001b[0m\u001b[0;34m.\u001b[0m\u001b[0mrecv\u001b[0m\u001b[0;34m(\u001b[0m\u001b[0mself\u001b[0m\u001b[0;34m.\u001b[0m\u001b[0m_rbufsize\u001b[0m\u001b[0;34m)\u001b[0m\u001b[0;34m\u001b[0m\u001b[0m\n\u001b[0m\u001b[1;32m    481\u001b[0m                 \u001b[0;32mexcept\u001b[0m \u001b[0merror\u001b[0m\u001b[0;34m,\u001b[0m \u001b[0me\u001b[0m\u001b[0;34m:\u001b[0m\u001b[0;34m\u001b[0m\u001b[0m\n\u001b[1;32m    482\u001b[0m                     \u001b[0;32mif\u001b[0m \u001b[0me\u001b[0m\u001b[0;34m.\u001b[0m\u001b[0margs\u001b[0m\u001b[0;34m[\u001b[0m\u001b[0;36m0\u001b[0m\u001b[0;34m]\u001b[0m \u001b[0;34m==\u001b[0m \u001b[0mEINTR\u001b[0m\u001b[0;34m:\u001b[0m\u001b[0;34m\u001b[0m\u001b[0m\n",
      "\u001b[0;31mKeyboardInterrupt\u001b[0m: "
     ]
    }
   ],
   "source": [
    "import requests   \n",
    "proxies = { \"http\": \"http://localhost:1080\", \"https\": \"http://localhost:1080\", }   \n",
    "requests.get(\"http://ip.chinaz.com/\", proxies=proxies)  "
   ]
  },
  {
   "cell_type": "code",
   "execution_count": 35,
   "metadata": {},
   "outputs": [
    {
     "name": "stdout",
     "output_type": "stream",
     "text": [
      "trian model.....\n"
     ]
    },
    {
     "ename": "KeyboardInterrupt",
     "evalue": "",
     "output_type": "error",
     "traceback": [
      "\u001b[0;31m---------------------------------------------------------------------------\u001b[0m",
      "\u001b[0;31mKeyboardInterrupt\u001b[0m                         Traceback (most recent call last)",
      "\u001b[0;32m<ipython-input-35-8011bf56f2da>\u001b[0m in \u001b[0;36m<module>\u001b[0;34m()\u001b[0m\n\u001b[1;32m     75\u001b[0m     \u001b[0;32mif\u001b[0m \u001b[0mmatrix_res\u001b[0m \u001b[0;32mis\u001b[0m \u001b[0mNone\u001b[0m\u001b[0;34m:\u001b[0m\u001b[0;34m\u001b[0m\u001b[0m\n\u001b[1;32m     76\u001b[0m         \u001b[0;32mprint\u001b[0m \u001b[0;34m\"trian model.....\"\u001b[0m\u001b[0;34m\u001b[0m\u001b[0m\n\u001b[0;32m---> 77\u001b[0;31m         \u001b[0mmatrix_res\u001b[0m \u001b[0;34m=\u001b[0m \u001b[0mvgg16\u001b[0m\u001b[0;34m.\u001b[0m\u001b[0mtrain\u001b[0m\u001b[0;34m(\u001b[0m\u001b[0;34m)\u001b[0m\u001b[0;34m\u001b[0m\u001b[0m\n\u001b[0m\u001b[1;32m     78\u001b[0m         \u001b[0mvgg16\u001b[0m\u001b[0;34m.\u001b[0m\u001b[0msave_predict_res\u001b[0m\u001b[0;34m(\u001b[0m\u001b[0mmatrix_res\u001b[0m\u001b[0;34m)\u001b[0m\u001b[0;34m\u001b[0m\u001b[0m\n\u001b[1;32m     79\u001b[0m         \u001b[0;32mprint\u001b[0m \u001b[0;34m\"Saved prediction_res in %s\"\u001b[0m \u001b[0;34m%\u001b[0m\u001b[0mvgg16\u001b[0m\u001b[0;34m.\u001b[0m\u001b[0mprediction_result\u001b[0m\u001b[0;34m\u001b[0m\u001b[0m\n",
      "\u001b[0;32m<ipython-input-35-8011bf56f2da>\u001b[0m in \u001b[0;36mtrain\u001b[0;34m(self)\u001b[0m\n\u001b[1;32m     45\u001b[0m         \u001b[0mmatrix_res\u001b[0m \u001b[0;34m=\u001b[0m \u001b[0mnp\u001b[0m\u001b[0;34m.\u001b[0m\u001b[0mzeros\u001b[0m\u001b[0;34m(\u001b[0m\u001b[0;34m[\u001b[0m\u001b[0mtotal_mvs\u001b[0m\u001b[0;34m,\u001b[0m\u001b[0;36m25088\u001b[0m\u001b[0;34m]\u001b[0m\u001b[0;34m)\u001b[0m\u001b[0;34m\u001b[0m\u001b[0m\n\u001b[1;32m     46\u001b[0m         \u001b[0;32mfor\u001b[0m \u001b[0mi\u001b[0m \u001b[0;32min\u001b[0m \u001b[0mrange\u001b[0m\u001b[0;34m(\u001b[0m\u001b[0mtotal_mvs\u001b[0m\u001b[0;34m)\u001b[0m\u001b[0;34m:\u001b[0m\u001b[0;34m\u001b[0m\u001b[0m\n\u001b[0;32m---> 47\u001b[0;31m             \u001b[0mprediction\u001b[0m\u001b[0;34m[\u001b[0m\u001b[0mi\u001b[0m\u001b[0;34m]\u001b[0m\u001b[0;34m=\u001b[0m\u001b[0mmodel\u001b[0m\u001b[0;34m.\u001b[0m\u001b[0mpredict\u001b[0m\u001b[0;34m(\u001b[0m\u001b[0mx\u001b[0m\u001b[0;34m[\u001b[0m\u001b[0mi\u001b[0m\u001b[0;34m]\u001b[0m\u001b[0;34m)\u001b[0m\u001b[0;34m.\u001b[0m\u001b[0mravel\u001b[0m\u001b[0;34m(\u001b[0m\u001b[0;34m)\u001b[0m\u001b[0;34m\u001b[0m\u001b[0m\n\u001b[0m\u001b[1;32m     48\u001b[0m             \u001b[0mmatrix_res\u001b[0m\u001b[0;34m[\u001b[0m\u001b[0mi\u001b[0m\u001b[0;34m,\u001b[0m\u001b[0;34m:\u001b[0m\u001b[0;34m]\u001b[0m\u001b[0;34m=\u001b[0m\u001b[0mprediction\u001b[0m\u001b[0;34m[\u001b[0m\u001b[0mi\u001b[0m\u001b[0;34m]\u001b[0m\u001b[0;34m\u001b[0m\u001b[0m\n\u001b[1;32m     49\u001b[0m     \u001b[0;31m#     print model.predict(x[0])\u001b[0m\u001b[0;34m\u001b[0m\u001b[0;34m\u001b[0m\u001b[0m\n",
      "\u001b[0;32m/usr/local/lib/python2.7/dist-packages/keras/engine/training.pyc\u001b[0m in \u001b[0;36mpredict\u001b[0;34m(self, x, batch_size, verbose)\u001b[0m\n\u001b[1;32m   1592\u001b[0m         \u001b[0mf\u001b[0m \u001b[0;34m=\u001b[0m \u001b[0mself\u001b[0m\u001b[0;34m.\u001b[0m\u001b[0mpredict_function\u001b[0m\u001b[0;34m\u001b[0m\u001b[0m\n\u001b[1;32m   1593\u001b[0m         return self._predict_loop(f, ins,\n\u001b[0;32m-> 1594\u001b[0;31m                                   batch_size=batch_size, verbose=verbose)\n\u001b[0m\u001b[1;32m   1595\u001b[0m \u001b[0;34m\u001b[0m\u001b[0m\n\u001b[1;32m   1596\u001b[0m     def train_on_batch(self, x, y,\n",
      "\u001b[0;32m/usr/local/lib/python2.7/dist-packages/keras/engine/training.pyc\u001b[0m in \u001b[0;36m_predict_loop\u001b[0;34m(self, f, ins, batch_size, verbose)\u001b[0m\n\u001b[1;32m   1216\u001b[0m                 \u001b[0mins_batch\u001b[0m \u001b[0;34m=\u001b[0m \u001b[0m_slice_arrays\u001b[0m\u001b[0;34m(\u001b[0m\u001b[0mins\u001b[0m\u001b[0;34m,\u001b[0m \u001b[0mbatch_ids\u001b[0m\u001b[0;34m)\u001b[0m\u001b[0;34m\u001b[0m\u001b[0m\n\u001b[1;32m   1217\u001b[0m \u001b[0;34m\u001b[0m\u001b[0m\n\u001b[0;32m-> 1218\u001b[0;31m             \u001b[0mbatch_outs\u001b[0m \u001b[0;34m=\u001b[0m \u001b[0mf\u001b[0m\u001b[0;34m(\u001b[0m\u001b[0mins_batch\u001b[0m\u001b[0;34m)\u001b[0m\u001b[0;34m\u001b[0m\u001b[0m\n\u001b[0m\u001b[1;32m   1219\u001b[0m             \u001b[0;32mif\u001b[0m \u001b[0;32mnot\u001b[0m \u001b[0misinstance\u001b[0m\u001b[0;34m(\u001b[0m\u001b[0mbatch_outs\u001b[0m\u001b[0;34m,\u001b[0m \u001b[0mlist\u001b[0m\u001b[0;34m)\u001b[0m\u001b[0;34m:\u001b[0m\u001b[0;34m\u001b[0m\u001b[0m\n\u001b[1;32m   1220\u001b[0m                 \u001b[0mbatch_outs\u001b[0m \u001b[0;34m=\u001b[0m \u001b[0;34m[\u001b[0m\u001b[0mbatch_outs\u001b[0m\u001b[0;34m]\u001b[0m\u001b[0;34m\u001b[0m\u001b[0m\n",
      "\u001b[0;32m/usr/local/lib/python2.7/dist-packages/keras/backend/tensorflow_backend.pyc\u001b[0m in \u001b[0;36m__call__\u001b[0;34m(self, inputs)\u001b[0m\n\u001b[1;32m   2267\u001b[0m         updated = session.run(self.outputs + [self.updates_op],\n\u001b[1;32m   2268\u001b[0m                               \u001b[0mfeed_dict\u001b[0m\u001b[0;34m=\u001b[0m\u001b[0mfeed_dict\u001b[0m\u001b[0;34m,\u001b[0m\u001b[0;34m\u001b[0m\u001b[0m\n\u001b[0;32m-> 2269\u001b[0;31m                               **self.session_kwargs)\n\u001b[0m\u001b[1;32m   2270\u001b[0m         \u001b[0;32mreturn\u001b[0m \u001b[0mupdated\u001b[0m\u001b[0;34m[\u001b[0m\u001b[0;34m:\u001b[0m\u001b[0mlen\u001b[0m\u001b[0;34m(\u001b[0m\u001b[0mself\u001b[0m\u001b[0;34m.\u001b[0m\u001b[0moutputs\u001b[0m\u001b[0;34m)\u001b[0m\u001b[0;34m]\u001b[0m\u001b[0;34m\u001b[0m\u001b[0m\n\u001b[1;32m   2271\u001b[0m \u001b[0;34m\u001b[0m\u001b[0m\n",
      "\u001b[0;32m/usr/local/lib/python2.7/dist-packages/tensorflow/python/client/session.pyc\u001b[0m in \u001b[0;36mrun\u001b[0;34m(self, fetches, feed_dict, options, run_metadata)\u001b[0m\n\u001b[1;32m    776\u001b[0m     \u001b[0;32mtry\u001b[0m\u001b[0;34m:\u001b[0m\u001b[0;34m\u001b[0m\u001b[0m\n\u001b[1;32m    777\u001b[0m       result = self._run(None, fetches, feed_dict, options_ptr,\n\u001b[0;32m--> 778\u001b[0;31m                          run_metadata_ptr)\n\u001b[0m\u001b[1;32m    779\u001b[0m       \u001b[0;32mif\u001b[0m \u001b[0mrun_metadata\u001b[0m\u001b[0;34m:\u001b[0m\u001b[0;34m\u001b[0m\u001b[0m\n\u001b[1;32m    780\u001b[0m         \u001b[0mproto_data\u001b[0m \u001b[0;34m=\u001b[0m \u001b[0mtf_session\u001b[0m\u001b[0;34m.\u001b[0m\u001b[0mTF_GetBuffer\u001b[0m\u001b[0;34m(\u001b[0m\u001b[0mrun_metadata_ptr\u001b[0m\u001b[0;34m)\u001b[0m\u001b[0;34m\u001b[0m\u001b[0m\n",
      "\u001b[0;32m/usr/local/lib/python2.7/dist-packages/tensorflow/python/client/session.pyc\u001b[0m in \u001b[0;36m_run\u001b[0;34m(self, handle, fetches, feed_dict, options, run_metadata)\u001b[0m\n\u001b[1;32m    980\u001b[0m     \u001b[0;32mif\u001b[0m \u001b[0mfinal_fetches\u001b[0m \u001b[0;32mor\u001b[0m \u001b[0mfinal_targets\u001b[0m\u001b[0;34m:\u001b[0m\u001b[0;34m\u001b[0m\u001b[0m\n\u001b[1;32m    981\u001b[0m       results = self._do_run(handle, final_targets, final_fetches,\n\u001b[0;32m--> 982\u001b[0;31m                              feed_dict_string, options, run_metadata)\n\u001b[0m\u001b[1;32m    983\u001b[0m     \u001b[0;32melse\u001b[0m\u001b[0;34m:\u001b[0m\u001b[0;34m\u001b[0m\u001b[0m\n\u001b[1;32m    984\u001b[0m       \u001b[0mresults\u001b[0m \u001b[0;34m=\u001b[0m \u001b[0;34m[\u001b[0m\u001b[0;34m]\u001b[0m\u001b[0;34m\u001b[0m\u001b[0m\n",
      "\u001b[0;32m/usr/local/lib/python2.7/dist-packages/tensorflow/python/client/session.pyc\u001b[0m in \u001b[0;36m_do_run\u001b[0;34m(self, handle, target_list, fetch_list, feed_dict, options, run_metadata)\u001b[0m\n\u001b[1;32m   1030\u001b[0m     \u001b[0;32mif\u001b[0m \u001b[0mhandle\u001b[0m \u001b[0;32mis\u001b[0m \u001b[0mNone\u001b[0m\u001b[0;34m:\u001b[0m\u001b[0;34m\u001b[0m\u001b[0m\n\u001b[1;32m   1031\u001b[0m       return self._do_call(_run_fn, self._session, feed_dict, fetch_list,\n\u001b[0;32m-> 1032\u001b[0;31m                            target_list, options, run_metadata)\n\u001b[0m\u001b[1;32m   1033\u001b[0m     \u001b[0;32melse\u001b[0m\u001b[0;34m:\u001b[0m\u001b[0;34m\u001b[0m\u001b[0m\n\u001b[1;32m   1034\u001b[0m       return self._do_call(_prun_fn, self._session, handle, feed_dict,\n",
      "\u001b[0;32m/usr/local/lib/python2.7/dist-packages/tensorflow/python/client/session.pyc\u001b[0m in \u001b[0;36m_do_call\u001b[0;34m(self, fn, *args)\u001b[0m\n\u001b[1;32m   1037\u001b[0m   \u001b[0;32mdef\u001b[0m \u001b[0m_do_call\u001b[0m\u001b[0;34m(\u001b[0m\u001b[0mself\u001b[0m\u001b[0;34m,\u001b[0m \u001b[0mfn\u001b[0m\u001b[0;34m,\u001b[0m \u001b[0;34m*\u001b[0m\u001b[0margs\u001b[0m\u001b[0;34m)\u001b[0m\u001b[0;34m:\u001b[0m\u001b[0;34m\u001b[0m\u001b[0m\n\u001b[1;32m   1038\u001b[0m     \u001b[0;32mtry\u001b[0m\u001b[0;34m:\u001b[0m\u001b[0;34m\u001b[0m\u001b[0m\n\u001b[0;32m-> 1039\u001b[0;31m       \u001b[0;32mreturn\u001b[0m \u001b[0mfn\u001b[0m\u001b[0;34m(\u001b[0m\u001b[0;34m*\u001b[0m\u001b[0margs\u001b[0m\u001b[0;34m)\u001b[0m\u001b[0;34m\u001b[0m\u001b[0m\n\u001b[0m\u001b[1;32m   1040\u001b[0m     \u001b[0;32mexcept\u001b[0m \u001b[0merrors\u001b[0m\u001b[0;34m.\u001b[0m\u001b[0mOpError\u001b[0m \u001b[0;32mas\u001b[0m \u001b[0me\u001b[0m\u001b[0;34m:\u001b[0m\u001b[0;34m\u001b[0m\u001b[0m\n\u001b[1;32m   1041\u001b[0m       \u001b[0mmessage\u001b[0m \u001b[0;34m=\u001b[0m \u001b[0mcompat\u001b[0m\u001b[0;34m.\u001b[0m\u001b[0mas_text\u001b[0m\u001b[0;34m(\u001b[0m\u001b[0me\u001b[0m\u001b[0;34m.\u001b[0m\u001b[0mmessage\u001b[0m\u001b[0;34m)\u001b[0m\u001b[0;34m\u001b[0m\u001b[0m\n",
      "\u001b[0;32m/usr/local/lib/python2.7/dist-packages/tensorflow/python/client/session.pyc\u001b[0m in \u001b[0;36m_run_fn\u001b[0;34m(session, feed_dict, fetch_list, target_list, options, run_metadata)\u001b[0m\n\u001b[1;32m   1019\u001b[0m         return tf_session.TF_Run(session, options,\n\u001b[1;32m   1020\u001b[0m                                  \u001b[0mfeed_dict\u001b[0m\u001b[0;34m,\u001b[0m \u001b[0mfetch_list\u001b[0m\u001b[0;34m,\u001b[0m \u001b[0mtarget_list\u001b[0m\u001b[0;34m,\u001b[0m\u001b[0;34m\u001b[0m\u001b[0m\n\u001b[0;32m-> 1021\u001b[0;31m                                  status, run_metadata)\n\u001b[0m\u001b[1;32m   1022\u001b[0m \u001b[0;34m\u001b[0m\u001b[0m\n\u001b[1;32m   1023\u001b[0m     \u001b[0;32mdef\u001b[0m \u001b[0m_prun_fn\u001b[0m\u001b[0;34m(\u001b[0m\u001b[0msession\u001b[0m\u001b[0;34m,\u001b[0m \u001b[0mhandle\u001b[0m\u001b[0;34m,\u001b[0m \u001b[0mfeed_dict\u001b[0m\u001b[0;34m,\u001b[0m \u001b[0mfetch_list\u001b[0m\u001b[0;34m)\u001b[0m\u001b[0;34m:\u001b[0m\u001b[0;34m\u001b[0m\u001b[0m\n",
      "\u001b[0;31mKeyboardInterrupt\u001b[0m: "
     ]
    }
   ],
   "source": [
    "from keras.preprocessing import image as kimage\n",
    "from keras.applications import VGG16\n",
    "from keras.applications.vgg16 import preprocess_input\n",
    "import os\n",
    "import numpy as np\n",
    "from re import match\n",
    "class Vgg16(object):\n",
    "    def __init__(self,imageDir='./poster/',prediction_result=\"prediction_result.csv\"):\n",
    "        self.imageDir = imageDir\n",
    "        self.prediction_result = prediction_result\n",
    "        \n",
    "    def save_predict_res(self,matrix_res):\n",
    "        prediction_result=self.prediction_result\n",
    "        pe = dict([(x,[]) for x in range(matrix_res.shape[0])])\n",
    "        for i in range(matrix_res.shape[0]):\n",
    "            pe[i].extend(matrix_res[i])\n",
    "        df = pd.DataFrame(data=pe)\n",
    "#         df.to_csv(prediction_result)\n",
    "\n",
    "    def load_result_matrix(self):\n",
    "        file = self.prediction_result\n",
    "        if not os.path.exists(file):\n",
    "            return None\n",
    "        m_r = pd.read_csv(file,sep=',')\n",
    "        f_r = np.zeros((m_r.shape[1]-1,m_r.shape[0]))\n",
    "        for i in range(m_r.values.shape[1]-1):\n",
    "            f_r[i] = m_r[str(i)].values.tolist()\n",
    "        return f_r \n",
    "\n",
    "    def train(self):\n",
    "        poster_pt = self.imageDir\n",
    "        total_mvs = len([x for x in os.listdir(poster_pt) if match(\"\\d*.jpg\",x)])\n",
    "#         total_mvs = 3000\n",
    "        image = [0]*total_mvs\n",
    "        x     = [0]*total_mvs\n",
    "        for i in range(total_mvs):\n",
    "            if i==1455 or i==1469 or i==1476 or i==1492 or i==2212:\n",
    "                continue\n",
    "            image[i] = kimage.load_img(poster_pt+str(i)+'.jpg',target_size=(224,224))\n",
    "            x[i] = kimage.img_to_array(image[i])\n",
    "            x[i] = np.expand_dims(x[i],axis=0)\n",
    "            x[i] = preprocess_input(x[i])\n",
    "        model = VGG16(include_top=False,weights='imagenet')\n",
    "        prediction = [0]*total_mvs\n",
    "        matrix_res = np.zeros([total_mvs,25088])\n",
    "        for i in range(total_mvs):\n",
    "            prediction[i]=model.predict(x[i]).ravel()\n",
    "            matrix_res[i,:]=prediction[i]\n",
    "    #     print model.predict(x[0])\n",
    "        return matrix_res\n",
    "    \n",
    "    def simaility(self,matrix_res):\n",
    "        similarity_deep = matrix_res.dot(matrix_res.T)\n",
    "        norms = np.array([np.sqrt(np.diagonal(similarity_deep))])\n",
    "#         print (norms.dot(norms.T)).shape\n",
    "        similarity_deep = (similarity_deep/(norms*norms.T))\n",
    "        return similarity_deep\n",
    "    \n",
    "    def topN(self,target_item,similarity_deep,N=5):\n",
    "        similarity_deep = self.simaility(matrix_res)\n",
    "        topN_list = [x for x in np.argsort(np.nan_to_num(similarity_deep)[target_item])[:-N-1:-1]]\n",
    "        return topN_list\n",
    "        \n",
    "    def predictAll(self,similarity_deep):\n",
    "        poster_pt = self.imageDir\n",
    "        total_mvs = len([x for x in os.listdir(poster_pt) if match(\"\\d*.jpg\",x)])\n",
    "#         total_mvs = 3000\n",
    "        prediction_list = dict([(x,[]) for x in range(total_mvs)])\n",
    "        for i in prediction_list.keys():\n",
    "            prediction_list[i] = self.topN(i,similarity_deep)\n",
    "        return prediction_list\n",
    "if __name__ == '__main__':\n",
    "    vgg16 = Vgg16()\n",
    "    matrix_res = vgg16.load_result_matrix()\n",
    "    if matrix_res is None:\n",
    "        print \"trian model.....\"\n",
    "        matrix_res = vgg16.train()\n",
    "        vgg16.save_predict_res(matrix_res)\n",
    "        print \"Saved prediction_res in %s\" %vgg16.prediction_result\n",
    "    similarity_deep = vgg16.simaility(matrix_res)\n",
    "#     predict_result = vgg16.predictAll(similarity_deep)\n",
    "\n",
    "    \n",
    "    \n",
    "    \n",
    "   "
   ]
  },
  {
   "cell_type": "code",
   "execution_count": 23,
   "metadata": {},
   "outputs": [
    {
     "name": "stdout",
     "output_type": "stream",
     "text": [
      "[  0 624 288 876 635]\n",
      "[999 955 949 950 951]\n"
     ]
    },
    {
     "data": {
      "text/plain": [
       "array([ 0.23946939,  1.        ,  0.13101943,  0.10073374,  0.10451363,\n",
       "        0.10054349,  0.04589813,  0.12405837,  0.08207405,  0.13720627,\n",
       "        0.10969829,  0.26003591,  0.18700141,  0.08971   ,  0.08974866,\n",
       "        0.14738006,  0.12538916,  0.1089338 ,  0.25190809,  0.134432  ,\n",
       "        0.15508939,  0.13025737,  0.14874088,  0.30735896,  0.13353246,\n",
       "        0.10832563,  0.19777584,  0.10683053,  0.19906619,  0.08261908,\n",
       "        0.11900701,  0.04661581,  0.11794669,  0.14429579,  0.16453699,\n",
       "        0.13280007,  0.07187287,  0.12546816,  0.094768  ,  0.11825766,\n",
       "        0.10844327,  0.10282618,  0.0846725 ,  0.1092647 ,  0.1161096 ,\n",
       "        0.09783909,  0.23672258,  0.08802554,  0.06473351,  0.11185203,\n",
       "        0.13683093,  0.05916076,  0.07911046,  0.29743464,  0.17780309,\n",
       "        0.10636434,  0.1715804 ,  0.10706478,  0.09042545,  0.13546569,\n",
       "        0.16870232,  0.08505446,  0.13573467,  0.07892911,  0.21088019,\n",
       "        0.14351231,  0.06291733,  0.16754044,  0.24881537,  0.08458148,\n",
       "        0.07861028,  0.08932791,  0.10886418,  0.14949242,  0.14317577,\n",
       "        0.07808585,  0.14331271,  0.13461362,  0.08007096,  0.08857024,\n",
       "        0.10365591,  0.12824704,  0.22616264,  0.15154032,  0.09250566,\n",
       "        0.1800452 ,  0.18470748,  0.20061903,  0.1191473 ,  0.03847706,\n",
       "        0.09402778,  0.09754638,  0.30523483,  0.17461406,  0.05720104,\n",
       "        0.14400667,  0.17222381,  0.16540164,  0.26465996,  0.1156668 ,\n",
       "        0.11192481,  0.27504008,  0.07252461,  0.099233  ,  0.13362676,\n",
       "        0.15265545,  0.14388306,  0.1050605 ,  0.10460496,  0.13550949,\n",
       "        0.14624158,  0.13940325,  0.1352739 ,  0.14761923,  0.12508951,\n",
       "        0.05555649,  0.11591351,  0.11774491,  0.18698704,  0.25599713,\n",
       "        0.12140607,  0.20980544,  0.15562732,  0.18318772,  0.17119752,\n",
       "        0.09356382,  0.08454144,  0.13785711,  0.07387749,  0.10236601,\n",
       "        0.12317878,  0.11816056,  0.17600268,  0.31064174,  0.16277328,\n",
       "        0.24707104,  0.1654254 ,  0.13766409,  0.09036321,  0.09077386,\n",
       "        0.20501329,  0.07885354,  0.19081623,  0.10970827,  0.12186193,\n",
       "        0.19352014,  0.29782375,  0.19626634,  0.20881888,  0.09242521,\n",
       "        0.12220829,  0.19043506,  0.16543229,  0.15682994,  0.1157916 ,\n",
       "        0.11399143,  0.156734  ,  0.26385027,  0.15325384,  0.04343058,\n",
       "        0.13018788,  0.16940745,  0.05756338,  0.11343521,  0.1025118 ,\n",
       "        0.1439584 ,  0.11513794,  0.10877423,  0.20787817,  0.19233615,\n",
       "        0.14486052,  0.14026492,  0.21225788,  0.09514308,  0.13249491,\n",
       "        0.08726207,  0.19781367,  0.09058186,  0.10898587,  0.1359472 ,\n",
       "        0.11114604,  0.20043814,  0.07637137,  0.14100895,  0.15847686,\n",
       "        0.09719511,  0.31467801,  0.21502601,  0.10427206,  0.15078928,\n",
       "        0.03086295,  0.33743241,  0.1467509 ,  0.1167736 ,  0.18123106,\n",
       "        0.06740632,  0.1842998 ,  0.19320561,  0.06752946,  0.12463805,\n",
       "        0.14856218,  0.20260884,  0.12464446,  0.13541172,  0.14345311,\n",
       "        0.15977673,  0.18726683,  0.18078981,  0.32945898,  0.11132175,\n",
       "        0.12781397,  0.14003192,  0.27844287,  0.15154765,  0.09637007,\n",
       "        0.17907601,  0.15266322,  0.10033175,  0.06926663,  0.25282425,\n",
       "        0.16232583,  0.19631652,  0.0835356 ,  0.06386188,  0.16580101,\n",
       "        0.19320221,  0.14725698,  0.12316784,  0.15028044,  0.07654602,\n",
       "        0.11474692,  0.11718941,  0.14726225,  0.16527322,  0.08979422,\n",
       "        0.18128753,  0.10430186,  0.16400611,  0.14058412,  0.12250171,\n",
       "        0.19411931,  0.11964898,  0.10235839,  0.12867001,  0.06857366,\n",
       "        0.07670969,  0.10810088,  0.09143773,  0.15471052,  0.1250676 ,\n",
       "        0.0958711 ,  0.08559307,  0.14128154,  0.14059688,  0.14462299,\n",
       "        0.07525605,  0.32190618,  0.09331353,  0.11878284,  0.0556496 ,\n",
       "        0.11789118,  0.08646256,  0.17488275,  0.11092693,  0.1041533 ,\n",
       "        0.21705396,  0.09136734,  0.20294478,  0.14911057,  0.27622192,\n",
       "        0.17665485,  0.2390068 ,  0.21380945,  0.11222734,  0.17847519,\n",
       "        0.2220658 ,  0.28050554,  0.0932915 ,  0.13534441,  0.1558886 ,\n",
       "        0.07898521,  0.23795484,  0.10527378,  0.07286192,  0.13678557,\n",
       "        0.1128272 ,  0.16662146,  0.20956706,  0.22044619,  0.19695903,\n",
       "        0.13051806,  0.07022958,  0.1450275 ,  0.13810849,  0.18429609,\n",
       "        0.09360256,  0.21489393,  0.08201513,  0.1355934 ,  0.11681969,\n",
       "        0.13962894,  0.14212608,  0.23343058,  0.06400909,  0.34461846,\n",
       "        0.18089158,  0.19118052,  0.1055504 ,  0.13877796,  0.13987152,\n",
       "        0.08320263,  0.12334012,  0.08979388,  0.25425194,  0.03136304,\n",
       "        0.2568725 ,  0.24674503,  0.22400538,  0.08938993,  0.17374139,\n",
       "        0.16819673,  0.19642511,  0.2419994 ,  0.11856164,  0.1675873 ,\n",
       "        0.08535591,  0.16620832,  0.18826106,  0.12084006,  0.05093731,\n",
       "        0.22330028,  0.17115795,  0.27913886,  0.2043931 ,  0.21557386,\n",
       "        0.13756668,  0.1883158 ,  0.07866386,  0.19331302,  0.09266471,\n",
       "        0.10753434,  0.11873669,  0.08158352,  0.13224064,  0.05119098,\n",
       "        0.09635985,  0.23269988,  0.25317068,  0.12294709,  0.26289648,\n",
       "        0.11092545,  0.12493246,  0.11377974,  0.07660326,  0.22405825,\n",
       "        0.17074923,  0.16726154,  0.14843611,  0.24731133,  0.15035948,\n",
       "        0.14329986,  0.25858463,  0.12789251,  0.22130729,  0.21793527,\n",
       "        0.1178723 ,  0.07863963,  0.07548465,  0.17422482,  0.16731263,\n",
       "        0.18157795,  0.0771312 ,  0.09977328,  0.102621  ,  0.16645956,\n",
       "        0.1249977 ,  0.25473245,  0.19850688,  0.16848871,  0.17907661,\n",
       "        0.05672647,  0.17219208,  0.22660394,  0.16289914,  0.09255592,\n",
       "        0.14480595,  0.07588926,  0.14784799,  0.18225505,  0.17916756,\n",
       "        0.08619203,  0.07864993,  0.1249162 ,  0.17801549,  0.09332943,\n",
       "        0.09249482,  0.07450178,  0.09037161,  0.09511725,  0.12757044,\n",
       "        0.15724485,  0.15803418,  0.12124913,  0.09686234,  0.07858189,\n",
       "        0.08439741,  0.12264539,  0.17153736,  0.15246572,  0.09142081,\n",
       "        0.09731079,  0.12866632,  0.14253847,  0.20135848,  0.11810769,\n",
       "        0.32413431,  0.14684807,  0.15767505,  0.20493542,  0.13780189,\n",
       "        0.0644144 ,  0.26635677,  0.08507535,  0.14490896,  0.16146987,\n",
       "        0.1286215 ,  0.13017017,  0.24946122,  0.10250972,  0.12733011,\n",
       "        0.21026601,  0.13609368,  0.04949489,  0.22357309,  0.06917322,\n",
       "        0.15268031,  0.072903  ,  0.23548327,  0.18962446,  0.13051947,\n",
       "        0.06661381,  0.11343218,  0.06247723,  0.29152827,  0.09949021,\n",
       "        0.09428096,  0.22990103,  0.29087995,  0.10893742,  0.20453366,\n",
       "        0.33738131,  0.10965858,  0.14522023,  0.30644061,  0.16324136,\n",
       "        0.33417491,  0.15491113,  0.08179469,  0.21366313,  0.08769431,\n",
       "        0.12252584,  0.05833294,  0.11666621,  0.15478583,  0.19676334,\n",
       "        0.0856417 ,  0.05705061,  0.13528315,  0.08327704,  0.40928572,\n",
       "        0.16797874,  0.10655635,  0.13037331,  0.15440169,  0.13031093,\n",
       "        0.18071661,  0.13753724,  0.14437956,  0.16232866,  0.20025068,\n",
       "        0.28145718,  0.15106979,  0.13102923,  0.16859924,  0.15854474,\n",
       "        0.12076158,  0.10924103,  0.06229719,  0.23289539,  0.12888908,\n",
       "        0.06185965,  0.11130148,  0.07801065,  0.12658651,  0.12072549,\n",
       "        0.13534982,  0.16405863,  0.13257786,  0.13509818,  0.16972126,\n",
       "        0.13236436,  0.17457005,  0.07471466,  0.07391891,  0.21555981,\n",
       "        0.16790923,  0.16053089,  0.15129459,  0.0845203 ,  0.12328295,\n",
       "        0.26451915,  0.14426197,  0.23412639,  0.13414963,  0.04881596,\n",
       "        0.13133184,  0.11252687,  0.13207099,  0.35289192,  0.20604201,\n",
       "        0.07666688,  0.11304046,  0.21813113,  0.09015102,  0.07427222,\n",
       "        0.09837885,  0.1355675 ,  0.17243016,  0.17260153,  0.1906532 ,\n",
       "        0.17731285,  0.22499423,  0.17210065,  0.09573986,  0.14987917,\n",
       "        0.12921077,  0.11359215,  0.12408041,  0.11110617,  0.16243322,\n",
       "        0.06070129,  0.17320797,  0.11346337,  0.09529286,  0.14497387,\n",
       "        0.11607033,  0.14408893,  0.22374072,  0.19184755,  0.09994636,\n",
       "        0.12050754,  0.1880369 ,  0.17154397,  0.19662405,  0.11114609,\n",
       "        0.23649376,  0.33002272,  0.10408823,  0.22482621,  0.04816787,\n",
       "        0.17971686,  0.17163193,  0.06404676,  0.26718017,  0.08929871,\n",
       "        0.11351343,  0.07953154,  0.13955068,  0.0942295 ,  0.13521823,\n",
       "        0.19853507,  0.04649656,  0.08694855,  0.04835089,  0.13148987,\n",
       "        0.13008409,  0.11066581,  0.17236618,  0.13175599,  0.0789696 ,\n",
       "        0.12118188,  0.20915139,  0.21995313,  0.08910374,  0.17422638,\n",
       "        0.05515483,  0.2412822 ,  0.10942981,  0.11184829,  0.18060221,\n",
       "        0.09517142,  0.12184817,  0.12340497,  0.15898114,  0.14235606,\n",
       "        0.15256836,  0.16016464,  0.08417936,  0.12957153,  0.10811578,\n",
       "        0.10883396,  0.08604415,  0.12966644,  0.14199001,  0.19479193,\n",
       "        0.22762562,  0.24934278,  0.06217029,  0.12702448,  0.16111356,\n",
       "        0.09900691,  0.20203124,  0.14888821,  0.15881309,  0.15921708,\n",
       "        0.171637  ,  0.0847842 ,  0.08729058,  0.08602054,  0.16042262,\n",
       "        0.1540869 ,  0.05869907,  0.03946596,  0.08509857,  0.24248706,\n",
       "        0.16487921,  0.1122138 ,  0.28375888,  0.12044639,  0.22222399,\n",
       "        0.24421465,  0.14158409,  0.21607272,  0.11064246,  0.08242131,\n",
       "        0.18417476,  0.08602885,  0.21684705,  0.18705476,  0.1114682 ,\n",
       "        0.12314098,  0.13592406,  0.23230839,  0.12789077,  0.13770259,\n",
       "        0.15035488,  0.17107372,  0.04676119,  0.06767633,  0.19645767,\n",
       "        0.08435994,  0.13326309,  0.09668346,  0.10592558,  0.07356962,\n",
       "        0.21521641,  0.32247661,  0.14079974,  0.10450707,  0.12803796,\n",
       "        0.08705005,  0.16136455,  0.05778301,  0.16425806,  0.14770818,\n",
       "        0.15810858,  0.13250259,  0.22790278,  0.14643288,  0.09519047,\n",
       "        0.13768155,  0.26940648,  0.10537884,  0.10174938,  0.14860021,\n",
       "        0.30157686,  0.13630027,  0.11658429,  0.14120238,  0.11110049,\n",
       "        0.2169772 ,  0.14708548,  0.18205364,  0.11772317,  0.06257464,\n",
       "        0.19627359,  0.11298818,  0.18956163,  0.05543912,  0.24237968,\n",
       "        0.13828048,  0.15549179,  0.11934325,  0.22917445,  0.23157812,\n",
       "        0.11450042,  0.16296526,  0.08859239,  0.09522662,  0.24246232,\n",
       "        0.1319636 ,  0.15028383,  0.07110124,  0.07014147,  0.07263248,\n",
       "        0.07151798,  0.27416827,  0.16427938,  0.05853134,  0.24085803,\n",
       "        0.1100439 ,  0.14119109,  0.14692893,  0.09447872,  0.05866463,\n",
       "        0.15989917,  0.13995275,  0.07423262,  0.19165206,  0.21668773,\n",
       "        0.14438386,  0.12195584,  0.09220161,  0.171079  ,  0.1214168 ,\n",
       "        0.20300028,  0.08994408,  0.07391161,  0.07335675,  0.11258692,\n",
       "        0.13817908,  0.15102618,  0.12566887,  0.08832492,  0.11880676,\n",
       "        0.11735826,  0.16171005,  0.12030185,  0.26523462,  0.06258107,\n",
       "        0.3411375 ,  0.11230031,  0.12471918,  0.14214942,  0.08814508,\n",
       "        0.09439785,  0.17487434,  0.22998638,  0.17157548,  0.04889483,\n",
       "        0.08379599,  0.16000304,  0.14652805,  0.1480175 ,  0.11799963,\n",
       "        0.05272732,  0.07461868,  0.23155628,  0.3134721 ,  0.21875686,\n",
       "        0.23354697,  0.29688353,  0.14442436,  0.10115125,  0.09822689,\n",
       "        0.1906718 ,  0.12653012,  0.18473194,  0.18711656,  0.1243251 ,\n",
       "        0.16569988,  0.13972996,  0.23193231,  0.07758311,  0.14347047,\n",
       "        0.11512477,  0.140067  ,  0.22499592,  0.05943616,  0.09031138,\n",
       "        0.18185259,  0.16667046,  0.09649019,  0.08237728,  0.18189587,\n",
       "        0.15163404,  0.07738976,  0.18478528,  0.09569803,  0.10891747,\n",
       "        0.20681558,  0.11548231,  0.1735426 ,  0.11254611,  0.23194096,\n",
       "        0.11099068,  0.15874863,  0.10307491,  0.08651776,  0.19917866,\n",
       "        0.18594053,  0.10934326,  0.11542758,  0.31845501,  0.14852925,\n",
       "        0.13574807,  0.07551886,  0.05739826,  0.14729469,  0.0970082 ,\n",
       "        0.10533821,  0.29748506,  0.17399089,  0.0637453 ,  0.08980559,\n",
       "        0.12626089,  0.13603007,  0.11719526,  0.09591638,  0.12546961,\n",
       "        0.13003855,  0.0893824 ,  0.27079498,  0.2085227 ,  0.07603334,\n",
       "        0.08410367,  0.19200803,  0.1433762 ,  0.08680464,  0.36929812,\n",
       "        0.10988574,  0.17833733,  0.10401987,  0.24106361,  0.160736  ,\n",
       "        0.12404798,  0.13587933,  0.2362224 ,  0.07202821,  0.32983373,\n",
       "        0.10849235,  0.16735265,  0.19881219,  0.35633663,  0.22779349,\n",
       "        0.05243582,  0.09325969,  0.19175143,  0.11598004,  0.07534647,\n",
       "        0.23355652,  0.19467889,  0.1027421 ,  0.11839113,  0.15849366,\n",
       "        0.06703395,  0.06506593,  0.0966741 ,  0.12815621,  0.24862778,\n",
       "        0.12338181,  0.10925529,  0.11100356,  0.10831252,  0.15652758,\n",
       "        0.15115582,  0.14917818,  0.16449546,  0.19780288,  0.05217411,\n",
       "        0.24684861,  0.08533322,  0.14456119,  0.17561513,  0.10098654,\n",
       "        0.23814733,  0.16725188,  0.13549659,  0.13770589,  0.08422296,\n",
       "        0.19998792,  0.1051843 ,  0.11473854,  0.12384904,  0.11534407,\n",
       "        0.15685894,  0.16909812,  0.08205195,  0.08692919,  0.15372963,\n",
       "        0.14608395,  0.20662707,  0.0987586 ,  0.25414666,  0.13615547,\n",
       "        0.13316069,  0.0490456 ,  0.1265436 ,  0.13796974,  0.12326768,\n",
       "        0.10486804,  0.13183722,  0.24701726,  0.15449318,  0.33639035,\n",
       "        0.17955412,  0.15978687,  0.08079411,  0.05860136,  0.05514701,\n",
       "        0.25066335,  0.09161716,  0.14013366,  0.12779453,  0.1321668 ,\n",
       "        0.29857488,  0.08505672,  0.09142555,  0.09164748,  0.20907085,\n",
       "        0.23190644,  0.07080672,  0.27330938,  0.15103922,  0.08797177,\n",
       "        0.1676493 ,  0.15418264,  0.16950988,  0.31845988,  0.22998294,\n",
       "        0.06879036,  0.15546181,  0.20552736,         nan,         nan,\n",
       "               nan,         nan,         nan,         nan,         nan,\n",
       "               nan,         nan,         nan,         nan,         nan,\n",
       "               nan,         nan,         nan,         nan,         nan,\n",
       "               nan,         nan,         nan,         nan,         nan,\n",
       "               nan,         nan,         nan,         nan,         nan,\n",
       "               nan,         nan,         nan,         nan,         nan,\n",
       "               nan,         nan,         nan,         nan,         nan,\n",
       "               nan,         nan,         nan,         nan,         nan,\n",
       "               nan,         nan,         nan,         nan,         nan,\n",
       "               nan,         nan,         nan,         nan,         nan,\n",
       "               nan,         nan,         nan,         nan,         nan,\n",
       "               nan,         nan,         nan,         nan,         nan,\n",
       "               nan,         nan,         nan,         nan,         nan])"
      ]
     },
     "execution_count": 23,
     "metadata": {},
     "output_type": "execute_result"
    }
   ],
   "source": [
    "print np.argsort(np.nan_to_num(similarity_deep)[0])[:-6:-1]\n",
    "print np.argsort(np.nan_to_num(similarity_deep[1])[:-6:-1]\n"
   ]
  },
  {
   "cell_type": "code",
   "execution_count": 26,
   "metadata": {},
   "outputs": [
    {
     "data": {
      "text/html": [
       "<img style='width: 100px; margin: 0px; float: left; border: 1px solid black;' src=./poster/0.jpg /><img style='width: 100px; margin: 0px; float: left; border: 1px solid black;' src=./poster/624.jpg /><img style='width: 100px; margin: 0px; float: left; border: 1px solid black;' src=./poster/288.jpg /><img style='width: 100px; margin: 0px; float: left; border: 1px solid black;' src=./poster/876.jpg /><img style='width: 100px; margin: 0px; float: left; border: 1px solid black;' src=./poster/635.jpg />"
      ],
      "text/plain": [
       "<IPython.core.display.HTML object>"
      ]
     },
     "metadata": {},
     "output_type": "display_data"
    },
    {
     "data": {
      "text/html": [
       "<img style='width: 100px; margin: 0px; float: left; border: 1px solid black;' src=./poster/1.jpg /><img style='width: 100px; margin: 0px; float: left; border: 1px solid black;' src=./poster/469.jpg /><img style='width: 100px; margin: 0px; float: left; border: 1px solid black;' src=./poster/829.jpg /><img style='width: 100px; margin: 0px; float: left; border: 1px solid black;' src=./poster/843.jpg /><img style='width: 100px; margin: 0px; float: left; border: 1px solid black;' src=./poster/518.jpg />"
      ],
      "text/plain": [
       "<IPython.core.display.HTML object>"
      ]
     },
     "metadata": {},
     "output_type": "display_data"
    },
    {
     "data": {
      "text/html": [
       "<img style='width: 100px; margin: 0px; float: left; border: 1px solid black;' src=./poster/2.jpg /><img style='width: 100px; margin: 0px; float: left; border: 1px solid black;' src=./poster/394.jpg /><img style='width: 100px; margin: 0px; float: left; border: 1px solid black;' src=./poster/474.jpg /><img style='width: 100px; margin: 0px; float: left; border: 1px solid black;' src=./poster/583.jpg /><img style='width: 100px; margin: 0px; float: left; border: 1px solid black;' src=./poster/331.jpg />"
      ],
      "text/plain": [
       "<IPython.core.display.HTML object>"
      ]
     },
     "metadata": {},
     "output_type": "display_data"
    },
    {
     "data": {
      "text/html": [
       "<img style='width: 100px; margin: 0px; float: left; border: 1px solid black;' src=./poster/3.jpg /><img style='width: 100px; margin: 0px; float: left; border: 1px solid black;' src=./poster/308.jpg /><img style='width: 100px; margin: 0px; float: left; border: 1px solid black;' src=./poster/298.jpg /><img style='width: 100px; margin: 0px; float: left; border: 1px solid black;' src=./poster/179.jpg /><img style='width: 100px; margin: 0px; float: left; border: 1px solid black;' src=./poster/325.jpg />"
      ],
      "text/plain": [
       "<IPython.core.display.HTML object>"
      ]
     },
     "metadata": {},
     "output_type": "display_data"
    },
    {
     "data": {
      "text/html": [
       "<img style='width: 100px; margin: 0px; float: left; border: 1px solid black;' src=./poster/4.jpg /><img style='width: 100px; margin: 0px; float: left; border: 1px solid black;' src=./poster/381.jpg /><img style='width: 100px; margin: 0px; float: left; border: 1px solid black;' src=./poster/873.jpg /><img style='width: 100px; margin: 0px; float: left; border: 1px solid black;' src=./poster/900.jpg /><img style='width: 100px; margin: 0px; float: left; border: 1px solid black;' src=./poster/905.jpg />"
      ],
      "text/plain": [
       "<IPython.core.display.HTML object>"
      ]
     },
     "metadata": {},
     "output_type": "display_data"
    },
    {
     "data": {
      "text/html": [
       "<img style='width: 100px; margin: 0px; float: left; border: 1px solid black;' src=./poster/5.jpg /><img style='width: 100px; margin: 0px; float: left; border: 1px solid black;' src=./poster/855.jpg /><img style='width: 100px; margin: 0px; float: left; border: 1px solid black;' src=./poster/342.jpg /><img style='width: 100px; margin: 0px; float: left; border: 1px solid black;' src=./poster/126.jpg /><img style='width: 100px; margin: 0px; float: left; border: 1px solid black;' src=./poster/534.jpg />"
      ],
      "text/plain": [
       "<IPython.core.display.HTML object>"
      ]
     },
     "metadata": {},
     "output_type": "display_data"
    },
    {
     "data": {
      "text/html": [
       "<img style='width: 100px; margin: 0px; float: left; border: 1px solid black;' src=./poster/6.jpg /><img style='width: 100px; margin: 0px; float: left; border: 1px solid black;' src=./poster/360.jpg /><img style='width: 100px; margin: 0px; float: left; border: 1px solid black;' src=./poster/309.jpg /><img style='width: 100px; margin: 0px; float: left; border: 1px solid black;' src=./poster/178.jpg /><img style='width: 100px; margin: 0px; float: left; border: 1px solid black;' src=./poster/669.jpg />"
      ],
      "text/plain": [
       "<IPython.core.display.HTML object>"
      ]
     },
     "metadata": {},
     "output_type": "display_data"
    },
    {
     "data": {
      "text/html": [
       "<img style='width: 100px; margin: 0px; float: left; border: 1px solid black;' src=./poster/7.jpg /><img style='width: 100px; margin: 0px; float: left; border: 1px solid black;' src=./poster/13.jpg /><img style='width: 100px; margin: 0px; float: left; border: 1px solid black;' src=./poster/432.jpg /><img style='width: 100px; margin: 0px; float: left; border: 1px solid black;' src=./poster/159.jpg /><img style='width: 100px; margin: 0px; float: left; border: 1px solid black;' src=./poster/8.jpg />"
      ],
      "text/plain": [
       "<IPython.core.display.HTML object>"
      ]
     },
     "metadata": {},
     "output_type": "display_data"
    },
    {
     "data": {
      "text/html": [
       "<img style='width: 100px; margin: 0px; float: left; border: 1px solid black;' src=./poster/8.jpg /><img style='width: 100px; margin: 0px; float: left; border: 1px solid black;' src=./poster/542.jpg /><img style='width: 100px; margin: 0px; float: left; border: 1px solid black;' src=./poster/340.jpg /><img style='width: 100px; margin: 0px; float: left; border: 1px solid black;' src=./poster/250.jpg /><img style='width: 100px; margin: 0px; float: left; border: 1px solid black;' src=./poster/7.jpg />"
      ],
      "text/plain": [
       "<IPython.core.display.HTML object>"
      ]
     },
     "metadata": {},
     "output_type": "display_data"
    },
    {
     "data": {
      "text/html": [
       "<img style='width: 100px; margin: 0px; float: left; border: 1px solid black;' src=./poster/9.jpg /><img style='width: 100px; margin: 0px; float: left; border: 1px solid black;' src=./poster/411.jpg /><img style='width: 100px; margin: 0px; float: left; border: 1px solid black;' src=./poster/534.jpg /><img style='width: 100px; margin: 0px; float: left; border: 1px solid black;' src=./poster/10.jpg /><img style='width: 100px; margin: 0px; float: left; border: 1px solid black;' src=./poster/825.jpg />"
      ],
      "text/plain": [
       "<IPython.core.display.HTML object>"
      ]
     },
     "metadata": {},
     "output_type": "display_data"
    },
    {
     "data": {
      "text/html": [
       "<img style='width: 100px; margin: 0px; float: left; border: 1px solid black;' src=./poster/10.jpg /><img style='width: 100px; margin: 0px; float: left; border: 1px solid black;' src=./poster/534.jpg /><img style='width: 100px; margin: 0px; float: left; border: 1px solid black;' src=./poster/691.jpg /><img style='width: 100px; margin: 0px; float: left; border: 1px solid black;' src=./poster/323.jpg /><img style='width: 100px; margin: 0px; float: left; border: 1px solid black;' src=./poster/711.jpg />"
      ],
      "text/plain": [
       "<IPython.core.display.HTML object>"
      ]
     },
     "metadata": {},
     "output_type": "display_data"
    },
    {
     "data": {
      "text/html": [
       "<img style='width: 100px; margin: 0px; float: left; border: 1px solid black;' src=./poster/11.jpg /><img style='width: 100px; margin: 0px; float: left; border: 1px solid black;' src=./poster/256.jpg /><img style='width: 100px; margin: 0px; float: left; border: 1px solid black;' src=./poster/296.jpg /><img style='width: 100px; margin: 0px; float: left; border: 1px solid black;' src=./poster/875.jpg /><img style='width: 100px; margin: 0px; float: left; border: 1px solid black;' src=./poster/787.jpg />"
      ],
      "text/plain": [
       "<IPython.core.display.HTML object>"
      ]
     },
     "metadata": {},
     "output_type": "display_data"
    },
    {
     "data": {
      "text/html": [
       "<img style='width: 100px; margin: 0px; float: left; border: 1px solid black;' src=./poster/12.jpg /><img style='width: 100px; margin: 0px; float: left; border: 1px solid black;' src=./poster/56.jpg /><img style='width: 100px; margin: 0px; float: left; border: 1px solid black;' src=./poster/920.jpg /><img style='width: 100px; margin: 0px; float: left; border: 1px solid black;' src=./poster/212.jpg /><img style='width: 100px; margin: 0px; float: left; border: 1px solid black;' src=./poster/25.jpg />"
      ],
      "text/plain": [
       "<IPython.core.display.HTML object>"
      ]
     },
     "metadata": {},
     "output_type": "display_data"
    },
    {
     "data": {
      "text/html": [
       "<img style='width: 100px; margin: 0px; float: left; border: 1px solid black;' src=./poster/13.jpg /><img style='width: 100px; margin: 0px; float: left; border: 1px solid black;' src=./poster/340.jpg /><img style='width: 100px; margin: 0px; float: left; border: 1px solid black;' src=./poster/7.jpg /><img style='width: 100px; margin: 0px; float: left; border: 1px solid black;' src=./poster/629.jpg /><img style='width: 100px; margin: 0px; float: left; border: 1px solid black;' src=./poster/8.jpg />"
      ],
      "text/plain": [
       "<IPython.core.display.HTML object>"
      ]
     },
     "metadata": {},
     "output_type": "display_data"
    },
    {
     "data": {
      "text/html": [
       "<img style='width: 100px; margin: 0px; float: left; border: 1px solid black;' src=./poster/14.jpg /><img style='width: 100px; margin: 0px; float: left; border: 1px solid black;' src=./poster/711.jpg /><img style='width: 100px; margin: 0px; float: left; border: 1px solid black;' src=./poster/517.jpg /><img style='width: 100px; margin: 0px; float: left; border: 1px solid black;' src=./poster/479.jpg /><img style='width: 100px; margin: 0px; float: left; border: 1px solid black;' src=./poster/769.jpg />"
      ],
      "text/plain": [
       "<IPython.core.display.HTML object>"
      ]
     },
     "metadata": {},
     "output_type": "display_data"
    },
    {
     "data": {
      "text/html": [
       "<img style='width: 100px; margin: 0px; float: left; border: 1px solid black;' src=./poster/15.jpg /><img style='width: 100px; margin: 0px; float: left; border: 1px solid black;' src=./poster/924.jpg /><img style='width: 100px; margin: 0px; float: left; border: 1px solid black;' src=./poster/858.jpg /><img style='width: 100px; margin: 0px; float: left; border: 1px solid black;' src=./poster/897.jpg /><img style='width: 100px; margin: 0px; float: left; border: 1px solid black;' src=./poster/333.jpg />"
      ],
      "text/plain": [
       "<IPython.core.display.HTML object>"
      ]
     },
     "metadata": {},
     "output_type": "display_data"
    },
    {
     "data": {
      "text/html": [
       "<img style='width: 100px; margin: 0px; float: left; border: 1px solid black;' src=./poster/16.jpg /><img style='width: 100px; margin: 0px; float: left; border: 1px solid black;' src=./poster/882.jpg /><img style='width: 100px; margin: 0px; float: left; border: 1px solid black;' src=./poster/229.jpg /><img style='width: 100px; margin: 0px; float: left; border: 1px solid black;' src=./poster/91.jpg /><img style='width: 100px; margin: 0px; float: left; border: 1px solid black;' src=./poster/681.jpg />"
      ],
      "text/plain": [
       "<IPython.core.display.HTML object>"
      ]
     },
     "metadata": {},
     "output_type": "display_data"
    },
    {
     "data": {
      "text/html": [
       "<img style='width: 100px; margin: 0px; float: left; border: 1px solid black;' src=./poster/17.jpg /><img style='width: 100px; margin: 0px; float: left; border: 1px solid black;' src=./poster/193.jpg /><img style='width: 100px; margin: 0px; float: left; border: 1px solid black;' src=./poster/331.jpg /><img style='width: 100px; margin: 0px; float: left; border: 1px solid black;' src=./poster/20.jpg /><img style='width: 100px; margin: 0px; float: left; border: 1px solid black;' src=./poster/246.jpg />"
      ],
      "text/plain": [
       "<IPython.core.display.HTML object>"
      ]
     },
     "metadata": {},
     "output_type": "display_data"
    },
    {
     "data": {
      "text/html": [
       "<img style='width: 100px; margin: 0px; float: left; border: 1px solid black;' src=./poster/18.jpg /><img style='width: 100px; margin: 0px; float: left; border: 1px solid black;' src=./poster/760.jpg /><img style='width: 100px; margin: 0px; float: left; border: 1px solid black;' src=./poster/671.jpg /><img style='width: 100px; margin: 0px; float: left; border: 1px solid black;' src=./poster/281.jpg /><img style='width: 100px; margin: 0px; float: left; border: 1px solid black;' src=./poster/1.jpg />"
      ],
      "text/plain": [
       "<IPython.core.display.HTML object>"
      ]
     },
     "metadata": {},
     "output_type": "display_data"
    },
    {
     "data": {
      "text/html": [
       "<img style='width: 100px; margin: 0px; float: left; border: 1px solid black;' src=./poster/19.jpg /><img style='width: 100px; margin: 0px; float: left; border: 1px solid black;' src=./poster/479.jpg /><img style='width: 100px; margin: 0px; float: left; border: 1px solid black;' src=./poster/861.jpg /><img style='width: 100px; margin: 0px; float: left; border: 1px solid black;' src=./poster/923.jpg /><img style='width: 100px; margin: 0px; float: left; border: 1px solid black;' src=./poster/608.jpg />"
      ],
      "text/plain": [
       "<IPython.core.display.HTML object>"
      ]
     },
     "metadata": {},
     "output_type": "display_data"
    },
    {
     "data": {
      "text/html": [
       "<img style='width: 100px; margin: 0px; float: left; border: 1px solid black;' src=./poster/20.jpg /><img style='width: 100px; margin: 0px; float: left; border: 1px solid black;' src=./poster/858.jpg /><img style='width: 100px; margin: 0px; float: left; border: 1px solid black;' src=./poster/331.jpg /><img style='width: 100px; margin: 0px; float: left; border: 1px solid black;' src=./poster/732.jpg /><img style='width: 100px; margin: 0px; float: left; border: 1px solid black;' src=./poster/425.jpg />"
      ],
      "text/plain": [
       "<IPython.core.display.HTML object>"
      ]
     },
     "metadata": {},
     "output_type": "display_data"
    },
    {
     "data": {
      "text/html": [
       "<img style='width: 100px; margin: 0px; float: left; border: 1px solid black;' src=./poster/21.jpg /><img style='width: 100px; margin: 0px; float: left; border: 1px solid black;' src=./poster/188.jpg /><img style='width: 100px; margin: 0px; float: left; border: 1px solid black;' src=./poster/534.jpg /><img style='width: 100px; margin: 0px; float: left; border: 1px solid black;' src=./poster/308.jpg /><img style='width: 100px; margin: 0px; float: left; border: 1px solid black;' src=./poster/423.jpg />"
      ],
      "text/plain": [
       "<IPython.core.display.HTML object>"
      ]
     },
     "metadata": {},
     "output_type": "display_data"
    },
    {
     "data": {
      "text/html": [
       "<img style='width: 100px; margin: 0px; float: left; border: 1px solid black;' src=./poster/22.jpg /><img style='width: 100px; margin: 0px; float: left; border: 1px solid black;' src=./poster/605.jpg /><img style='width: 100px; margin: 0px; float: left; border: 1px solid black;' src=./poster/770.jpg /><img style='width: 100px; margin: 0px; float: left; border: 1px solid black;' src=./poster/772.jpg /><img style='width: 100px; margin: 0px; float: left; border: 1px solid black;' src=./poster/891.jpg />"
      ],
      "text/plain": [
       "<IPython.core.display.HTML object>"
      ]
     },
     "metadata": {},
     "output_type": "display_data"
    },
    {
     "data": {
      "text/html": [
       "<img style='width: 100px; margin: 0px; float: left; border: 1px solid black;' src=./poster/23.jpg /><img style='width: 100px; margin: 0px; float: left; border: 1px solid black;' src=./poster/186.jpg /><img style='width: 100px; margin: 0px; float: left; border: 1px solid black;' src=./poster/928.jpg /><img style='width: 100px; margin: 0px; float: left; border: 1px solid black;' src=./poster/563.jpg /><img style='width: 100px; margin: 0px; float: left; border: 1px solid black;' src=./poster/738.jpg />"
      ],
      "text/plain": [
       "<IPython.core.display.HTML object>"
      ]
     },
     "metadata": {},
     "output_type": "display_data"
    },
    {
     "data": {
      "text/html": [
       "<img style='width: 100px; margin: 0px; float: left; border: 1px solid black;' src=./poster/24.jpg /><img style='width: 100px; margin: 0px; float: left; border: 1px solid black;' src=./poster/534.jpg /><img style='width: 100px; margin: 0px; float: left; border: 1px solid black;' src=./poster/412.jpg /><img style='width: 100px; margin: 0px; float: left; border: 1px solid black;' src=./poster/433.jpg /><img style='width: 100px; margin: 0px; float: left; border: 1px solid black;' src=./poster/814.jpg />"
      ],
      "text/plain": [
       "<IPython.core.display.HTML object>"
      ]
     },
     "metadata": {},
     "output_type": "display_data"
    },
    {
     "data": {
      "text/html": [
       "<img style='width: 100px; margin: 0px; float: left; border: 1px solid black;' src=./poster/25.jpg /><img style='width: 100px; margin: 0px; float: left; border: 1px solid black;' src=./poster/541.jpg /><img style='width: 100px; margin: 0px; float: left; border: 1px solid black;' src=./poster/892.jpg /><img style='width: 100px; margin: 0px; float: left; border: 1px solid black;' src=./poster/10.jpg /><img style='width: 100px; margin: 0px; float: left; border: 1px solid black;' src=./poster/323.jpg />"
      ],
      "text/plain": [
       "<IPython.core.display.HTML object>"
      ]
     },
     "metadata": {},
     "output_type": "display_data"
    },
    {
     "data": {
      "text/html": [
       "<img style='width: 100px; margin: 0px; float: left; border: 1px solid black;' src=./poster/26.jpg /><img style='width: 100px; margin: 0px; float: left; border: 1px solid black;' src=./poster/586.jpg /><img style='width: 100px; margin: 0px; float: left; border: 1px solid black;' src=./poster/229.jpg /><img style='width: 100px; margin: 0px; float: left; border: 1px solid black;' src=./poster/639.jpg /><img style='width: 100px; margin: 0px; float: left; border: 1px solid black;' src=./poster/87.jpg />"
      ],
      "text/plain": [
       "<IPython.core.display.HTML object>"
      ]
     },
     "metadata": {},
     "output_type": "display_data"
    },
    {
     "data": {
      "text/html": [
       "<img style='width: 100px; margin: 0px; float: left; border: 1px solid black;' src=./poster/27.jpg /><img style='width: 100px; margin: 0px; float: left; border: 1px solid black;' src=./poster/104.jpg /><img style='width: 100px; margin: 0px; float: left; border: 1px solid black;' src=./poster/590.jpg /><img style='width: 100px; margin: 0px; float: left; border: 1px solid black;' src=./poster/620.jpg /><img style='width: 100px; margin: 0px; float: left; border: 1px solid black;' src=./poster/625.jpg />"
      ],
      "text/plain": [
       "<IPython.core.display.HTML object>"
      ]
     },
     "metadata": {},
     "output_type": "display_data"
    },
    {
     "data": {
      "text/html": [
       "<img style='width: 100px; margin: 0px; float: left; border: 1px solid black;' src=./poster/28.jpg /><img style='width: 100px; margin: 0px; float: left; border: 1px solid black;' src=./poster/97.jpg /><img style='width: 100px; margin: 0px; float: left; border: 1px solid black;' src=./poster/837.jpg /><img style='width: 100px; margin: 0px; float: left; border: 1px solid black;' src=./poster/885.jpg /><img style='width: 100px; margin: 0px; float: left; border: 1px solid black;' src=./poster/758.jpg />"
      ],
      "text/plain": [
       "<IPython.core.display.HTML object>"
      ]
     },
     "metadata": {},
     "output_type": "display_data"
    },
    {
     "data": {
      "text/html": [
       "<img style='width: 100px; margin: 0px; float: left; border: 1px solid black;' src=./poster/29.jpg /><img style='width: 100px; margin: 0px; float: left; border: 1px solid black;' src=./poster/793.jpg /><img style='width: 100px; margin: 0px; float: left; border: 1px solid black;' src=./poster/230.jpg /><img style='width: 100px; margin: 0px; float: left; border: 1px solid black;' src=./poster/625.jpg /><img style='width: 100px; margin: 0px; float: left; border: 1px solid black;' src=./poster/348.jpg />"
      ],
      "text/plain": [
       "<IPython.core.display.HTML object>"
      ]
     },
     "metadata": {},
     "output_type": "display_data"
    },
    {
     "data": {
      "text/html": [
       "<img style='width: 100px; margin: 0px; float: left; border: 1px solid black;' src=./poster/30.jpg /><img style='width: 100px; margin: 0px; float: left; border: 1px solid black;' src=./poster/566.jpg /><img style='width: 100px; margin: 0px; float: left; border: 1px solid black;' src=./poster/550.jpg /><img style='width: 100px; margin: 0px; float: left; border: 1px solid black;' src=./poster/311.jpg /><img style='width: 100px; margin: 0px; float: left; border: 1px solid black;' src=./poster/814.jpg />"
      ],
      "text/plain": [
       "<IPython.core.display.HTML object>"
      ]
     },
     "metadata": {},
     "output_type": "display_data"
    },
    {
     "data": {
      "text/html": [
       "<img style='width: 100px; margin: 0px; float: left; border: 1px solid black;' src=./poster/31.jpg /><img style='width: 100px; margin: 0px; float: left; border: 1px solid black;' src=./poster/291.jpg /><img style='width: 100px; margin: 0px; float: left; border: 1px solid black;' src=./poster/254.jpg /><img style='width: 100px; margin: 0px; float: left; border: 1px solid black;' src=./poster/924.jpg /><img style='width: 100px; margin: 0px; float: left; border: 1px solid black;' src=./poster/310.jpg />"
      ],
      "text/plain": [
       "<IPython.core.display.HTML object>"
      ]
     },
     "metadata": {},
     "output_type": "display_data"
    },
    {
     "data": {
      "text/html": [
       "<img style='width: 100px; margin: 0px; float: left; border: 1px solid black;' src=./poster/32.jpg /><img style='width: 100px; margin: 0px; float: left; border: 1px solid black;' src=./poster/693.jpg /><img style='width: 100px; margin: 0px; float: left; border: 1px solid black;' src=./poster/822.jpg /><img style='width: 100px; margin: 0px; float: left; border: 1px solid black;' src=./poster/610.jpg /><img style='width: 100px; margin: 0px; float: left; border: 1px solid black;' src=./poster/129.jpg />"
      ],
      "text/plain": [
       "<IPython.core.display.HTML object>"
      ]
     },
     "metadata": {},
     "output_type": "display_data"
    },
    {
     "data": {
      "text/html": [
       "<img style='width: 100px; margin: 0px; float: left; border: 1px solid black;' src=./poster/33.jpg /><img style='width: 100px; margin: 0px; float: left; border: 1px solid black;' src=./poster/545.jpg /><img style='width: 100px; margin: 0px; float: left; border: 1px solid black;' src=./poster/34.jpg /><img style='width: 100px; margin: 0px; float: left; border: 1px solid black;' src=./poster/54.jpg /><img style='width: 100px; margin: 0px; float: left; border: 1px solid black;' src=./poster/627.jpg />"
      ],
      "text/plain": [
       "<IPython.core.display.HTML object>"
      ]
     },
     "metadata": {},
     "output_type": "display_data"
    },
    {
     "data": {
      "text/html": [
       "<img style='width: 100px; margin: 0px; float: left; border: 1px solid black;' src=./poster/34.jpg /><img style='width: 100px; margin: 0px; float: left; border: 1px solid black;' src=./poster/545.jpg /><img style='width: 100px; margin: 0px; float: left; border: 1px solid black;' src=./poster/818.jpg /><img style='width: 100px; margin: 0px; float: left; border: 1px solid black;' src=./poster/563.jpg /><img style='width: 100px; margin: 0px; float: left; border: 1px solid black;' src=./poster/97.jpg />"
      ],
      "text/plain": [
       "<IPython.core.display.HTML object>"
      ]
     },
     "metadata": {},
     "output_type": "display_data"
    },
    {
     "data": {
      "text/html": [
       "<img style='width: 100px; margin: 0px; float: left; border: 1px solid black;' src=./poster/35.jpg /><img style='width: 100px; margin: 0px; float: left; border: 1px solid black;' src=./poster/282.jpg /><img style='width: 100px; margin: 0px; float: left; border: 1px solid black;' src=./poster/80.jpg /><img style='width: 100px; margin: 0px; float: left; border: 1px solid black;' src=./poster/917.jpg /><img style='width: 100px; margin: 0px; float: left; border: 1px solid black;' src=./poster/354.jpg />"
      ],
      "text/plain": [
       "<IPython.core.display.HTML object>"
      ]
     },
     "metadata": {},
     "output_type": "display_data"
    },
    {
     "data": {
      "text/html": [
       "<img style='width: 100px; margin: 0px; float: left; border: 1px solid black;' src=./poster/36.jpg /><img style='width: 100px; margin: 0px; float: left; border: 1px solid black;' src=./poster/236.jpg /><img style='width: 100px; margin: 0px; float: left; border: 1px solid black;' src=./poster/303.jpg /><img style='width: 100px; margin: 0px; float: left; border: 1px solid black;' src=./poster/280.jpg /><img style='width: 100px; margin: 0px; float: left; border: 1px solid black;' src=./poster/16.jpg />"
      ],
      "text/plain": [
       "<IPython.core.display.HTML object>"
      ]
     },
     "metadata": {},
     "output_type": "display_data"
    },
    {
     "data": {
      "text/html": [
       "<img style='width: 100px; margin: 0px; float: left; border: 1px solid black;' src=./poster/37.jpg /><img style='width: 100px; margin: 0px; float: left; border: 1px solid black;' src=./poster/287.jpg /><img style='width: 100px; margin: 0px; float: left; border: 1px solid black;' src=./poster/516.jpg /><img style='width: 100px; margin: 0px; float: left; border: 1px solid black;' src=./poster/834.jpg /><img style='width: 100px; margin: 0px; float: left; border: 1px solid black;' src=./poster/658.jpg />"
      ],
      "text/plain": [
       "<IPython.core.display.HTML object>"
      ]
     },
     "metadata": {},
     "output_type": "display_data"
    },
    {
     "data": {
      "text/html": [
       "<img style='width: 100px; margin: 0px; float: left; border: 1px solid black;' src=./poster/38.jpg /><img style='width: 100px; margin: 0px; float: left; border: 1px solid black;' src=./poster/72.jpg /><img style='width: 100px; margin: 0px; float: left; border: 1px solid black;' src=./poster/734.jpg /><img style='width: 100px; margin: 0px; float: left; border: 1px solid black;' src=./poster/831.jpg /><img style='width: 100px; margin: 0px; float: left; border: 1px solid black;' src=./poster/805.jpg />"
      ],
      "text/plain": [
       "<IPython.core.display.HTML object>"
      ]
     },
     "metadata": {},
     "output_type": "display_data"
    },
    {
     "data": {
      "text/html": [
       "<img style='width: 100px; margin: 0px; float: left; border: 1px solid black;' src=./poster/39.jpg /><img style='width: 100px; margin: 0px; float: left; border: 1px solid black;' src=./poster/493.jpg /><img style='width: 100px; margin: 0px; float: left; border: 1px solid black;' src=./poster/855.jpg /><img style='width: 100px; margin: 0px; float: left; border: 1px solid black;' src=./poster/588.jpg /><img style='width: 100px; margin: 0px; float: left; border: 1px solid black;' src=./poster/320.jpg />"
      ],
      "text/plain": [
       "<IPython.core.display.HTML object>"
      ]
     },
     "metadata": {},
     "output_type": "display_data"
    },
    {
     "data": {
      "text/html": [
       "<img style='width: 100px; margin: 0px; float: left; border: 1px solid black;' src=./poster/40.jpg /><img style='width: 100px; margin: 0px; float: left; border: 1px solid black;' src=./poster/677.jpg /><img style='width: 100px; margin: 0px; float: left; border: 1px solid black;' src=./poster/808.jpg /><img style='width: 100px; margin: 0px; float: left; border: 1px solid black;' src=./poster/679.jpg /><img style='width: 100px; margin: 0px; float: left; border: 1px solid black;' src=./poster/372.jpg />"
      ],
      "text/plain": [
       "<IPython.core.display.HTML object>"
      ]
     },
     "metadata": {},
     "output_type": "display_data"
    },
    {
     "data": {
      "text/html": [
       "<img style='width: 100px; margin: 0px; float: left; border: 1px solid black;' src=./poster/41.jpg /><img style='width: 100px; margin: 0px; float: left; border: 1px solid black;' src=./poster/692.jpg /><img style='width: 100px; margin: 0px; float: left; border: 1px solid black;' src=./poster/258.jpg /><img style='width: 100px; margin: 0px; float: left; border: 1px solid black;' src=./poster/729.jpg /><img style='width: 100px; margin: 0px; float: left; border: 1px solid black;' src=./poster/566.jpg />"
      ],
      "text/plain": [
       "<IPython.core.display.HTML object>"
      ]
     },
     "metadata": {},
     "output_type": "display_data"
    },
    {
     "data": {
      "text/html": [
       "<img style='width: 100px; margin: 0px; float: left; border: 1px solid black;' src=./poster/42.jpg /><img style='width: 100px; margin: 0px; float: left; border: 1px solid black;' src=./poster/623.jpg /><img style='width: 100px; margin: 0px; float: left; border: 1px solid black;' src=./poster/139.jpg /><img style='width: 100px; margin: 0px; float: left; border: 1px solid black;' src=./poster/757.jpg /><img style='width: 100px; margin: 0px; float: left; border: 1px solid black;' src=./poster/555.jpg />"
      ],
      "text/plain": [
       "<IPython.core.display.HTML object>"
      ]
     },
     "metadata": {},
     "output_type": "display_data"
    },
    {
     "data": {
      "text/html": [
       "<img style='width: 100px; margin: 0px; float: left; border: 1px solid black;' src=./poster/43.jpg /><img style='width: 100px; margin: 0px; float: left; border: 1px solid black;' src=./poster/921.jpg /><img style='width: 100px; margin: 0px; float: left; border: 1px solid black;' src=./poster/188.jpg /><img style='width: 100px; margin: 0px; float: left; border: 1px solid black;' src=./poster/571.jpg /><img style='width: 100px; margin: 0px; float: left; border: 1px solid black;' src=./poster/323.jpg />"
      ],
      "text/plain": [
       "<IPython.core.display.HTML object>"
      ]
     },
     "metadata": {},
     "output_type": "display_data"
    },
    {
     "data": {
      "text/html": [
       "<img style='width: 100px; margin: 0px; float: left; border: 1px solid black;' src=./poster/44.jpg /><img style='width: 100px; margin: 0px; float: left; border: 1px solid black;' src=./poster/390.jpg /><img style='width: 100px; margin: 0px; float: left; border: 1px solid black;' src=./poster/423.jpg /><img style='width: 100px; margin: 0px; float: left; border: 1px solid black;' src=./poster/688.jpg /><img style='width: 100px; margin: 0px; float: left; border: 1px solid black;' src=./poster/75.jpg />"
      ],
      "text/plain": [
       "<IPython.core.display.HTML object>"
      ]
     },
     "metadata": {},
     "output_type": "display_data"
    },
    {
     "data": {
      "text/html": [
       "<img style='width: 100px; margin: 0px; float: left; border: 1px solid black;' src=./poster/45.jpg /><img style='width: 100px; margin: 0px; float: left; border: 1px solid black;' src=./poster/457.jpg /><img style='width: 100px; margin: 0px; float: left; border: 1px solid black;' src=./poster/236.jpg /><img style='width: 100px; margin: 0px; float: left; border: 1px solid black;' src=./poster/659.jpg /><img style='width: 100px; margin: 0px; float: left; border: 1px solid black;' src=./poster/373.jpg />"
      ],
      "text/plain": [
       "<IPython.core.display.HTML object>"
      ]
     },
     "metadata": {},
     "output_type": "display_data"
    },
    {
     "data": {
      "text/html": [
       "<img style='width: 100px; margin: 0px; float: left; border: 1px solid black;' src=./poster/46.jpg /><img style='width: 100px; margin: 0px; float: left; border: 1px solid black;' src=./poster/97.jpg /><img style='width: 100px; margin: 0px; float: left; border: 1px solid black;' src=./poster/928.jpg /><img style='width: 100px; margin: 0px; float: left; border: 1px solid black;' src=./poster/388.jpg /><img style='width: 100px; margin: 0px; float: left; border: 1px solid black;' src=./poster/822.jpg />"
      ],
      "text/plain": [
       "<IPython.core.display.HTML object>"
      ]
     },
     "metadata": {},
     "output_type": "display_data"
    },
    {
     "data": {
      "text/html": [
       "<img style='width: 100px; margin: 0px; float: left; border: 1px solid black;' src=./poster/47.jpg /><img style='width: 100px; margin: 0px; float: left; border: 1px solid black;' src=./poster/404.jpg /><img style='width: 100px; margin: 0px; float: left; border: 1px solid black;' src=./poster/91.jpg /><img style='width: 100px; margin: 0px; float: left; border: 1px solid black;' src=./poster/814.jpg /><img style='width: 100px; margin: 0px; float: left; border: 1px solid black;' src=./poster/542.jpg />"
      ],
      "text/plain": [
       "<IPython.core.display.HTML object>"
      ]
     },
     "metadata": {},
     "output_type": "display_data"
    },
    {
     "data": {
      "text/html": [
       "<img style='width: 100px; margin: 0px; float: left; border: 1px solid black;' src=./poster/48.jpg /><img style='width: 100px; margin: 0px; float: left; border: 1px solid black;' src=./poster/360.jpg /><img style='width: 100px; margin: 0px; float: left; border: 1px solid black;' src=./poster/331.jpg /><img style='width: 100px; margin: 0px; float: left; border: 1px solid black;' src=./poster/334.jpg /><img style='width: 100px; margin: 0px; float: left; border: 1px solid black;' src=./poster/89.jpg />"
      ],
      "text/plain": [
       "<IPython.core.display.HTML object>"
      ]
     },
     "metadata": {},
     "output_type": "display_data"
    },
    {
     "data": {
      "text/html": [
       "<img style='width: 100px; margin: 0px; float: left; border: 1px solid black;' src=./poster/49.jpg /><img style='width: 100px; margin: 0px; float: left; border: 1px solid black;' src=./poster/695.jpg /><img style='width: 100px; margin: 0px; float: left; border: 1px solid black;' src=./poster/677.jpg /><img style='width: 100px; margin: 0px; float: left; border: 1px solid black;' src=./poster/362.jpg /><img style='width: 100px; margin: 0px; float: left; border: 1px solid black;' src=./poster/230.jpg />"
      ],
      "text/plain": [
       "<IPython.core.display.HTML object>"
      ]
     },
     "metadata": {},
     "output_type": "display_data"
    },
    {
     "data": {
      "text/html": [
       "<img style='width: 100px; margin: 0px; float: left; border: 1px solid black;' src=./poster/50.jpg /><img style='width: 100px; margin: 0px; float: left; border: 1px solid black;' src=./poster/15.jpg /><img style='width: 100px; margin: 0px; float: left; border: 1px solid black;' src=./poster/671.jpg /><img style='width: 100px; margin: 0px; float: left; border: 1px solid black;' src=./poster/108.jpg /><img style='width: 100px; margin: 0px; float: left; border: 1px solid black;' src=./poster/236.jpg />"
      ],
      "text/plain": [
       "<IPython.core.display.HTML object>"
      ]
     },
     "metadata": {},
     "output_type": "display_data"
    },
    {
     "data": {
      "text/html": [
       "<img style='width: 100px; margin: 0px; float: left; border: 1px solid black;' src=./poster/51.jpg /><img style='width: 100px; margin: 0px; float: left; border: 1px solid black;' src=./poster/500.jpg /><img style='width: 100px; margin: 0px; float: left; border: 1px solid black;' src=./poster/203.jpg /><img style='width: 100px; margin: 0px; float: left; border: 1px solid black;' src=./poster/532.jpg /><img style='width: 100px; margin: 0px; float: left; border: 1px solid black;' src=./poster/112.jpg />"
      ],
      "text/plain": [
       "<IPython.core.display.HTML object>"
      ]
     },
     "metadata": {},
     "output_type": "display_data"
    },
    {
     "data": {
      "text/html": [
       "<img style='width: 100px; margin: 0px; float: left; border: 1px solid black;' src=./poster/52.jpg /><img style='width: 100px; margin: 0px; float: left; border: 1px solid black;' src=./poster/486.jpg /><img style='width: 100px; margin: 0px; float: left; border: 1px solid black;' src=./poster/609.jpg /><img style='width: 100px; margin: 0px; float: left; border: 1px solid black;' src=./poster/315.jpg /><img style='width: 100px; margin: 0px; float: left; border: 1px solid black;' src=./poster/11.jpg />"
      ],
      "text/plain": [
       "<IPython.core.display.HTML object>"
      ]
     },
     "metadata": {},
     "output_type": "display_data"
    },
    {
     "data": {
      "text/html": [
       "<img style='width: 100px; margin: 0px; float: left; border: 1px solid black;' src=./poster/53.jpg /><img style='width: 100px; margin: 0px; float: left; border: 1px solid black;' src=./poster/758.jpg /><img style='width: 100px; margin: 0px; float: left; border: 1px solid black;' src=./poster/219.jpg /><img style='width: 100px; margin: 0px; float: left; border: 1px solid black;' src=./poster/740.jpg /><img style='width: 100px; margin: 0px; float: left; border: 1px solid black;' src=./poster/1.jpg />"
      ],
      "text/plain": [
       "<IPython.core.display.HTML object>"
      ]
     },
     "metadata": {},
     "output_type": "display_data"
    },
    {
     "data": {
      "text/html": [
       "<img style='width: 100px; margin: 0px; float: left; border: 1px solid black;' src=./poster/54.jpg /><img style='width: 100px; margin: 0px; float: left; border: 1px solid black;' src=./poster/837.jpg /><img style='width: 100px; margin: 0px; float: left; border: 1px solid black;' src=./poster/530.jpg /><img style='width: 100px; margin: 0px; float: left; border: 1px solid black;' src=./poster/661.jpg /><img style='width: 100px; margin: 0px; float: left; border: 1px solid black;' src=./poster/682.jpg />"
      ],
      "text/plain": [
       "<IPython.core.display.HTML object>"
      ]
     },
     "metadata": {},
     "output_type": "display_data"
    },
    {
     "data": {
      "text/html": [
       "<img style='width: 100px; margin: 0px; float: left; border: 1px solid black;' src=./poster/55.jpg /><img style='width: 100px; margin: 0px; float: left; border: 1px solid black;' src=./poster/826.jpg /><img style='width: 100px; margin: 0px; float: left; border: 1px solid black;' src=./poster/704.jpg /><img style='width: 100px; margin: 0px; float: left; border: 1px solid black;' src=./poster/800.jpg /><img style='width: 100px; margin: 0px; float: left; border: 1px solid black;' src=./poster/660.jpg />"
      ],
      "text/plain": [
       "<IPython.core.display.HTML object>"
      ]
     },
     "metadata": {},
     "output_type": "display_data"
    },
    {
     "data": {
      "text/html": [
       "<img style='width: 100px; margin: 0px; float: left; border: 1px solid black;' src=./poster/56.jpg /><img style='width: 100px; margin: 0px; float: left; border: 1px solid black;' src=./poster/605.jpg /><img style='width: 100px; margin: 0px; float: left; border: 1px solid black;' src=./poster/637.jpg /><img style='width: 100px; margin: 0px; float: left; border: 1px solid black;' src=./poster/265.jpg /><img style='width: 100px; margin: 0px; float: left; border: 1px solid black;' src=./poster/91.jpg />"
      ],
      "text/plain": [
       "<IPython.core.display.HTML object>"
      ]
     },
     "metadata": {},
     "output_type": "display_data"
    },
    {
     "data": {
      "text/html": [
       "<img style='width: 100px; margin: 0px; float: left; border: 1px solid black;' src=./poster/57.jpg /><img style='width: 100px; margin: 0px; float: left; border: 1px solid black;' src=./poster/692.jpg /><img style='width: 100px; margin: 0px; float: left; border: 1px solid black;' src=./poster/905.jpg /><img style='width: 100px; margin: 0px; float: left; border: 1px solid black;' src=./poster/753.jpg /><img style='width: 100px; margin: 0px; float: left; border: 1px solid black;' src=./poster/490.jpg />"
      ],
      "text/plain": [
       "<IPython.core.display.HTML object>"
      ]
     },
     "metadata": {},
     "output_type": "display_data"
    },
    {
     "data": {
      "text/html": [
       "<img style='width: 100px; margin: 0px; float: left; border: 1px solid black;' src=./poster/58.jpg /><img style='width: 100px; margin: 0px; float: left; border: 1px solid black;' src=./poster/224.jpg /><img style='width: 100px; margin: 0px; float: left; border: 1px solid black;' src=./poster/642.jpg /><img style='width: 100px; margin: 0px; float: left; border: 1px solid black;' src=./poster/769.jpg /><img style='width: 100px; margin: 0px; float: left; border: 1px solid black;' src=./poster/823.jpg />"
      ],
      "text/plain": [
       "<IPython.core.display.HTML object>"
      ]
     },
     "metadata": {},
     "output_type": "display_data"
    },
    {
     "data": {
      "text/html": [
       "<img style='width: 100px; margin: 0px; float: left; border: 1px solid black;' src=./poster/59.jpg /><img style='width: 100px; margin: 0px; float: left; border: 1px solid black;' src=./poster/343.jpg /><img style='width: 100px; margin: 0px; float: left; border: 1px solid black;' src=./poster/600.jpg /><img style='width: 100px; margin: 0px; float: left; border: 1px solid black;' src=./poster/425.jpg /><img style='width: 100px; margin: 0px; float: left; border: 1px solid black;' src=./poster/416.jpg />"
      ],
      "text/plain": [
       "<IPython.core.display.HTML object>"
      ]
     },
     "metadata": {},
     "output_type": "display_data"
    },
    {
     "data": {
      "text/html": [
       "<img style='width: 100px; margin: 0px; float: left; border: 1px solid black;' src=./poster/60.jpg /><img style='width: 100px; margin: 0px; float: left; border: 1px solid black;' src=./poster/599.jpg /><img style='width: 100px; margin: 0px; float: left; border: 1px solid black;' src=./poster/927.jpg /><img style='width: 100px; margin: 0px; float: left; border: 1px solid black;' src=./poster/921.jpg /><img style='width: 100px; margin: 0px; float: left; border: 1px solid black;' src=./poster/905.jpg />"
      ],
      "text/plain": [
       "<IPython.core.display.HTML object>"
      ]
     },
     "metadata": {},
     "output_type": "display_data"
    },
    {
     "data": {
      "text/html": [
       "<img style='width: 100px; margin: 0px; float: left; border: 1px solid black;' src=./poster/61.jpg /><img style='width: 100px; margin: 0px; float: left; border: 1px solid black;' src=./poster/243.jpg /><img style='width: 100px; margin: 0px; float: left; border: 1px solid black;' src=./poster/396.jpg /><img style='width: 100px; margin: 0px; float: left; border: 1px solid black;' src=./poster/494.jpg /><img style='width: 100px; margin: 0px; float: left; border: 1px solid black;' src=./poster/881.jpg />"
      ],
      "text/plain": [
       "<IPython.core.display.HTML object>"
      ]
     },
     "metadata": {},
     "output_type": "display_data"
    },
    {
     "data": {
      "text/html": [
       "<img style='width: 100px; margin: 0px; float: left; border: 1px solid black;' src=./poster/62.jpg /><img style='width: 100px; margin: 0px; float: left; border: 1px solid black;' src=./poster/278.jpg /><img style='width: 100px; margin: 0px; float: left; border: 1px solid black;' src=./poster/677.jpg /><img style='width: 100px; margin: 0px; float: left; border: 1px solid black;' src=./poster/220.jpg /><img style='width: 100px; margin: 0px; float: left; border: 1px solid black;' src=./poster/701.jpg />"
      ],
      "text/plain": [
       "<IPython.core.display.HTML object>"
      ]
     },
     "metadata": {},
     "output_type": "display_data"
    },
    {
     "data": {
      "text/html": [
       "<img style='width: 100px; margin: 0px; float: left; border: 1px solid black;' src=./poster/63.jpg /><img style='width: 100px; margin: 0px; float: left; border: 1px solid black;' src=./poster/163.jpg /><img style='width: 100px; margin: 0px; float: left; border: 1px solid black;' src=./poster/437.jpg /><img style='width: 100px; margin: 0px; float: left; border: 1px solid black;' src=./poster/878.jpg /><img style='width: 100px; margin: 0px; float: left; border: 1px solid black;' src=./poster/454.jpg />"
      ],
      "text/plain": [
       "<IPython.core.display.HTML object>"
      ]
     },
     "metadata": {},
     "output_type": "display_data"
    },
    {
     "data": {
      "text/html": [
       "<img style='width: 100px; margin: 0px; float: left; border: 1px solid black;' src=./poster/64.jpg /><img style='width: 100px; margin: 0px; float: left; border: 1px solid black;' src=./poster/267.jpg /><img style='width: 100px; margin: 0px; float: left; border: 1px solid black;' src=./poster/382.jpg /><img style='width: 100px; margin: 0px; float: left; border: 1px solid black;' src=./poster/429.jpg /><img style='width: 100px; margin: 0px; float: left; border: 1px solid black;' src=./poster/574.jpg />"
      ],
      "text/plain": [
       "<IPython.core.display.HTML object>"
      ]
     },
     "metadata": {},
     "output_type": "display_data"
    },
    {
     "data": {
      "text/html": [
       "<img style='width: 100px; margin: 0px; float: left; border: 1px solid black;' src=./poster/65.jpg /><img style='width: 100px; margin: 0px; float: left; border: 1px solid black;' src=./poster/697.jpg /><img style='width: 100px; margin: 0px; float: left; border: 1px solid black;' src=./poster/292.jpg /><img style='width: 100px; margin: 0px; float: left; border: 1px solid black;' src=./poster/247.jpg /><img style='width: 100px; margin: 0px; float: left; border: 1px solid black;' src=./poster/579.jpg />"
      ],
      "text/plain": [
       "<IPython.core.display.HTML object>"
      ]
     },
     "metadata": {},
     "output_type": "display_data"
    },
    {
     "data": {
      "text/html": [
       "<img style='width: 100px; margin: 0px; float: left; border: 1px solid black;' src=./poster/66.jpg /><img style='width: 100px; margin: 0px; float: left; border: 1px solid black;' src=./poster/691.jpg /><img style='width: 100px; margin: 0px; float: left; border: 1px solid black;' src=./poster/10.jpg /><img style='width: 100px; margin: 0px; float: left; border: 1px solid black;' src=./poster/814.jpg /><img style='width: 100px; margin: 0px; float: left; border: 1px solid black;' src=./poster/323.jpg />"
      ],
      "text/plain": [
       "<IPython.core.display.HTML object>"
      ]
     },
     "metadata": {},
     "output_type": "display_data"
    },
    {
     "data": {
      "text/html": [
       "<img style='width: 100px; margin: 0px; float: left; border: 1px solid black;' src=./poster/67.jpg /><img style='width: 100px; margin: 0px; float: left; border: 1px solid black;' src=./poster/675.jpg /><img style='width: 100px; margin: 0px; float: left; border: 1px solid black;' src=./poster/757.jpg /><img style='width: 100px; margin: 0px; float: left; border: 1px solid black;' src=./poster/556.jpg /><img style='width: 100px; margin: 0px; float: left; border: 1px solid black;' src=./poster/555.jpg />"
      ],
      "text/plain": [
       "<IPython.core.display.HTML object>"
      ]
     },
     "metadata": {},
     "output_type": "display_data"
    },
    {
     "data": {
      "text/html": [
       "<img style='width: 100px; margin: 0px; float: left; border: 1px solid black;' src=./poster/68.jpg /><img style='width: 100px; margin: 0px; float: left; border: 1px solid black;' src=./poster/563.jpg /><img style='width: 100px; margin: 0px; float: left; border: 1px solid black;' src=./poster/661.jpg /><img style='width: 100px; margin: 0px; float: left; border: 1px solid black;' src=./poster/34.jpg /><img style='width: 100px; margin: 0px; float: left; border: 1px solid black;' src=./poster/928.jpg />"
      ],
      "text/plain": [
       "<IPython.core.display.HTML object>"
      ]
     },
     "metadata": {},
     "output_type": "display_data"
    },
    {
     "data": {
      "text/html": [
       "<img style='width: 100px; margin: 0px; float: left; border: 1px solid black;' src=./poster/69.jpg /><img style='width: 100px; margin: 0px; float: left; border: 1px solid black;' src=./poster/268.jpg /><img style='width: 100px; margin: 0px; float: left; border: 1px solid black;' src=./poster/10.jpg /><img style='width: 100px; margin: 0px; float: left; border: 1px solid black;' src=./poster/175.jpg /><img style='width: 100px; margin: 0px; float: left; border: 1px solid black;' src=./poster/9.jpg />"
      ],
      "text/plain": [
       "<IPython.core.display.HTML object>"
      ]
     },
     "metadata": {},
     "output_type": "display_data"
    },
    {
     "data": {
      "text/html": [
       "<img style='width: 100px; margin: 0px; float: left; border: 1px solid black;' src=./poster/70.jpg /><img style='width: 100px; margin: 0px; float: left; border: 1px solid black;' src=./poster/323.jpg /><img style='width: 100px; margin: 0px; float: left; border: 1px solid black;' src=./poster/597.jpg /><img style='width: 100px; margin: 0px; float: left; border: 1px solid black;' src=./poster/329.jpg /><img style='width: 100px; margin: 0px; float: left; border: 1px solid black;' src=./poster/72.jpg />"
      ],
      "text/plain": [
       "<IPython.core.display.HTML object>"
      ]
     },
     "metadata": {},
     "output_type": "display_data"
    },
    {
     "data": {
      "text/html": [
       "<img style='width: 100px; margin: 0px; float: left; border: 1px solid black;' src=./poster/71.jpg /><img style='width: 100px; margin: 0px; float: left; border: 1px solid black;' src=./poster/725.jpg /><img style='width: 100px; margin: 0px; float: left; border: 1px solid black;' src=./poster/608.jpg /><img style='width: 100px; margin: 0px; float: left; border: 1px solid black;' src=./poster/479.jpg /><img style='width: 100px; margin: 0px; float: left; border: 1px solid black;' src=./poster/923.jpg />"
      ],
      "text/plain": [
       "<IPython.core.display.HTML object>"
      ]
     },
     "metadata": {},
     "output_type": "display_data"
    },
    {
     "data": {
      "text/html": [
       "<img style='width: 100px; margin: 0px; float: left; border: 1px solid black;' src=./poster/72.jpg /><img style='width: 100px; margin: 0px; float: left; border: 1px solid black;' src=./poster/855.jpg /><img style='width: 100px; margin: 0px; float: left; border: 1px solid black;' src=./poster/38.jpg /><img style='width: 100px; margin: 0px; float: left; border: 1px solid black;' src=./poster/323.jpg /><img style='width: 100px; margin: 0px; float: left; border: 1px solid black;' src=./poster/310.jpg />"
      ],
      "text/plain": [
       "<IPython.core.display.HTML object>"
      ]
     },
     "metadata": {},
     "output_type": "display_data"
    },
    {
     "data": {
      "text/html": [
       "<img style='width: 100px; margin: 0px; float: left; border: 1px solid black;' src=./poster/73.jpg /><img style='width: 100px; margin: 0px; float: left; border: 1px solid black;' src=./poster/645.jpg /><img style='width: 100px; margin: 0px; float: left; border: 1px solid black;' src=./poster/216.jpg /><img style='width: 100px; margin: 0px; float: left; border: 1px solid black;' src=./poster/488.jpg /><img style='width: 100px; margin: 0px; float: left; border: 1px solid black;' src=./poster/818.jpg />"
      ],
      "text/plain": [
       "<IPython.core.display.HTML object>"
      ]
     },
     "metadata": {},
     "output_type": "display_data"
    },
    {
     "data": {
      "text/html": [
       "<img style='width: 100px; margin: 0px; float: left; border: 1px solid black;' src=./poster/74.jpg /><img style='width: 100px; margin: 0px; float: left; border: 1px solid black;' src=./poster/316.jpg /><img style='width: 100px; margin: 0px; float: left; border: 1px solid black;' src=./poster/416.jpg /><img style='width: 100px; margin: 0px; float: left; border: 1px solid black;' src=./poster/549.jpg /><img style='width: 100px; margin: 0px; float: left; border: 1px solid black;' src=./poster/767.jpg />"
      ],
      "text/plain": [
       "<IPython.core.display.HTML object>"
      ]
     },
     "metadata": {},
     "output_type": "display_data"
    },
    {
     "data": {
      "text/html": [
       "<img style='width: 100px; margin: 0px; float: left; border: 1px solid black;' src=./poster/75.jpg /><img style='width: 100px; margin: 0px; float: left; border: 1px solid black;' src=./poster/490.jpg /><img style='width: 100px; margin: 0px; float: left; border: 1px solid black;' src=./poster/814.jpg /><img style='width: 100px; margin: 0px; float: left; border: 1px solid black;' src=./poster/924.jpg /><img style='width: 100px; margin: 0px; float: left; border: 1px solid black;' src=./poster/543.jpg />"
      ],
      "text/plain": [
       "<IPython.core.display.HTML object>"
      ]
     },
     "metadata": {},
     "output_type": "display_data"
    },
    {
     "data": {
      "text/html": [
       "<img style='width: 100px; margin: 0px; float: left; border: 1px solid black;' src=./poster/76.jpg /><img style='width: 100px; margin: 0px; float: left; border: 1px solid black;' src=./poster/660.jpg /><img style='width: 100px; margin: 0px; float: left; border: 1px solid black;' src=./poster/194.jpg /><img style='width: 100px; margin: 0px; float: left; border: 1px solid black;' src=./poster/55.jpg /><img style='width: 100px; margin: 0px; float: left; border: 1px solid black;' src=./poster/664.jpg />"
      ],
      "text/plain": [
       "<IPython.core.display.HTML object>"
      ]
     },
     "metadata": {},
     "output_type": "display_data"
    },
    {
     "data": {
      "text/html": [
       "<img style='width: 100px; margin: 0px; float: left; border: 1px solid black;' src=./poster/77.jpg /><img style='width: 100px; margin: 0px; float: left; border: 1px solid black;' src=./poster/704.jpg /><img style='width: 100px; margin: 0px; float: left; border: 1px solid black;' src=./poster/534.jpg /><img style='width: 100px; margin: 0px; float: left; border: 1px solid black;' src=./poster/536.jpg /><img style='width: 100px; margin: 0px; float: left; border: 1px solid black;' src=./poster/307.jpg />"
      ],
      "text/plain": [
       "<IPython.core.display.HTML object>"
      ]
     },
     "metadata": {},
     "output_type": "display_data"
    },
    {
     "data": {
      "text/html": [
       "<img style='width: 100px; margin: 0px; float: left; border: 1px solid black;' src=./poster/78.jpg /><img style='width: 100px; margin: 0px; float: left; border: 1px solid black;' src=./poster/153.jpg /><img style='width: 100px; margin: 0px; float: left; border: 1px solid black;' src=./poster/887.jpg /><img style='width: 100px; margin: 0px; float: left; border: 1px solid black;' src=./poster/335.jpg /><img style='width: 100px; margin: 0px; float: left; border: 1px solid black;' src=./poster/297.jpg />"
      ],
      "text/plain": [
       "<IPython.core.display.HTML object>"
      ]
     },
     "metadata": {},
     "output_type": "display_data"
    },
    {
     "data": {
      "text/html": [
       "<img style='width: 100px; margin: 0px; float: left; border: 1px solid black;' src=./poster/79.jpg /><img style='width: 100px; margin: 0px; float: left; border: 1px solid black;' src=./poster/744.jpg /><img style='width: 100px; margin: 0px; float: left; border: 1px solid black;' src=./poster/803.jpg /><img style='width: 100px; margin: 0px; float: left; border: 1px solid black;' src=./poster/497.jpg /><img style='width: 100px; margin: 0px; float: left; border: 1px solid black;' src=./poster/617.jpg />"
      ],
      "text/plain": [
       "<IPython.core.display.HTML object>"
      ]
     },
     "metadata": {},
     "output_type": "display_data"
    },
    {
     "data": {
      "text/html": [
       "<img style='width: 100px; margin: 0px; float: left; border: 1px solid black;' src=./poster/80.jpg /><img style='width: 100px; margin: 0px; float: left; border: 1px solid black;' src=./poster/796.jpg /><img style='width: 100px; margin: 0px; float: left; border: 1px solid black;' src=./poster/456.jpg /><img style='width: 100px; margin: 0px; float: left; border: 1px solid black;' src=./poster/670.jpg /><img style='width: 100px; margin: 0px; float: left; border: 1px solid black;' src=./poster/498.jpg />"
      ],
      "text/plain": [
       "<IPython.core.display.HTML object>"
      ]
     },
     "metadata": {},
     "output_type": "display_data"
    },
    {
     "data": {
      "text/html": [
       "<img style='width: 100px; margin: 0px; float: left; border: 1px solid black;' src=./poster/81.jpg /><img style='width: 100px; margin: 0px; float: left; border: 1px solid black;' src=./poster/38.jpg /><img style='width: 100px; margin: 0px; float: left; border: 1px solid black;' src=./poster/867.jpg /><img style='width: 100px; margin: 0px; float: left; border: 1px solid black;' src=./poster/605.jpg /><img style='width: 100px; margin: 0px; float: left; border: 1px solid black;' src=./poster/664.jpg />"
      ],
      "text/plain": [
       "<IPython.core.display.HTML object>"
      ]
     },
     "metadata": {},
     "output_type": "display_data"
    },
    {
     "data": {
      "text/html": [
       "<img style='width: 100px; margin: 0px; float: left; border: 1px solid black;' src=./poster/82.jpg /><img style='width: 100px; margin: 0px; float: left; border: 1px solid black;' src=./poster/547.jpg /><img style='width: 100px; margin: 0px; float: left; border: 1px solid black;' src=./poster/415.jpg /><img style='width: 100px; margin: 0px; float: left; border: 1px solid black;' src=./poster/101.jpg /><img style='width: 100px; margin: 0px; float: left; border: 1px solid black;' src=./poster/928.jpg />"
      ],
      "text/plain": [
       "<IPython.core.display.HTML object>"
      ]
     },
     "metadata": {},
     "output_type": "display_data"
    },
    {
     "data": {
      "text/html": [
       "<img style='width: 100px; margin: 0px; float: left; border: 1px solid black;' src=./poster/83.jpg /><img style='width: 100px; margin: 0px; float: left; border: 1px solid black;' src=./poster/57.jpg /><img style='width: 100px; margin: 0px; float: left; border: 1px solid black;' src=./poster/267.jpg /><img style='width: 100px; margin: 0px; float: left; border: 1px solid black;' src=./poster/557.jpg /><img style='width: 100px; margin: 0px; float: left; border: 1px solid black;' src=./poster/196.jpg />"
      ],
      "text/plain": [
       "<IPython.core.display.HTML object>"
      ]
     },
     "metadata": {},
     "output_type": "display_data"
    },
    {
     "data": {
      "text/html": [
       "<img style='width: 100px; margin: 0px; float: left; border: 1px solid black;' src=./poster/84.jpg /><img style='width: 100px; margin: 0px; float: left; border: 1px solid black;' src=./poster/806.jpg /><img style='width: 100px; margin: 0px; float: left; border: 1px solid black;' src=./poster/126.jpg /><img style='width: 100px; margin: 0px; float: left; border: 1px solid black;' src=./poster/853.jpg /><img style='width: 100px; margin: 0px; float: left; border: 1px solid black;' src=./poster/824.jpg />"
      ],
      "text/plain": [
       "<IPython.core.display.HTML object>"
      ]
     },
     "metadata": {},
     "output_type": "display_data"
    },
    {
     "data": {
      "text/html": [
       "<img style='width: 100px; margin: 0px; float: left; border: 1px solid black;' src=./poster/85.jpg /><img style='width: 100px; margin: 0px; float: left; border: 1px solid black;' src=./poster/230.jpg /><img style='width: 100px; margin: 0px; float: left; border: 1px solid black;' src=./poster/816.jpg /><img style='width: 100px; margin: 0px; float: left; border: 1px solid black;' src=./poster/772.jpg /><img style='width: 100px; margin: 0px; float: left; border: 1px solid black;' src=./poster/226.jpg />"
      ],
      "text/plain": [
       "<IPython.core.display.HTML object>"
      ]
     },
     "metadata": {},
     "output_type": "display_data"
    },
    {
     "data": {
      "text/html": [
       "<img style='width: 100px; margin: 0px; float: left; border: 1px solid black;' src=./poster/86.jpg /><img style='width: 100px; margin: 0px; float: left; border: 1px solid black;' src=./poster/928.jpg /><img style='width: 100px; margin: 0px; float: left; border: 1px solid black;' src=./poster/122.jpg /><img style='width: 100px; margin: 0px; float: left; border: 1px solid black;' src=./poster/854.jpg /><img style='width: 100px; margin: 0px; float: left; border: 1px solid black;' src=./poster/864.jpg />"
      ],
      "text/plain": [
       "<IPython.core.display.HTML object>"
      ]
     },
     "metadata": {},
     "output_type": "display_data"
    },
    {
     "data": {
      "text/html": [
       "<img style='width: 100px; margin: 0px; float: left; border: 1px solid black;' src=./poster/87.jpg /><img style='width: 100px; margin: 0px; float: left; border: 1px solid black;' src=./poster/561.jpg /><img style='width: 100px; margin: 0px; float: left; border: 1px solid black;' src=./poster/247.jpg /><img style='width: 100px; margin: 0px; float: left; border: 1px solid black;' src=./poster/678.jpg /><img style='width: 100px; margin: 0px; float: left; border: 1px solid black;' src=./poster/180.jpg />"
      ],
      "text/plain": [
       "<IPython.core.display.HTML object>"
      ]
     },
     "metadata": {},
     "output_type": "display_data"
    },
    {
     "data": {
      "text/html": [
       "<img style='width: 100px; margin: 0px; float: left; border: 1px solid black;' src=./poster/88.jpg /><img style='width: 100px; margin: 0px; float: left; border: 1px solid black;' src=./poster/153.jpg /><img style='width: 100px; margin: 0px; float: left; border: 1px solid black;' src=./poster/297.jpg /><img style='width: 100px; margin: 0px; float: left; border: 1px solid black;' src=./poster/901.jpg /><img style='width: 100px; margin: 0px; float: left; border: 1px solid black;' src=./poster/105.jpg />"
      ],
      "text/plain": [
       "<IPython.core.display.HTML object>"
      ]
     },
     "metadata": {},
     "output_type": "display_data"
    },
    {
     "data": {
      "text/html": [
       "<img style='width: 100px; margin: 0px; float: left; border: 1px solid black;' src=./poster/89.jpg /><img style='width: 100px; margin: 0px; float: left; border: 1px solid black;' src=./poster/272.jpg /><img style='width: 100px; margin: 0px; float: left; border: 1px solid black;' src=./poster/317.jpg /><img style='width: 100px; margin: 0px; float: left; border: 1px solid black;' src=./poster/397.jpg /><img style='width: 100px; margin: 0px; float: left; border: 1px solid black;' src=./poster/854.jpg />"
      ],
      "text/plain": [
       "<IPython.core.display.HTML object>"
      ]
     },
     "metadata": {},
     "output_type": "display_data"
    },
    {
     "data": {
      "text/html": [
       "<img style='width: 100px; margin: 0px; float: left; border: 1px solid black;' src=./poster/90.jpg /><img style='width: 100px; margin: 0px; float: left; border: 1px solid black;' src=./poster/802.jpg /><img style='width: 100px; margin: 0px; float: left; border: 1px solid black;' src=./poster/254.jpg /><img style='width: 100px; margin: 0px; float: left; border: 1px solid black;' src=./poster/291.jpg /><img style='width: 100px; margin: 0px; float: left; border: 1px solid black;' src=./poster/917.jpg />"
      ],
      "text/plain": [
       "<IPython.core.display.HTML object>"
      ]
     },
     "metadata": {},
     "output_type": "display_data"
    },
    {
     "data": {
      "text/html": [
       "<img style='width: 100px; margin: 0px; float: left; border: 1px solid black;' src=./poster/91.jpg /><img style='width: 100px; margin: 0px; float: left; border: 1px solid black;' src=./poster/230.jpg /><img style='width: 100px; margin: 0px; float: left; border: 1px solid black;' src=./poster/403.jpg /><img style='width: 100px; margin: 0px; float: left; border: 1px solid black;' src=./poster/362.jpg /><img style='width: 100px; margin: 0px; float: left; border: 1px solid black;' src=./poster/351.jpg />"
      ],
      "text/plain": [
       "<IPython.core.display.HTML object>"
      ]
     },
     "metadata": {},
     "output_type": "display_data"
    },
    {
     "data": {
      "text/html": [
       "<img style='width: 100px; margin: 0px; float: left; border: 1px solid black;' src=./poster/92.jpg /><img style='width: 100px; margin: 0px; float: left; border: 1px solid black;' src=./poster/839.jpg /><img style='width: 100px; margin: 0px; float: left; border: 1px solid black;' src=./poster/421.jpg /><img style='width: 100px; margin: 0px; float: left; border: 1px solid black;' src=./poster/191.jpg /><img style='width: 100px; margin: 0px; float: left; border: 1px solid black;' src=./poster/455.jpg />"
      ],
      "text/plain": [
       "<IPython.core.display.HTML object>"
      ]
     },
     "metadata": {},
     "output_type": "display_data"
    },
    {
     "data": {
      "text/html": [
       "<img style='width: 100px; margin: 0px; float: left; border: 1px solid black;' src=./poster/93.jpg /><img style='width: 100px; margin: 0px; float: left; border: 1px solid black;' src=./poster/496.jpg /><img style='width: 100px; margin: 0px; float: left; border: 1px solid black;' src=./poster/870.jpg /><img style='width: 100px; margin: 0px; float: left; border: 1px solid black;' src=./poster/904.jpg /><img style='width: 100px; margin: 0px; float: left; border: 1px solid black;' src=./poster/101.jpg />"
      ],
      "text/plain": [
       "<IPython.core.display.HTML object>"
      ]
     },
     "metadata": {},
     "output_type": "display_data"
    },
    {
     "data": {
      "text/html": [
       "<img style='width: 100px; margin: 0px; float: left; border: 1px solid black;' src=./poster/94.jpg /><img style='width: 100px; margin: 0px; float: left; border: 1px solid black;' src=./poster/853.jpg /><img style='width: 100px; margin: 0px; float: left; border: 1px solid black;' src=./poster/579.jpg /><img style='width: 100px; margin: 0px; float: left; border: 1px solid black;' src=./poster/824.jpg /><img style='width: 100px; margin: 0px; float: left; border: 1px solid black;' src=./poster/162.jpg />"
      ],
      "text/plain": [
       "<IPython.core.display.HTML object>"
      ]
     },
     "metadata": {},
     "output_type": "display_data"
    },
    {
     "data": {
      "text/html": [
       "<img style='width: 100px; margin: 0px; float: left; border: 1px solid black;' src=./poster/95.jpg /><img style='width: 100px; margin: 0px; float: left; border: 1px solid black;' src=./poster/351.jpg /><img style='width: 100px; margin: 0px; float: left; border: 1px solid black;' src=./poster/228.jpg /><img style='width: 100px; margin: 0px; float: left; border: 1px solid black;' src=./poster/875.jpg /><img style='width: 100px; margin: 0px; float: left; border: 1px solid black;' src=./poster/772.jpg />"
      ],
      "text/plain": [
       "<IPython.core.display.HTML object>"
      ]
     },
     "metadata": {},
     "output_type": "display_data"
    },
    {
     "data": {
      "text/html": [
       "<img style='width: 100px; margin: 0px; float: left; border: 1px solid black;' src=./poster/96.jpg /><img style='width: 100px; margin: 0px; float: left; border: 1px solid black;' src=./poster/760.jpg /><img style='width: 100px; margin: 0px; float: left; border: 1px solid black;' src=./poster/181.jpg /><img style='width: 100px; margin: 0px; float: left; border: 1px solid black;' src=./poster/632.jpg /><img style='width: 100px; margin: 0px; float: left; border: 1px solid black;' src=./poster/552.jpg />"
      ],
      "text/plain": [
       "<IPython.core.display.HTML object>"
      ]
     },
     "metadata": {},
     "output_type": "display_data"
    },
    {
     "data": {
      "text/html": [
       "<img style='width: 100px; margin: 0px; float: left; border: 1px solid black;' src=./poster/97.jpg /><img style='width: 100px; margin: 0px; float: left; border: 1px solid black;' src=./poster/28.jpg /><img style='width: 100px; margin: 0px; float: left; border: 1px solid black;' src=./poster/885.jpg /><img style='width: 100px; margin: 0px; float: left; border: 1px solid black;' src=./poster/822.jpg /><img style='width: 100px; margin: 0px; float: left; border: 1px solid black;' src=./poster/186.jpg />"
      ],
      "text/plain": [
       "<IPython.core.display.HTML object>"
      ]
     },
     "metadata": {},
     "output_type": "display_data"
    },
    {
     "data": {
      "text/html": [
       "<img style='width: 100px; margin: 0px; float: left; border: 1px solid black;' src=./poster/98.jpg /><img style='width: 100px; margin: 0px; float: left; border: 1px solid black;' src=./poster/191.jpg /><img style='width: 100px; margin: 0px; float: left; border: 1px solid black;' src=./poster/133.jpg /><img style='width: 100px; margin: 0px; float: left; border: 1px solid black;' src=./poster/469.jpg /><img style='width: 100px; margin: 0px; float: left; border: 1px solid black;' src=./poster/23.jpg />"
      ],
      "text/plain": [
       "<IPython.core.display.HTML object>"
      ]
     },
     "metadata": {},
     "output_type": "display_data"
    },
    {
     "data": {
      "text/html": [
       "<img style='width: 100px; margin: 0px; float: left; border: 1px solid black;' src=./poster/99.jpg /><img style='width: 100px; margin: 0px; float: left; border: 1px solid black;' src=./poster/296.jpg /><img style='width: 100px; margin: 0px; float: left; border: 1px solid black;' src=./poster/887.jpg /><img style='width: 100px; margin: 0px; float: left; border: 1px solid black;' src=./poster/725.jpg /><img style='width: 100px; margin: 0px; float: left; border: 1px solid black;' src=./poster/651.jpg />"
      ],
      "text/plain": [
       "<IPython.core.display.HTML object>"
      ]
     },
     "metadata": {},
     "output_type": "display_data"
    }
   ],
   "source": [
    "from IPython.display import Image\n",
    "from IPython.display import display\n",
    "from IPython.display import HTML\n",
    "poster_pt = './poster/'\n",
    "for j in range(100):\n",
    "    images = ''\n",
    "    mv = predict_result[j]\n",
    "    for i in range(len(mv)):\n",
    "        images+=(\"<img style='width: 100px; margin: 0px; float: left; border: 1px solid black;' src={0}.jpg />\"\n",
    "                .format(poster_pt+str(mv[i])))\n",
    "    display(HTML(images))"
   ]
  },
  {
   "cell_type": "code",
   "execution_count": 113,
   "metadata": {
    "collapsed": true
   },
   "outputs": [],
   "source": [
    "f = open('test.txt','w+')\n",
    "print >>f, \"hello word\"\n",
    "f.close()"
   ]
  },
  {
   "cell_type": "code",
   "execution_count": 115,
   "metadata": {
    "collapsed": true
   },
   "outputs": [],
   "source": [
    "#序列化保存 对象\n",
    "import pickle\n",
    "import pprint, pickle\n",
    "import pickle\n",
    "output = open('predict.pkl', 'wb')\n",
    "# Pickle dictionary using protocol 0.\n",
    "pickle.dump(predict_result, output)\n",
    "# Pickle the list using the highest protocol available.\n",
    "output.close()"
   ]
  },
  {
   "cell_type": "code",
   "execution_count": 117,
   "metadata": {},
   "outputs": [
    {
     "data": {
      "text/plain": [
       "dict"
      ]
     },
     "execution_count": 117,
     "metadata": {},
     "output_type": "execute_result"
    }
   ],
   "source": [
    "#序列化对象 恢复\n",
    "import pprint, pickle\n",
    "pkl_file = open('predict.pkl', 'rb')\n",
    "data = pickle.load(pkl_file)\n",
    "# pprint.pprint(data)\n",
    "pkl_file.close()\n",
    "type(data)"
   ]
  },
  {
   "cell_type": "code",
   "execution_count": 122,
   "metadata": {},
   "outputs": [
    {
     "data": {
      "text/plain": [
       "NoneType"
      ]
     },
     "execution_count": 122,
     "metadata": {},
     "output_type": "execute_result"
    }
   ],
   "source": [
    "type(None)"
   ]
  }
 ],
 "metadata": {
  "kernelspec": {
   "display_name": "Python 2",
   "language": "python",
   "name": "python2"
  },
  "language_info": {
   "codemirror_mode": {
    "name": "ipython",
    "version": 2
   },
   "file_extension": ".py",
   "mimetype": "text/x-python",
   "name": "python",
   "nbconvert_exporter": "python",
   "pygments_lexer": "ipython2",
   "version": "2.7.12+"
  }
 },
 "nbformat": 4,
 "nbformat_minor": 2
}
