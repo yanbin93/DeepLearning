{
 "cells": [
  {
   "cell_type": "code",
   "execution_count": 4,
   "metadata": {},
   "outputs": [
    {
     "name": "stdout",
     "output_type": "stream",
     "text": [
      "root\n",
      " |-- user: string (nullable = true)\n",
      " |-- item: string (nullable = true)\n",
      " |-- rating: double (nullable = true)\n",
      "\n",
      "+--------------+----------+------+\n",
      "|          user|      item|rating|\n",
      "+--------------+----------+------+\n",
      "|A1D0TFYHA8LMIE|B00004T11H|   5.0|\n",
      "|A1D1QOPQPLOAW6|B000WJKE1Y|   5.0|\n",
      "|A1D2CKTZND7NHO|B00BIQUXEI|   5.0|\n",
      "|A1D38AIQNOIBX0|B00871CJFI|   1.0|\n",
      "|A1D44YT0P8Q8XL|B00006JOAI|   5.0|\n",
      "+--------------+----------+------+\n",
      "only showing top 5 rows\n",
      "\n",
      "total lines: 142831980\n"
     ]
    }
   ],
   "source": [
    "from pyspark import SparkContext,SparkConf\n",
    "from operator import add,itemgetter\n",
    "from pyspark.sql import SparkSession,Row\n",
    "from pandas import *\n",
    "from pyspark.sql.functions import *\n",
    "from pyspark.sql.types import *\n",
    "from pyspark.ml.feature import StringIndexer,Bucketizer\n",
    "from pyspark.ml.recommendation import ALS\n",
    "from pyspark.ml.evaluation import RegressionEvaluator\n",
    "from pyspark.ml import Pipeline,PipelineModel\n",
    "from pyspark.ml.tuning import ParamGridBuilder, TrainValidationSplit,CrossValidator\n",
    "import time\n",
    "import math\n",
    "class aslModel(object):\n",
    "    def __init__(self,df,model=None):\n",
    "        self.df = df\n",
    "        self.model = model\n",
    "        \n",
    "    def train(self,df):\n",
    "        trainDf,testDf = self.df.randomSplit([8.0,2.0],seed=40)\n",
    "        userIndexer = StringIndexer(inputCol=\"user\",outputCol=\"userid\",handleInvalid=\"skip\").fit(self.df)\n",
    "        itemIndexer = StringIndexer(inputCol=\"item\",outputCol=\"itemid\",handleInvalid=\"skip\").fit(self.df)\n",
    "        als = ALS(rank=5,userCol=\"userid\",\n",
    "                       itemCol=\"itemid\",ratingCol=\"rating\",maxIter=5,regParam=0.0001)\n",
    "        pipeAls = Pipeline(stages=[userIndexer,itemIndexer,als])\n",
    "        evaluator = (RegressionEvaluator()\n",
    "              .setMetricName(\"rmse\")\n",
    "              .setLabelCol(\"rating\")\n",
    "              .setPredictionCol(\"prediction\"))\n",
    "        paramGrid = (ParamGridBuilder() \n",
    "            .addGrid(als.maxIter,[5]) \n",
    "            .addGrid(als.regParam,logspace(0,4,5,base=3)*0.0001)\n",
    "            .build())\n",
    "        crossval = (CrossValidator(estimator=pipeAls,\n",
    "                          estimatorParamMaps=paramGrid,\n",
    "                          evaluator=evaluator,\n",
    "                          numFolds=2))  # use 3+ folds in practice\n",
    "        cvModel = crossval.fit(trainDf)\n",
    "        cvModel.transform(testDf).show()\n",
    "        self.model = cvModel\n",
    "    \n",
    "    def train2(self,df,rank=5,maxIter=5,regParam=0.001):\n",
    "        userIndexer = StringIndexer(inputCol=\"user\",outputCol=\"userid\",handleInvalid=\"error\").fit(self.df)\n",
    "        itemIndexer = StringIndexer(inputCol=\"item\",outputCol=\"itemid\").fit(self.df)\n",
    "        alsModel = ALS(rank=rank,userCol=\"userid\",itemCol=\"itemid\",ratingCol=\"rating\",maxIter=maxIter,regParam=regParam)\n",
    "        pipeAls = Pipeline(stages=[userIndexer,itemIndexer,alsModel])\n",
    "        pipeAlsModel = pipeAls.fit(df)\n",
    "        predictionAls = pipeAlsModel.transform(df)\n",
    "        predictionRecommendation= pipeAlsModel.transform(df)\n",
    "        evaluator = RegressionEvaluator()\\\n",
    "              .setMetricName(\"rmse\")\\\n",
    "              .setLabelCol(\"rating\")\\\n",
    "              .setPredictionCol(\"prediction\")\n",
    "        print 'rmse:',evaluator.evaluate(df)\n",
    "        self.model = pipeAlsModel\n",
    "    \n",
    "def recommend(test,model=None,topN=10):\n",
    "    pre = model.transform(test)\n",
    "    pre.registerTempTable('predictions')\n",
    "    sqlString = \"select user,item,prediction from \\\n",
    "        (select *,row_number() OVER(PARTITION BY predictions.user ORDER BY prediction desc) as flag\\\n",
    "        from predictions) t1 where t1.flag<=10\"\n",
    "    pre = spark.sql(sqlString)\n",
    "    pre = pre.select(pre.user,pre.item,pre.prediction.alias('rating'))\n",
    "    return pre\n",
    "        \n",
    "from Evaluator import Evaluator\n",
    "def evaluate(evaluator):\n",
    "    precise = evaluator.precision()\n",
    "    coverage = evaluator.coverage()\n",
    "    popularity = evaluator.popularity()\n",
    "    recall = evaluator.recall()\n",
    "    return precise,recall,coverage,popularity\n",
    "\n",
    "if __name__ == \"__main__\": \n",
    "    import os\n",
    "    PYSPARK_PYTHON = \"/usr/bin/python2.7\"\n",
    "    os.environ[\"PYSPARK_PYTHON\"] = PYSPARK_PYTHON\n",
    "    conf = SparkConf().setAppName(\"alsCF\").setMaster(\"yarn\")\n",
    "    conf.set('spark.yarn.dist.files',\n",
    "            'file:/root/hadoop-2.6/spark/python/lib/pyspark.zip,file:/root/hadoop-2.6/spark/python/lib/py4j-0.10.4-src.zip')\n",
    "    conf.set('spark.executor.cores','30')\n",
    "    conf.set('spark.executor.memory','90g')\n",
    "    conf.set('spark.executor.instances','3')\n",
    "    conf.set('spark.sql.shuffle.partitions','400')\n",
    "    conf.set('spark.default.parallelism','200')\n",
    "    conf.set('spark.driver.maxResultSize', '10g')\n",
    "    conf.set('spark.scheduler.mode','fair')\n",
    "    conf.set(\"spark.yarn.scheduler.heartbeat.interval\",\"7200000ms\")\n",
    "    conf.set(\"spark.executor.heartbeatInterval\",\"7200000ms\")\n",
    "    conf.set(\"spark.network.timeout\", \"7200000ms\")\n",
    "    conf.set(\"spark.memory.storageFraction\",\"0.25\")\n",
    "#     conf.set(\"spark.shuffle.file.buffer\",\"128k\").set(\"spark.reducer.maxSizeInFlight\",\"96M\")\n",
    "    spark = SparkSession.builder\\\n",
    "        .config(conf=conf) \\\n",
    "        .getOrCreate()\n",
    "    sc=spark.sparkContext \n",
    "    sc.setLogLevel('WARN')\n",
    "    sc.setLocalProperty(\"spark.scheduler.pool\", \"als\")\n",
    "    start = time.time()\n",
    "    inputPath = 'data/ml-1m/ratings.dat'\n",
    "    inputPath = 'data/ml-100k/u.data'\n",
    "    schema = StructType([\n",
    "            StructField(\"user\", StringType(), True),\n",
    "            StructField(\"item\", StringType(), True),\n",
    "            StructField(\"rating\", DoubleType(), True),\n",
    "            StructField(\"timestamp\", LongType(), True)])\n",
    "#     ratingRdd = sc.textFile(inputPath).map(lambda line:line.split(\"\\t\"))\\\n",
    "#                     .map(lambda x:(x[0],x[1],float(x[2]),long(x[3])))\n",
    "#     ratingDf = spark.createDataFrame(data=ratingRdd,schema=schema)\n",
    "    inputPath = \"data/amazon/rating_parquet\"\n",
    "    ratingDf = spark.read.parquet(inputPath)\n",
    "    ratingDf = ratingDf.repartition(300)\n",
    "    ratingDf.printSchema()\n",
    "    ratingDf.show(5)\n",
    "    n = ratingDf.count()\n",
    "#     ratingDf = ratingDf.withColumn('score',col('rating')*0+1).select('user','item','score')    \n",
    "    print 'total lines: %s' %n\n",
    "    train,test = ratingDf.randomSplit([4.0,1.0],seed=40)\n",
    "    train.cache()\n",
    "    test.cache()\n",
    "    userIndexer = StringIndexer(inputCol=\"user\",outputCol=\"userid\",handleInvalid=\"error\").fit(ratingDf)\n",
    "    itemIndexer = StringIndexer(inputCol=\"item\",outputCol=\"itemid\").fit(ratingDf)\n",
    "    alsModel = ALS(rank=5,userCol=\"userid\",itemCol=\"itemid\",ratingCol=\"rating\",maxIter=5,regParam=0.001)\n",
    "    pipeAls = Pipeline(stages=[userIndexer,itemIndexer,alsModel])\n",
    "    pipeAlsModel = pipeAls.fit(train)\n",
    "    predictionAls = pipeAlsModel.transform(train)\n",
    "    users = train.select('user').distinct()\n",
    "    items = train.select('item').distinct()\n",
    "    pre= pipeAlsModel.transform(users.crossJoin(items))\n",
    "    from pyspark.sql import Window\n",
    "    pre2 = pre.join(train,[train.item==pre.item,train.user==pre.user],'left_anti')\n",
    "    window = Window.partitionBy('user').orderBy(desc('prediction'))\n",
    "    pre2 = pre2.select('user','item',col('prediction').alias('rating'),rank().over(window).alias('rank')).filter('rank<=10')\n",
    "    evaluator = Evaluator(train,test,pre2)\n",
    "    (precise,recall,coverage,popularity) = evaluate(evaluator)\n",
    "    print ('precise:%2.2f%%,  recall:%2.2f%%,  coverage:%2.2f%%,  popularity:%2.2f, time: %s s'\n",
    "            %(precise*100,recall*100,coverage*100,popularity,end-start))\n",
    "    start = time.time()\n",
    "    pre= pipeAlsModel.transform(test)\n",
    "    evaluator = RegressionEvaluator()\\\n",
    "          .setMetricName(\"rmse\")\\\n",
    "          .setLabelCol(\"rating\")\\\n",
    "          .setPredictionCol(\"prediction\")\n",
    "    print 'rmse:',evaluator.evaluate(pre.select('userid','itemid','rating','prediction').na.drop())\n",
    "    end = time.time()\n",
    "    print 'time:%s s' %(end-start)\n",
    "    als = alsModel(ratingDf)\n",
    "    als.train2(ratingDf)\n",
    "# #     for NN in [5,10,20,40,60,80,100,120]:\n",
    "#     for NN in [100]:\n",
    "#         recTopN = recommend(test,als.model,topN=10,Normalization=False)\n",
    "#         evaluator = Evaluator(train,test,pre)\n",
    "#         (precise,recall,coverage,popularity) = evaluate(evaluator)\n",
    "#         end = time.time()\n",
    "#         print ('NN:%3d,  precise:%2.2f%%,  recall:%2.2f%%,  coverage:%2.2f%%,  popularity:%2.2f, time: %s s'\n",
    "#                 %(NN,precise*100,recall*100,coverage*100,popularity,end-start))\n",
    "#         start = time.time()"
   ]
  },
  {
   "cell_type": "code",
   "execution_count": 12,
   "metadata": {},
   "outputs": [
    {
     "name": "stdout",
     "output_type": "stream",
     "text": [
      "precise:0.04%,  recall:0.04%,  coverage:7.15%,  popularity:1.83, time: 53.3240408897 s\n"
     ]
    }
   ],
   "source": [
    "pre2 = y.join(train,[train.item==y.item,train.user==y.user],'left_anti')\n",
    "window = Window.partitionBy('user').orderBy(desc('prediction'))\n",
    "pre2 = pre2.select('user','item',col('prediction').alias('rating'),rank().over(window).alias('rank')).filter('rank<=10')\n",
    "evaluator = Evaluator(train,test,pre2)\n",
    "(precise,recall,coverage,popularity) = evaluate(evaluator)\n",
    "print ('precise:%2.2f%%,  recall:%2.2f%%,  coverage:%2.2f%%,  popularity:%2.2f, time: %s s'\n",
    "        %(precise*100,recall*100,coverage*100,popularity,end-start))"
   ]
  },
  {
   "cell_type": "code",
   "execution_count": 16,
   "metadata": {},
   "outputs": [
    {
     "name": "stdout",
     "output_type": "stream",
     "text": [
      "precise:9.06%,  recall:8.65%,  coverage:14.96%,  popularity:4.69, time: 53.3240408897 s\n"
     ]
    }
   ],
   "source": [
    "pre2 = y.join(train,[train.item==y.item,train.user==y.user],'left_anti')\n",
    "window = Window.partitionBy('user').orderBy(desc('prediction'))\n",
    "pre2 = pre2.select('user','item',col('prediction').alias('rating'),rank().over(window).alias('rank')).filter('rank<=10')\n",
    "evaluator = Evaluator(train,test,pre2)\n",
    "(precise,recall,coverage,popularity) = evaluate(evaluator)\n",
    "print ('precise:%2.2f%%,  recall:%2.2f%%,  coverage:%2.2f%%,  popularity:%2.2f, time: %s s'\n",
    "        %(precise*100,recall*100,coverage*100,popularity,end-start))"
   ]
  },
  {
   "cell_type": "code",
   "execution_count": 18,
   "metadata": {},
   "outputs": [
    {
     "name": "stdout",
     "output_type": "stream",
     "text": [
      "alahp:1, precise:8.13%,  recall:7.76%,  coverage:11.78%,  popularity:3.95, time: 53.3240408897 s\n",
      "alahp:2, precise:11.03%,  recall:10.53%,  coverage:10.64%,  popularity:5.26, time: 53.3240408897 s\n",
      "alahp:3, precise:11.65%,  recall:11.13%,  coverage:9.19%,  popularity:5.67, time: 53.3240408897 s\n",
      "alahp:4, precise:11.88%,  recall:11.34%,  coverage:7.93%,  popularity:5.81, time: 53.3240408897 s\n",
      "alahp:5, precise:11.94%,  recall:11.40%,  coverage:6.37%,  popularity:5.88, time: 53.3240408897 s\n"
     ]
    }
   ],
   "source": [
    "x=pre.join(ratingDf.groupBy('item').agg(count('*').alias('item_count')).withColumn('Pop',log2(col('item_count')+1)),on='item')\n",
    "for alaph in xrange(6,10):\n",
    "    y = x.select('user','item',(col('prediction')+alaph*col('Pop')).alias(('prediction')))\n",
    "    pre2 = y.join(train,[train.item==y.item,train.user==y.user],'left_anti')\n",
    "    window = Window.partitionBy('user').orderBy(desc('prediction'))\n",
    "    pre2 = pre2.select('user','item',col('prediction').alias('rating'),rank().over(window).alias('rank')).filter('rank<=10')\n",
    "    evaluator = Evaluator(train,test,pre2)\n",
    "    (precise,recall,coverage,popularity) = evaluate(evaluator)\n",
    "    print ('alahp:%s, precise:%2.2f%%,  recall:%2.2f%%,  coverage:%2.2f%%,  popularity:%2.2f, time: %s s'\n",
    "            %(alaph,precise*100,recall*100,coverage*100,popularity,end-start))"
   ]
  },
  {
   "cell_type": "code",
   "execution_count": 20,
   "metadata": {},
   "outputs": [
    {
     "name": "stdout",
     "output_type": "stream",
     "text": [
      "alahp:6, precise:11.54%,  recall:11.08%,  coverage:4.21%,  popularity:5.95, time: 53.3240408897 s\n",
      "alahp:7, precise:11.54%,  recall:11.08%,  coverage:4.21%,  popularity:5.95, time: 53.3240408897 s\n"
     ]
    },
    {
     "ename": "KeyboardInterrupt",
     "evalue": "",
     "output_type": "error",
     "traceback": [
      "\u001b[0;31m\u001b[0m",
      "\u001b[0;31mKeyboardInterrupt\u001b[0mTraceback (most recent call last)",
      "\u001b[0;32m<ipython-input-20-2eb3a14dafdf>\u001b[0m in \u001b[0;36m<module>\u001b[0;34m()\u001b[0m\n\u001b[1;32m      6\u001b[0m     \u001b[0mpre2\u001b[0m \u001b[0;34m=\u001b[0m \u001b[0mpre2\u001b[0m\u001b[0;34m.\u001b[0m\u001b[0mselect\u001b[0m\u001b[0;34m(\u001b[0m\u001b[0;34m'user'\u001b[0m\u001b[0;34m,\u001b[0m\u001b[0;34m'item'\u001b[0m\u001b[0;34m,\u001b[0m\u001b[0mcol\u001b[0m\u001b[0;34m(\u001b[0m\u001b[0;34m'prediction'\u001b[0m\u001b[0;34m)\u001b[0m\u001b[0;34m.\u001b[0m\u001b[0malias\u001b[0m\u001b[0;34m(\u001b[0m\u001b[0;34m'rating'\u001b[0m\u001b[0;34m)\u001b[0m\u001b[0;34m,\u001b[0m\u001b[0mrank\u001b[0m\u001b[0;34m(\u001b[0m\u001b[0;34m)\u001b[0m\u001b[0;34m.\u001b[0m\u001b[0mover\u001b[0m\u001b[0;34m(\u001b[0m\u001b[0mwindow\u001b[0m\u001b[0;34m)\u001b[0m\u001b[0;34m.\u001b[0m\u001b[0malias\u001b[0m\u001b[0;34m(\u001b[0m\u001b[0;34m'rank'\u001b[0m\u001b[0;34m)\u001b[0m\u001b[0;34m)\u001b[0m\u001b[0;34m.\u001b[0m\u001b[0mfilter\u001b[0m\u001b[0;34m(\u001b[0m\u001b[0;34m'rank<=10'\u001b[0m\u001b[0;34m)\u001b[0m\u001b[0;34m\u001b[0m\u001b[0m\n\u001b[1;32m      7\u001b[0m     \u001b[0mevaluator\u001b[0m \u001b[0;34m=\u001b[0m \u001b[0mEvaluator\u001b[0m\u001b[0;34m(\u001b[0m\u001b[0mtrain\u001b[0m\u001b[0;34m,\u001b[0m\u001b[0mtest\u001b[0m\u001b[0;34m,\u001b[0m\u001b[0mpre2\u001b[0m\u001b[0;34m)\u001b[0m\u001b[0;34m\u001b[0m\u001b[0m\n\u001b[0;32m----> 8\u001b[0;31m     \u001b[0;34m(\u001b[0m\u001b[0mprecise\u001b[0m\u001b[0;34m,\u001b[0m\u001b[0mrecall\u001b[0m\u001b[0;34m,\u001b[0m\u001b[0mcoverage\u001b[0m\u001b[0;34m,\u001b[0m\u001b[0mpopularity\u001b[0m\u001b[0;34m)\u001b[0m \u001b[0;34m=\u001b[0m \u001b[0mevaluate\u001b[0m\u001b[0;34m(\u001b[0m\u001b[0mevaluator\u001b[0m\u001b[0;34m)\u001b[0m\u001b[0;34m\u001b[0m\u001b[0m\n\u001b[0m\u001b[1;32m      9\u001b[0m     print ('alahp:%s, precise:%2.2f%%,  recall:%2.2f%%,  coverage:%2.2f%%,  popularity:%2.2f, time: %s s'\n\u001b[1;32m     10\u001b[0m             %(alaph,precise*100,recall*100,coverage*100,popularity,end-start))\n",
      "\u001b[0;32m<ipython-input-1-3a25489afb31>\u001b[0m in \u001b[0;36mevaluate\u001b[0;34m(evaluator)\u001b[0m\n\u001b[1;32m     62\u001b[0m \u001b[0;32mfrom\u001b[0m \u001b[0mEvaluator\u001b[0m \u001b[0;32mimport\u001b[0m \u001b[0mEvaluator\u001b[0m\u001b[0;34m\u001b[0m\u001b[0m\n\u001b[1;32m     63\u001b[0m \u001b[0;32mdef\u001b[0m \u001b[0mevaluate\u001b[0m\u001b[0;34m(\u001b[0m\u001b[0mevaluator\u001b[0m\u001b[0;34m)\u001b[0m\u001b[0;34m:\u001b[0m\u001b[0;34m\u001b[0m\u001b[0m\n\u001b[0;32m---> 64\u001b[0;31m     \u001b[0mprecise\u001b[0m \u001b[0;34m=\u001b[0m \u001b[0mevaluator\u001b[0m\u001b[0;34m.\u001b[0m\u001b[0mprecision\u001b[0m\u001b[0;34m(\u001b[0m\u001b[0;34m)\u001b[0m\u001b[0;34m\u001b[0m\u001b[0m\n\u001b[0m\u001b[1;32m     65\u001b[0m     \u001b[0mcoverage\u001b[0m \u001b[0;34m=\u001b[0m \u001b[0mevaluator\u001b[0m\u001b[0;34m.\u001b[0m\u001b[0mcoverage\u001b[0m\u001b[0;34m(\u001b[0m\u001b[0;34m)\u001b[0m\u001b[0;34m\u001b[0m\u001b[0m\n\u001b[1;32m     66\u001b[0m     \u001b[0mpopularity\u001b[0m \u001b[0;34m=\u001b[0m \u001b[0mevaluator\u001b[0m\u001b[0;34m.\u001b[0m\u001b[0mpopularity\u001b[0m\u001b[0;34m(\u001b[0m\u001b[0;34m)\u001b[0m\u001b[0;34m\u001b[0m\u001b[0m\n",
      "\u001b[0;32m/root/pythonProject/DeepLearning/recommendation/Amazon/Evaluator.pyc\u001b[0m in \u001b[0;36mprecision\u001b[0;34m(self)\u001b[0m\n\u001b[1;32m     30\u001b[0m         \u001b[0mpre\u001b[0m \u001b[0;34m=\u001b[0m \u001b[0mself\u001b[0m\u001b[0;34m.\u001b[0m\u001b[0mpre\u001b[0m\u001b[0;34m\u001b[0m\u001b[0m\n\u001b[1;32m     31\u001b[0m         \u001b[0mcond\u001b[0m \u001b[0;34m=\u001b[0m \u001b[0;34m[\u001b[0m\u001b[0mpre\u001b[0m\u001b[0;34m.\u001b[0m\u001b[0muser\u001b[0m \u001b[0;34m==\u001b[0m \u001b[0mtest\u001b[0m\u001b[0;34m.\u001b[0m\u001b[0muser\u001b[0m\u001b[0;34m,\u001b[0m\u001b[0mpre\u001b[0m\u001b[0;34m.\u001b[0m\u001b[0mitem\u001b[0m \u001b[0;34m==\u001b[0m \u001b[0mtest\u001b[0m\u001b[0;34m.\u001b[0m\u001b[0mitem\u001b[0m\u001b[0;34m]\u001b[0m\u001b[0;34m\u001b[0m\u001b[0m\n\u001b[0;32m---> 32\u001b[0;31m         \u001b[0mm\u001b[0m \u001b[0;34m=\u001b[0m \u001b[0mpre\u001b[0m\u001b[0;34m.\u001b[0m\u001b[0mcount\u001b[0m\u001b[0;34m(\u001b[0m\u001b[0;34m)\u001b[0m\u001b[0;34m\u001b[0m\u001b[0m\n\u001b[0m\u001b[1;32m     33\u001b[0m         \u001b[0mn\u001b[0m \u001b[0;34m=\u001b[0m \u001b[0mpre\u001b[0m\u001b[0;34m.\u001b[0m\u001b[0mjoin\u001b[0m\u001b[0;34m(\u001b[0m\u001b[0mtest\u001b[0m\u001b[0;34m,\u001b[0m \u001b[0mcond\u001b[0m\u001b[0;34m,\u001b[0m \u001b[0;34m'inner'\u001b[0m\u001b[0;34m)\u001b[0m\u001b[0;34m.\u001b[0m\u001b[0mcount\u001b[0m\u001b[0;34m(\u001b[0m\u001b[0;34m)\u001b[0m\u001b[0;34m\u001b[0m\u001b[0m\n\u001b[1;32m     34\u001b[0m         \u001b[0;32mreturn\u001b[0m \u001b[0mn\u001b[0m\u001b[0;34m*\u001b[0m\u001b[0;36m1.0\u001b[0m\u001b[0;34m/\u001b[0m\u001b[0;34m(\u001b[0m\u001b[0mm\u001b[0m\u001b[0;34m*\u001b[0m\u001b[0;36m1.0\u001b[0m\u001b[0;34m)\u001b[0m\u001b[0;34m\u001b[0m\u001b[0m\n",
      "\u001b[0;32m/root/hadoop-2.6/spark/python/pyspark/sql/dataframe.pyc\u001b[0m in \u001b[0;36mcount\u001b[0;34m(self)\u001b[0m\n\u001b[1;32m    378\u001b[0m         \u001b[0;36m2\u001b[0m\u001b[0;34m\u001b[0m\u001b[0m\n\u001b[1;32m    379\u001b[0m         \"\"\"\n\u001b[0;32m--> 380\u001b[0;31m         \u001b[0;32mreturn\u001b[0m \u001b[0mint\u001b[0m\u001b[0;34m(\u001b[0m\u001b[0mself\u001b[0m\u001b[0;34m.\u001b[0m\u001b[0m_jdf\u001b[0m\u001b[0;34m.\u001b[0m\u001b[0mcount\u001b[0m\u001b[0;34m(\u001b[0m\u001b[0;34m)\u001b[0m\u001b[0;34m)\u001b[0m\u001b[0;34m\u001b[0m\u001b[0m\n\u001b[0m\u001b[1;32m    381\u001b[0m \u001b[0;34m\u001b[0m\u001b[0m\n\u001b[1;32m    382\u001b[0m     \u001b[0;34m@\u001b[0m\u001b[0mignore_unicode_prefix\u001b[0m\u001b[0;34m\u001b[0m\u001b[0m\n",
      "\u001b[0;32m/root/anaconda2/lib/python2.7/site-packages/py4j/java_gateway.pyc\u001b[0m in \u001b[0;36m__call__\u001b[0;34m(self, *args)\u001b[0m\n\u001b[1;32m   1156\u001b[0m             \u001b[0mproto\u001b[0m\u001b[0;34m.\u001b[0m\u001b[0mEND_COMMAND_PART\u001b[0m\u001b[0;34m\u001b[0m\u001b[0m\n\u001b[1;32m   1157\u001b[0m \u001b[0;34m\u001b[0m\u001b[0m\n\u001b[0;32m-> 1158\u001b[0;31m         \u001b[0manswer\u001b[0m \u001b[0;34m=\u001b[0m \u001b[0mself\u001b[0m\u001b[0;34m.\u001b[0m\u001b[0mgateway_client\u001b[0m\u001b[0;34m.\u001b[0m\u001b[0msend_command\u001b[0m\u001b[0;34m(\u001b[0m\u001b[0mcommand\u001b[0m\u001b[0;34m)\u001b[0m\u001b[0;34m\u001b[0m\u001b[0m\n\u001b[0m\u001b[1;32m   1159\u001b[0m         return_value = get_return_value(\n\u001b[1;32m   1160\u001b[0m             answer, self.gateway_client, self.target_id, self.name)\n",
      "\u001b[0;32m/root/anaconda2/lib/python2.7/site-packages/py4j/java_gateway.pyc\u001b[0m in \u001b[0;36msend_command\u001b[0;34m(self, command, retry, binary)\u001b[0m\n\u001b[1;32m    906\u001b[0m         \u001b[0mconnection\u001b[0m \u001b[0;34m=\u001b[0m \u001b[0mself\u001b[0m\u001b[0;34m.\u001b[0m\u001b[0m_get_connection\u001b[0m\u001b[0;34m(\u001b[0m\u001b[0;34m)\u001b[0m\u001b[0;34m\u001b[0m\u001b[0m\n\u001b[1;32m    907\u001b[0m         \u001b[0;32mtry\u001b[0m\u001b[0;34m:\u001b[0m\u001b[0;34m\u001b[0m\u001b[0m\n\u001b[0;32m--> 908\u001b[0;31m             \u001b[0mresponse\u001b[0m \u001b[0;34m=\u001b[0m \u001b[0mconnection\u001b[0m\u001b[0;34m.\u001b[0m\u001b[0msend_command\u001b[0m\u001b[0;34m(\u001b[0m\u001b[0mcommand\u001b[0m\u001b[0;34m)\u001b[0m\u001b[0;34m\u001b[0m\u001b[0m\n\u001b[0m\u001b[1;32m    909\u001b[0m             \u001b[0;32mif\u001b[0m \u001b[0mbinary\u001b[0m\u001b[0;34m:\u001b[0m\u001b[0;34m\u001b[0m\u001b[0m\n\u001b[1;32m    910\u001b[0m                 \u001b[0;32mreturn\u001b[0m \u001b[0mresponse\u001b[0m\u001b[0;34m,\u001b[0m \u001b[0mself\u001b[0m\u001b[0;34m.\u001b[0m\u001b[0m_create_connection_guard\u001b[0m\u001b[0;34m(\u001b[0m\u001b[0mconnection\u001b[0m\u001b[0;34m)\u001b[0m\u001b[0;34m\u001b[0m\u001b[0m\n",
      "\u001b[0;32m/root/anaconda2/lib/python2.7/site-packages/py4j/java_gateway.pyc\u001b[0m in \u001b[0;36msend_command\u001b[0;34m(self, command)\u001b[0m\n\u001b[1;32m   1053\u001b[0m \u001b[0;34m\u001b[0m\u001b[0m\n\u001b[1;32m   1054\u001b[0m         \u001b[0;32mtry\u001b[0m\u001b[0;34m:\u001b[0m\u001b[0;34m\u001b[0m\u001b[0m\n\u001b[0;32m-> 1055\u001b[0;31m             \u001b[0manswer\u001b[0m \u001b[0;34m=\u001b[0m \u001b[0msmart_decode\u001b[0m\u001b[0;34m(\u001b[0m\u001b[0mself\u001b[0m\u001b[0;34m.\u001b[0m\u001b[0mstream\u001b[0m\u001b[0;34m.\u001b[0m\u001b[0mreadline\u001b[0m\u001b[0;34m(\u001b[0m\u001b[0;34m)\u001b[0m\u001b[0;34m[\u001b[0m\u001b[0;34m:\u001b[0m\u001b[0;34m-\u001b[0m\u001b[0;36m1\u001b[0m\u001b[0;34m]\u001b[0m\u001b[0;34m)\u001b[0m\u001b[0;34m\u001b[0m\u001b[0m\n\u001b[0m\u001b[1;32m   1056\u001b[0m             \u001b[0mlogger\u001b[0m\u001b[0;34m.\u001b[0m\u001b[0mdebug\u001b[0m\u001b[0;34m(\u001b[0m\u001b[0;34m\"Answer received: {0}\"\u001b[0m\u001b[0;34m.\u001b[0m\u001b[0mformat\u001b[0m\u001b[0;34m(\u001b[0m\u001b[0manswer\u001b[0m\u001b[0;34m)\u001b[0m\u001b[0;34m)\u001b[0m\u001b[0;34m\u001b[0m\u001b[0m\n\u001b[1;32m   1057\u001b[0m             \u001b[0;32mif\u001b[0m \u001b[0manswer\u001b[0m\u001b[0;34m.\u001b[0m\u001b[0mstartswith\u001b[0m\u001b[0;34m(\u001b[0m\u001b[0mproto\u001b[0m\u001b[0;34m.\u001b[0m\u001b[0mRETURN_MESSAGE\u001b[0m\u001b[0;34m)\u001b[0m\u001b[0;34m:\u001b[0m\u001b[0;34m\u001b[0m\u001b[0m\n",
      "\u001b[0;32m/root/anaconda2/lib/python2.7/socket.pyc\u001b[0m in \u001b[0;36mreadline\u001b[0;34m(self, size)\u001b[0m\n\u001b[1;32m    449\u001b[0m             \u001b[0;32mwhile\u001b[0m \u001b[0mTrue\u001b[0m\u001b[0;34m:\u001b[0m\u001b[0;34m\u001b[0m\u001b[0m\n\u001b[1;32m    450\u001b[0m                 \u001b[0;32mtry\u001b[0m\u001b[0;34m:\u001b[0m\u001b[0;34m\u001b[0m\u001b[0m\n\u001b[0;32m--> 451\u001b[0;31m                     \u001b[0mdata\u001b[0m \u001b[0;34m=\u001b[0m \u001b[0mself\u001b[0m\u001b[0;34m.\u001b[0m\u001b[0m_sock\u001b[0m\u001b[0;34m.\u001b[0m\u001b[0mrecv\u001b[0m\u001b[0;34m(\u001b[0m\u001b[0mself\u001b[0m\u001b[0;34m.\u001b[0m\u001b[0m_rbufsize\u001b[0m\u001b[0;34m)\u001b[0m\u001b[0;34m\u001b[0m\u001b[0m\n\u001b[0m\u001b[1;32m    452\u001b[0m                 \u001b[0;32mexcept\u001b[0m \u001b[0merror\u001b[0m\u001b[0;34m,\u001b[0m \u001b[0me\u001b[0m\u001b[0;34m:\u001b[0m\u001b[0;34m\u001b[0m\u001b[0m\n\u001b[1;32m    453\u001b[0m                     \u001b[0;32mif\u001b[0m \u001b[0me\u001b[0m\u001b[0;34m.\u001b[0m\u001b[0margs\u001b[0m\u001b[0;34m[\u001b[0m\u001b[0;36m0\u001b[0m\u001b[0;34m]\u001b[0m \u001b[0;34m==\u001b[0m \u001b[0mEINTR\u001b[0m\u001b[0;34m:\u001b[0m\u001b[0;34m\u001b[0m\u001b[0m\n",
      "\u001b[0;31mKeyboardInterrupt\u001b[0m: "
     ]
    }
   ],
   "source": [
    "x=pre.join(ratingDf.groupBy('item').agg(count('*').alias('item_count')).withColumn('Pop',log2(col('item_count')+1)),on='item')\n",
    "for alaph in xrange(6,10):\n",
    "    y = x.select('user','item',(0*col('prediction')+alaph*col('Pop')).alias(('prediction')))\n",
    "    pre2 = y.join(train,[train.item==y.item,train.user==y.user],'left_anti')\n",
    "    window = Window.partitionBy('user').orderBy(desc('prediction'))\n",
    "    pre2 = pre2.select('user','item',col('prediction').alias('rating'),rank().over(window).alias('rank')).filter('rank<=10')\n",
    "    evaluator = Evaluator(train,test,pre2)\n",
    "    (precise,recall,coverage,popularity) = evaluate(evaluator)\n",
    "    print ('alahp:%s, precise:%2.2f%%,  recall:%2.2f%%,  coverage:%2.2f%%,  popularity:%2.2f, time: %s s'\n",
    "            %(alaph,precise*100,recall*100,coverage*100,popularity,end-start))"
   ]
  },
  {
   "cell_type": "code",
   "execution_count": 6,
   "metadata": {},
   "outputs": [
    {
     "name": "stdout",
     "output_type": "stream",
     "text": [
      "+-------+------------------+-----------------+\n",
      "|summary|        user_count|       item_count|\n",
      "+-------+------------------+-----------------+\n",
      "|  count|          21185128|         12650775|\n",
      "|   mean| 6.742087184934639| 11.2903739098988|\n",
      "| stddev|26.665782760139393|92.66059878026209|\n",
      "|    min|                 1|                1|\n",
      "|    max|             47018|            37600|\n",
      "+-------+------------------+-----------------+\n",
      "\n",
      "稀疏度：0.000053%\n"
     ]
    },
    {
     "data": {
      "text/plain": [
       "<matplotlib.axes._subplots.AxesSubplot at 0x7f55518266d0>"
      ]
     },
     "execution_count": 6,
     "metadata": {},
     "output_type": "execute_result"
    },
    {
     "data": {
      "image/png": "[encoded data removed]",
      "text/plain": [
       "<matplotlib.figure.Figure at 0x7f56ad704a50>"
      ]
     },
     "metadata": {},
     "output_type": "display_data"
    },
    {
     "data": {
      "image/png": "[encoded data removed]",
      "text/plain": [
       "<matplotlib.figure.Figure at 0x7f555183e150>"
      ]
     },
     "metadata": {},
     "output_type": "display_data"
    }
   ],
   "source": [
    "import matplotlib.pyplot as plt\n",
    "%matplotlib inline\n",
    "n = ratingDf.count()\n",
    "ui_count  = ratingDf.agg(count('*').alias('ui'))\n",
    "user_count = ratingDf.groupBy('user').agg(count('*').alias('user_count'))\n",
    "item_count = ratingDf.groupBy('item').agg(count('*').alias('item_count'))\n",
    "count_union = user_count.describe('user_count')\\\n",
    "          .join(item_count.describe('item_count'),on='summary',how='inner')\n",
    "count_union.show()\n",
    "print '稀疏度：%f%%' % (n/(21185128*12650775*1.0)*100)\n",
    "user_count.toPandas().plot.hist(bins=30)\n",
    "item_count.toPandas().plot.hist(bins=30)"
   ]
  },
  {
   "cell_type": "code",
   "execution_count": 7,
   "metadata": {
    "collapsed": true
   },
   "outputs": [],
   "source": [
    "sc.stop()\n",
    "spark.stop()"
   ]
  }
 ],
 "metadata": {
  "kernelspec": {
   "display_name": "Python 2",
   "language": "python",
   "name": "python2"
  },
  "language_info": {
   "codemirror_mode": {
    "name": "ipython",
    "version": 2
   },
   "file_extension": ".py",
   "mimetype": "text/x-python",
   "name": "python",
   "nbconvert_exporter": "python",
   "pygments_lexer": "ipython2",
   "version": "2.7.14"
  }
 },
 "nbformat": 4,
 "nbformat_minor": 2
}
